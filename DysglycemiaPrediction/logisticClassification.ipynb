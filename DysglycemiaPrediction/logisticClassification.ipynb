{
 "cells": [
  {
   "metadata": {},
   "cell_type": "markdown",
   "source": [
    "# Logistic Regression (Tuned and Regularised)\n",
    "Developed by Zion Knight (s3906411)"
   ],
   "id": "f421448bdbf1b56c"
  },
  {
   "metadata": {
    "ExecuteTime": {
     "end_time": "2025-06-06T03:14:15.573343Z",
     "start_time": "2025-06-06T03:14:15.180414Z"
    }
   },
   "cell_type": "code",
   "source": [
    "import pandas as pd\n",
    "import numpy as np\n",
    "import matplotlib.pyplot as plt\n",
    "import seaborn as sns\n",
    "from sklearn.model_selection import train_test_split\n",
    "from sklearn.linear_model import LogisticRegression\n",
    "from sklearn.metrics import confusion_matrix, classification_report, roc_auc_score\n",
    "from sklearn.preprocessing import StandardScaler, MinMaxScaler\n",
    "from sklearn.model_selection import GridSearchCV\n",
    "from sklearn.pipeline import Pipeline\n",
    "from sklearn.decomposition import PCA\n",
    "from sklearn.preprocessing import StandardScaler\n",
    "\n",
    "dataFile = 'data/chartEventsPred.csv'"
   ],
   "id": "eb8d7245afb17acd",
   "outputs": [],
   "execution_count": 1
  },
  {
   "metadata": {},
   "cell_type": "markdown",
   "source": "Read in the data",
   "id": "a58a808463033392"
  },
  {
   "metadata": {
    "ExecuteTime": {
     "end_time": "2025-06-06T03:14:20.010011Z",
     "start_time": "2025-06-06T03:14:18.127711Z"
    }
   },
   "cell_type": "code",
   "source": [
    "data = pd.read_csv(dataFile)\n",
    "data.head()"
   ],
   "id": "30c45e28c03877ea",
   "outputs": [
    {
     "data": {
      "text/plain": [
       "   subject_id   label            charttime  glucose  next_glucose  mean_last3  \\\n",
       "0    10001217  normal  2157-12-19 22:00:00    145.0         113.0  129.000000   \n",
       "1    10001725  normal  2110-04-11 18:02:00    146.0         152.0  153.500000   \n",
       "2    10001884  normal  2131-01-11 06:37:00    140.0         145.0  144.000000   \n",
       "3    10001884   hyper  2131-01-12 03:34:00    145.0         199.0  144.333333   \n",
       "4    10001884  normal  2131-01-13 04:29:00    199.0         177.0  161.333333   \n",
       "\n",
       "   std_last3  trend        BUN  Creatinine  Diastolic Blood Pressure  \\\n",
       "0  22.627417   32.0   9.500000    0.450000                 77.720000   \n",
       "1  10.606602  -15.0  17.000000    0.800000                 61.187500   \n",
       "2   5.656854   -8.0  26.785714    0.885714                 74.669683   \n",
       "3   4.041452    5.0  26.785714    0.885714                 74.669683   \n",
       "4  32.715949   54.0  26.785714    0.885714                 74.669683   \n",
       "\n",
       "   Heart Rate  Hemoglobin  Mean Blood Pressure  O2 Saturation        PTT  \\\n",
       "0   86.711538   11.750000            88.673469      95.019231  32.700000   \n",
       "1   79.156250   13.250000            70.062500      98.225806  30.600000   \n",
       "2   70.800000    8.670588            90.529412      97.589286  58.061765   \n",
       "3   70.800000    8.670588            90.529412      97.589286  58.061765   \n",
       "4   70.800000    8.670588            90.529412      97.589286  58.061765   \n",
       "\n",
       "   Respiratory Rate  Sodium  Systolic Blood Pressure    WBC  \n",
       "0         19.038462   138.5               126.900000  13.70  \n",
       "1         17.531250   139.0               100.406250  18.55  \n",
       "2         19.044444   136.5               129.176471  12.78  \n",
       "3         19.044444   136.5               129.176471  12.78  \n",
       "4         19.044444   136.5               129.176471  12.78  "
      ],
      "text/html": [
       "<div>\n",
       "<style scoped>\n",
       "    .dataframe tbody tr th:only-of-type {\n",
       "        vertical-align: middle;\n",
       "    }\n",
       "\n",
       "    .dataframe tbody tr th {\n",
       "        vertical-align: top;\n",
       "    }\n",
       "\n",
       "    .dataframe thead th {\n",
       "        text-align: right;\n",
       "    }\n",
       "</style>\n",
       "<table border=\"1\" class=\"dataframe\">\n",
       "  <thead>\n",
       "    <tr style=\"text-align: right;\">\n",
       "      <th></th>\n",
       "      <th>subject_id</th>\n",
       "      <th>label</th>\n",
       "      <th>charttime</th>\n",
       "      <th>glucose</th>\n",
       "      <th>next_glucose</th>\n",
       "      <th>mean_last3</th>\n",
       "      <th>std_last3</th>\n",
       "      <th>trend</th>\n",
       "      <th>BUN</th>\n",
       "      <th>Creatinine</th>\n",
       "      <th>Diastolic Blood Pressure</th>\n",
       "      <th>Heart Rate</th>\n",
       "      <th>Hemoglobin</th>\n",
       "      <th>Mean Blood Pressure</th>\n",
       "      <th>O2 Saturation</th>\n",
       "      <th>PTT</th>\n",
       "      <th>Respiratory Rate</th>\n",
       "      <th>Sodium</th>\n",
       "      <th>Systolic Blood Pressure</th>\n",
       "      <th>WBC</th>\n",
       "    </tr>\n",
       "  </thead>\n",
       "  <tbody>\n",
       "    <tr>\n",
       "      <th>0</th>\n",
       "      <td>10001217</td>\n",
       "      <td>normal</td>\n",
       "      <td>2157-12-19 22:00:00</td>\n",
       "      <td>145.0</td>\n",
       "      <td>113.0</td>\n",
       "      <td>129.000000</td>\n",
       "      <td>22.627417</td>\n",
       "      <td>32.0</td>\n",
       "      <td>9.500000</td>\n",
       "      <td>0.450000</td>\n",
       "      <td>77.720000</td>\n",
       "      <td>86.711538</td>\n",
       "      <td>11.750000</td>\n",
       "      <td>88.673469</td>\n",
       "      <td>95.019231</td>\n",
       "      <td>32.700000</td>\n",
       "      <td>19.038462</td>\n",
       "      <td>138.5</td>\n",
       "      <td>126.900000</td>\n",
       "      <td>13.70</td>\n",
       "    </tr>\n",
       "    <tr>\n",
       "      <th>1</th>\n",
       "      <td>10001725</td>\n",
       "      <td>normal</td>\n",
       "      <td>2110-04-11 18:02:00</td>\n",
       "      <td>146.0</td>\n",
       "      <td>152.0</td>\n",
       "      <td>153.500000</td>\n",
       "      <td>10.606602</td>\n",
       "      <td>-15.0</td>\n",
       "      <td>17.000000</td>\n",
       "      <td>0.800000</td>\n",
       "      <td>61.187500</td>\n",
       "      <td>79.156250</td>\n",
       "      <td>13.250000</td>\n",
       "      <td>70.062500</td>\n",
       "      <td>98.225806</td>\n",
       "      <td>30.600000</td>\n",
       "      <td>17.531250</td>\n",
       "      <td>139.0</td>\n",
       "      <td>100.406250</td>\n",
       "      <td>18.55</td>\n",
       "    </tr>\n",
       "    <tr>\n",
       "      <th>2</th>\n",
       "      <td>10001884</td>\n",
       "      <td>normal</td>\n",
       "      <td>2131-01-11 06:37:00</td>\n",
       "      <td>140.0</td>\n",
       "      <td>145.0</td>\n",
       "      <td>144.000000</td>\n",
       "      <td>5.656854</td>\n",
       "      <td>-8.0</td>\n",
       "      <td>26.785714</td>\n",
       "      <td>0.885714</td>\n",
       "      <td>74.669683</td>\n",
       "      <td>70.800000</td>\n",
       "      <td>8.670588</td>\n",
       "      <td>90.529412</td>\n",
       "      <td>97.589286</td>\n",
       "      <td>58.061765</td>\n",
       "      <td>19.044444</td>\n",
       "      <td>136.5</td>\n",
       "      <td>129.176471</td>\n",
       "      <td>12.78</td>\n",
       "    </tr>\n",
       "    <tr>\n",
       "      <th>3</th>\n",
       "      <td>10001884</td>\n",
       "      <td>hyper</td>\n",
       "      <td>2131-01-12 03:34:00</td>\n",
       "      <td>145.0</td>\n",
       "      <td>199.0</td>\n",
       "      <td>144.333333</td>\n",
       "      <td>4.041452</td>\n",
       "      <td>5.0</td>\n",
       "      <td>26.785714</td>\n",
       "      <td>0.885714</td>\n",
       "      <td>74.669683</td>\n",
       "      <td>70.800000</td>\n",
       "      <td>8.670588</td>\n",
       "      <td>90.529412</td>\n",
       "      <td>97.589286</td>\n",
       "      <td>58.061765</td>\n",
       "      <td>19.044444</td>\n",
       "      <td>136.5</td>\n",
       "      <td>129.176471</td>\n",
       "      <td>12.78</td>\n",
       "    </tr>\n",
       "    <tr>\n",
       "      <th>4</th>\n",
       "      <td>10001884</td>\n",
       "      <td>normal</td>\n",
       "      <td>2131-01-13 04:29:00</td>\n",
       "      <td>199.0</td>\n",
       "      <td>177.0</td>\n",
       "      <td>161.333333</td>\n",
       "      <td>32.715949</td>\n",
       "      <td>54.0</td>\n",
       "      <td>26.785714</td>\n",
       "      <td>0.885714</td>\n",
       "      <td>74.669683</td>\n",
       "      <td>70.800000</td>\n",
       "      <td>8.670588</td>\n",
       "      <td>90.529412</td>\n",
       "      <td>97.589286</td>\n",
       "      <td>58.061765</td>\n",
       "      <td>19.044444</td>\n",
       "      <td>136.5</td>\n",
       "      <td>129.176471</td>\n",
       "      <td>12.78</td>\n",
       "    </tr>\n",
       "  </tbody>\n",
       "</table>\n",
       "</div>"
      ]
     },
     "execution_count": 2,
     "metadata": {},
     "output_type": "execute_result"
    }
   ],
   "execution_count": 2
  },
  {
   "metadata": {
    "ExecuteTime": {
     "end_time": "2025-06-06T03:14:21.357678Z",
     "start_time": "2025-06-06T03:14:21.203643Z"
    }
   },
   "cell_type": "code",
   "source": "data.isnull().sum()",
   "id": "565ee714fbee9500",
   "outputs": [
    {
     "data": {
      "text/plain": [
       "subject_id                  0\n",
       "label                       0\n",
       "charttime                   0\n",
       "glucose                     0\n",
       "next_glucose                0\n",
       "mean_last3                  0\n",
       "std_last3                   0\n",
       "trend                       0\n",
       "BUN                         0\n",
       "Creatinine                  0\n",
       "Diastolic Blood Pressure    0\n",
       "Heart Rate                  0\n",
       "Hemoglobin                  0\n",
       "Mean Blood Pressure         0\n",
       "O2 Saturation               0\n",
       "PTT                         0\n",
       "Respiratory Rate            0\n",
       "Sodium                      0\n",
       "Systolic Blood Pressure     0\n",
       "WBC                         0\n",
       "dtype: int64"
      ]
     },
     "execution_count": 3,
     "metadata": {},
     "output_type": "execute_result"
    }
   ],
   "execution_count": 3
  },
  {
   "metadata": {
    "ExecuteTime": {
     "end_time": "2025-06-06T03:14:22.684762Z",
     "start_time": "2025-06-06T03:14:22.671759Z"
    }
   },
   "cell_type": "code",
   "source": "data.shape",
   "id": "edbb1e3f036b7fc7",
   "outputs": [
    {
     "data": {
      "text/plain": [
       "(914655, 20)"
      ]
     },
     "execution_count": 4,
     "metadata": {},
     "output_type": "execute_result"
    }
   ],
   "execution_count": 4
  },
  {
   "metadata": {},
   "cell_type": "markdown",
   "source": "Clean up missing values and deidentify data",
   "id": "3cb303ed2cbc8bbc"
  },
  {
   "metadata": {
    "ExecuteTime": {
     "end_time": "2025-06-06T03:14:24.177480Z",
     "start_time": "2025-06-06T03:14:23.818895Z"
    }
   },
   "cell_type": "code",
   "source": [
    "data = data.dropna()\n",
    "data.isnull().sum()\n",
    "data.drop(['subject_id', 'charttime', 'next_glucose'], axis=1, inplace=True)\n",
    "data.shape"
   ],
   "id": "3b38b4ea20cdefaf",
   "outputs": [
    {
     "data": {
      "text/plain": [
       "(914655, 17)"
      ]
     },
     "execution_count": 5,
     "metadata": {},
     "output_type": "execute_result"
    }
   ],
   "execution_count": 5
  },
  {
   "metadata": {},
   "cell_type": "markdown",
   "source": "Data exploration",
   "id": "55672b8d529aa45b"
  },
  {
   "metadata": {
    "ExecuteTime": {
     "end_time": "2025-06-06T03:14:37.506626Z",
     "start_time": "2025-06-06T03:14:37.273611Z"
    }
   },
   "cell_type": "code",
   "source": "data.describe()",
   "id": "a5f16bf0d8571766",
   "outputs": [
    {
     "data": {
      "text/plain": [
       "             glucose     mean_last3      std_last3          trend  \\\n",
       "count  914655.000000  914655.000000  914655.000000  914655.000000   \n",
       "mean      144.578997     145.013717      21.774393      -0.404588   \n",
       "std        55.057266      49.459708      22.017058      41.085449   \n",
       "min        20.000000      21.666667       0.000000    -880.000000   \n",
       "25%       110.000000     113.583333       8.962886     -17.000000   \n",
       "50%       132.000000     133.333333      16.010413      -1.000000   \n",
       "75%       164.000000     162.666667      27.392213      16.000000   \n",
       "max      1000.000000     885.333333     584.777308     907.000000   \n",
       "\n",
       "                 BUN     Creatinine  Diastolic Blood Pressure     Heart Rate  \\\n",
       "count  914655.000000  914655.000000             914655.000000  914655.000000   \n",
       "mean       24.206049       1.065083                 62.462120      85.100259   \n",
       "std        12.172764       0.471067                  8.814706      11.384413   \n",
       "min         1.000000       0.076190                 36.975427      46.827586   \n",
       "25%        14.730769       0.714286                 56.285714      77.038462   \n",
       "50%        21.200000       0.950000                 61.846885      84.570455   \n",
       "75%        31.666667       1.325000                 67.988372      92.696703   \n",
       "max        58.000000       2.450000                 91.115942     120.666667   \n",
       "\n",
       "          Hemoglobin  Mean Blood Pressure  O2 Saturation            PTT  \\\n",
       "count  914655.000000        914655.000000  914655.000000  914655.000000   \n",
       "mean        9.872240            78.801288      96.933580      35.347523   \n",
       "std         1.491851             8.379668       1.329479       9.306082   \n",
       "min         5.500000            53.450000      92.428571      17.300000   \n",
       "25%         8.758065            72.727273      96.071147      28.270833   \n",
       "50%         9.606667            77.774026      97.031707      32.240000   \n",
       "75%        10.725000            84.094118      97.889344      41.023611   \n",
       "max        15.800000           106.000000     100.414493      59.016667   \n",
       "\n",
       "       Respiratory Rate         Sodium  Systolic Blood Pressure            WBC  \n",
       "count     914655.000000  914655.000000            914655.000000  914655.000000  \n",
       "mean          19.601873     138.946948               118.954190      13.588411  \n",
       "std            2.909948       3.450008                12.542660       5.240596  \n",
       "min           10.452830     129.357143                80.133333       0.100000  \n",
       "25%           17.484663     136.666667               109.878947       9.872973  \n",
       "50%           19.441026     138.800000               117.727273      12.727273  \n",
       "75%           21.536960     141.230769               127.176724      16.366667  \n",
       "max           27.716981     148.000000               158.623188      29.325000  "
      ],
      "text/html": [
       "<div>\n",
       "<style scoped>\n",
       "    .dataframe tbody tr th:only-of-type {\n",
       "        vertical-align: middle;\n",
       "    }\n",
       "\n",
       "    .dataframe tbody tr th {\n",
       "        vertical-align: top;\n",
       "    }\n",
       "\n",
       "    .dataframe thead th {\n",
       "        text-align: right;\n",
       "    }\n",
       "</style>\n",
       "<table border=\"1\" class=\"dataframe\">\n",
       "  <thead>\n",
       "    <tr style=\"text-align: right;\">\n",
       "      <th></th>\n",
       "      <th>glucose</th>\n",
       "      <th>mean_last3</th>\n",
       "      <th>std_last3</th>\n",
       "      <th>trend</th>\n",
       "      <th>BUN</th>\n",
       "      <th>Creatinine</th>\n",
       "      <th>Diastolic Blood Pressure</th>\n",
       "      <th>Heart Rate</th>\n",
       "      <th>Hemoglobin</th>\n",
       "      <th>Mean Blood Pressure</th>\n",
       "      <th>O2 Saturation</th>\n",
       "      <th>PTT</th>\n",
       "      <th>Respiratory Rate</th>\n",
       "      <th>Sodium</th>\n",
       "      <th>Systolic Blood Pressure</th>\n",
       "      <th>WBC</th>\n",
       "    </tr>\n",
       "  </thead>\n",
       "  <tbody>\n",
       "    <tr>\n",
       "      <th>count</th>\n",
       "      <td>914655.000000</td>\n",
       "      <td>914655.000000</td>\n",
       "      <td>914655.000000</td>\n",
       "      <td>914655.000000</td>\n",
       "      <td>914655.000000</td>\n",
       "      <td>914655.000000</td>\n",
       "      <td>914655.000000</td>\n",
       "      <td>914655.000000</td>\n",
       "      <td>914655.000000</td>\n",
       "      <td>914655.000000</td>\n",
       "      <td>914655.000000</td>\n",
       "      <td>914655.000000</td>\n",
       "      <td>914655.000000</td>\n",
       "      <td>914655.000000</td>\n",
       "      <td>914655.000000</td>\n",
       "      <td>914655.000000</td>\n",
       "    </tr>\n",
       "    <tr>\n",
       "      <th>mean</th>\n",
       "      <td>144.578997</td>\n",
       "      <td>145.013717</td>\n",
       "      <td>21.774393</td>\n",
       "      <td>-0.404588</td>\n",
       "      <td>24.206049</td>\n",
       "      <td>1.065083</td>\n",
       "      <td>62.462120</td>\n",
       "      <td>85.100259</td>\n",
       "      <td>9.872240</td>\n",
       "      <td>78.801288</td>\n",
       "      <td>96.933580</td>\n",
       "      <td>35.347523</td>\n",
       "      <td>19.601873</td>\n",
       "      <td>138.946948</td>\n",
       "      <td>118.954190</td>\n",
       "      <td>13.588411</td>\n",
       "    </tr>\n",
       "    <tr>\n",
       "      <th>std</th>\n",
       "      <td>55.057266</td>\n",
       "      <td>49.459708</td>\n",
       "      <td>22.017058</td>\n",
       "      <td>41.085449</td>\n",
       "      <td>12.172764</td>\n",
       "      <td>0.471067</td>\n",
       "      <td>8.814706</td>\n",
       "      <td>11.384413</td>\n",
       "      <td>1.491851</td>\n",
       "      <td>8.379668</td>\n",
       "      <td>1.329479</td>\n",
       "      <td>9.306082</td>\n",
       "      <td>2.909948</td>\n",
       "      <td>3.450008</td>\n",
       "      <td>12.542660</td>\n",
       "      <td>5.240596</td>\n",
       "    </tr>\n",
       "    <tr>\n",
       "      <th>min</th>\n",
       "      <td>20.000000</td>\n",
       "      <td>21.666667</td>\n",
       "      <td>0.000000</td>\n",
       "      <td>-880.000000</td>\n",
       "      <td>1.000000</td>\n",
       "      <td>0.076190</td>\n",
       "      <td>36.975427</td>\n",
       "      <td>46.827586</td>\n",
       "      <td>5.500000</td>\n",
       "      <td>53.450000</td>\n",
       "      <td>92.428571</td>\n",
       "      <td>17.300000</td>\n",
       "      <td>10.452830</td>\n",
       "      <td>129.357143</td>\n",
       "      <td>80.133333</td>\n",
       "      <td>0.100000</td>\n",
       "    </tr>\n",
       "    <tr>\n",
       "      <th>25%</th>\n",
       "      <td>110.000000</td>\n",
       "      <td>113.583333</td>\n",
       "      <td>8.962886</td>\n",
       "      <td>-17.000000</td>\n",
       "      <td>14.730769</td>\n",
       "      <td>0.714286</td>\n",
       "      <td>56.285714</td>\n",
       "      <td>77.038462</td>\n",
       "      <td>8.758065</td>\n",
       "      <td>72.727273</td>\n",
       "      <td>96.071147</td>\n",
       "      <td>28.270833</td>\n",
       "      <td>17.484663</td>\n",
       "      <td>136.666667</td>\n",
       "      <td>109.878947</td>\n",
       "      <td>9.872973</td>\n",
       "    </tr>\n",
       "    <tr>\n",
       "      <th>50%</th>\n",
       "      <td>132.000000</td>\n",
       "      <td>133.333333</td>\n",
       "      <td>16.010413</td>\n",
       "      <td>-1.000000</td>\n",
       "      <td>21.200000</td>\n",
       "      <td>0.950000</td>\n",
       "      <td>61.846885</td>\n",
       "      <td>84.570455</td>\n",
       "      <td>9.606667</td>\n",
       "      <td>77.774026</td>\n",
       "      <td>97.031707</td>\n",
       "      <td>32.240000</td>\n",
       "      <td>19.441026</td>\n",
       "      <td>138.800000</td>\n",
       "      <td>117.727273</td>\n",
       "      <td>12.727273</td>\n",
       "    </tr>\n",
       "    <tr>\n",
       "      <th>75%</th>\n",
       "      <td>164.000000</td>\n",
       "      <td>162.666667</td>\n",
       "      <td>27.392213</td>\n",
       "      <td>16.000000</td>\n",
       "      <td>31.666667</td>\n",
       "      <td>1.325000</td>\n",
       "      <td>67.988372</td>\n",
       "      <td>92.696703</td>\n",
       "      <td>10.725000</td>\n",
       "      <td>84.094118</td>\n",
       "      <td>97.889344</td>\n",
       "      <td>41.023611</td>\n",
       "      <td>21.536960</td>\n",
       "      <td>141.230769</td>\n",
       "      <td>127.176724</td>\n",
       "      <td>16.366667</td>\n",
       "    </tr>\n",
       "    <tr>\n",
       "      <th>max</th>\n",
       "      <td>1000.000000</td>\n",
       "      <td>885.333333</td>\n",
       "      <td>584.777308</td>\n",
       "      <td>907.000000</td>\n",
       "      <td>58.000000</td>\n",
       "      <td>2.450000</td>\n",
       "      <td>91.115942</td>\n",
       "      <td>120.666667</td>\n",
       "      <td>15.800000</td>\n",
       "      <td>106.000000</td>\n",
       "      <td>100.414493</td>\n",
       "      <td>59.016667</td>\n",
       "      <td>27.716981</td>\n",
       "      <td>148.000000</td>\n",
       "      <td>158.623188</td>\n",
       "      <td>29.325000</td>\n",
       "    </tr>\n",
       "  </tbody>\n",
       "</table>\n",
       "</div>"
      ]
     },
     "execution_count": 6,
     "metadata": {},
     "output_type": "execute_result"
    }
   ],
   "execution_count": 6
  },
  {
   "metadata": {
    "ExecuteTime": {
     "end_time": "2025-06-06T03:14:39.708908Z",
     "start_time": "2025-06-06T03:14:38.723898Z"
    }
   },
   "cell_type": "code",
   "source": [
    "plt.figure(figsize=(20, 15))\n",
    "sns.boxplot(data=data)\n",
    "plt.show()"
   ],
   "id": "cb717d4e917ac7f",
   "outputs": [
    {
     "data": {
      "text/plain": [
       "<Figure size 1440x1080 with 1 Axes>"
      ],
      "image/png": "[encoded data removed]"
     },
     "metadata": {},
     "output_type": "display_data"
    }
   ],
   "execution_count": 7
  },
  {
   "metadata": {},
   "cell_type": "markdown",
   "source": "Split tagert and predicting values",
   "id": "484f3c2b31c3e0e1"
  },
  {
   "metadata": {
    "ExecuteTime": {
     "end_time": "2025-06-06T03:15:41.101246Z",
     "start_time": "2025-06-06T03:15:41.063238Z"
    }
   },
   "cell_type": "code",
   "source": [
    "y = data['label']\n",
    "x = data.drop(['label'], axis=1)"
   ],
   "id": "7685044bd46922d2",
   "outputs": [],
   "execution_count": 8
  },
  {
   "metadata": {},
   "cell_type": "markdown",
   "source": "Scale data",
   "id": "1e473f6f99b993ce"
  },
  {
   "metadata": {
    "ExecuteTime": {
     "end_time": "2025-06-06T03:15:42.570968Z",
     "start_time": "2025-06-06T03:15:42.388919Z"
    }
   },
   "cell_type": "code",
   "source": [
    "scaler = StandardScaler()\n",
    "scaler.fit(x)\n",
    "x_scaled = scaler.transform(x)"
   ],
   "id": "1b2288f1b4bd090a",
   "outputs": [],
   "execution_count": 9
  },
  {
   "metadata": {
    "ExecuteTime": {
     "end_time": "2025-06-06T03:15:44.975128Z",
     "start_time": "2025-06-06T03:15:44.045919Z"
    }
   },
   "cell_type": "code",
   "source": [
    "plt.figure(figsize=(20, 15))\n",
    "sns.boxplot(data=x)\n",
    "plt.show()"
   ],
   "id": "604058db514d1825",
   "outputs": [
    {
     "data": {
      "text/plain": [
       "<Figure size 1440x1080 with 1 Axes>"
      ],
      "image/png": "[encoded data removed]"
     },
     "metadata": {},
     "output_type": "display_data"
    }
   ],
   "execution_count": 10
  },
  {
   "metadata": {},
   "cell_type": "markdown",
   "source": "Split training and testing sets",
   "id": "25ff2c03f4a9eabd"
  },
  {
   "metadata": {
    "ExecuteTime": {
     "end_time": "2025-06-06T03:15:47.298456Z",
     "start_time": "2025-06-06T03:15:47.098668Z"
    }
   },
   "cell_type": "code",
   "source": "x_train, x_test, y_train, y_test = train_test_split(x_scaled, y, test_size=0.2, random_state=1)",
   "id": "67315ead515dac89",
   "outputs": [],
   "execution_count": 11
  },
  {
   "metadata": {},
   "cell_type": "markdown",
   "source": "Tune the model using validation data (cross-fold)",
   "id": "1a807f949124b2a9"
  },
  {
   "metadata": {
    "ExecuteTime": {
     "end_time": "2025-06-06T03:15:48.607799Z",
     "start_time": "2025-06-06T03:15:48.597796Z"
    }
   },
   "cell_type": "code",
   "source": [
    "log_reg = LogisticRegression(\n",
    "    penalty='l2',\n",
    "    solver='lbfgs',\n",
    "    multi_class='multinomial',\n",
    "    max_iter=1000\n",
    ")"
   ],
   "id": "256ff4f6a86f10b7",
   "outputs": [],
   "execution_count": 12
  },
  {
   "metadata": {
    "ExecuteTime": {
     "end_time": "2025-06-06T03:21:20.691046Z",
     "start_time": "2025-06-06T03:15:50.077370Z"
    }
   },
   "cell_type": "code",
   "source": [
    "param_grid = {\n",
    "    'C': [0.01, 0.1, 1, 10, 100],\n",
    "}\n",
    "\n",
    "grid_search = GridSearchCV(log_reg, param_grid, cv=5, scoring='accuracy')\n",
    "grid_search.fit(x_train, y_train)"
   ],
   "id": "97f24e7f7d0f1364",
   "outputs": [
    {
     "data": {
      "text/plain": [
       "GridSearchCV(cv=5,\n",
       "             estimator=LogisticRegression(max_iter=1000,\n",
       "                                          multi_class='multinomial'),\n",
       "             param_grid={'C': [0.01, 0.1, 1, 10, 100]}, scoring='accuracy')"
      ]
     },
     "execution_count": 13,
     "metadata": {},
     "output_type": "execute_result"
    }
   ],
   "execution_count": 13
  },
  {
   "metadata": {},
   "cell_type": "markdown",
   "source": "Predict using the test set and evaluate performance",
   "id": "d2d00a2a37504d0a"
  },
  {
   "metadata": {
    "ExecuteTime": {
     "end_time": "2025-06-06T03:21:33.368927Z",
     "start_time": "2025-06-06T03:21:33.356453Z"
    }
   },
   "cell_type": "code",
   "source": "model = grid_search.best_estimator_",
   "id": "ae0cacf896e6fea4",
   "outputs": [],
   "execution_count": 14
  },
  {
   "metadata": {
    "ExecuteTime": {
     "end_time": "2025-06-06T03:21:39.212466Z",
     "start_time": "2025-06-06T03:21:35.919033Z"
    }
   },
   "cell_type": "code",
   "source": [
    "y_pred = model.predict(x_test)\n",
    "print(\"Test Data Classification Report:\")\n",
    "print(classification_report(y_test, y_pred))"
   ],
   "id": "e282e044d0f693bd",
   "outputs": [
    {
     "name": "stdout",
     "output_type": "stream",
     "text": [
      "Test Data Classification Report:\n",
      "              precision    recall  f1-score   support\n",
      "\n",
      "       hyper       0.78      0.49      0.60     32563\n",
      "        hypo       0.31      0.01      0.02      2401\n",
      "      normal       0.88      0.97      0.92    147967\n",
      "\n",
      "    accuracy                           0.87    182931\n",
      "   macro avg       0.66      0.49      0.52    182931\n",
      "weighted avg       0.86      0.87      0.86    182931\n",
      "\n"
     ]
    }
   ],
   "execution_count": 15
  },
  {
   "metadata": {
    "ExecuteTime": {
     "end_time": "2025-06-06T03:21:47.452182Z",
     "start_time": "2025-06-06T03:21:47.118107Z"
    }
   },
   "cell_type": "code",
   "source": [
    "y_score = model.predict_proba(x_test)\n",
    "auc = roc_auc_score(y_test, y_score, multi_class='ovr')\n",
    "print(f\"Multiclass ROC AUC (ovr): {auc:.4f}\")"
   ],
   "id": "6ca630bd16bd12b2",
   "outputs": [
    {
     "name": "stdout",
     "output_type": "stream",
     "text": [
      "Multiclass ROC AUC (ovr): 0.8709\n"
     ]
    }
   ],
   "execution_count": 16
  },
  {
   "metadata": {
    "ExecuteTime": {
     "end_time": "2025-06-06T03:21:51.826600Z",
     "start_time": "2025-06-06T03:21:51.433508Z"
    }
   },
   "cell_type": "code",
   "source": [
    "print(\"Confusion Matrix:\")\n",
    "print(confusion_matrix(y_test, y_pred))"
   ],
   "id": "92abc996f6d1db8d",
   "outputs": [
    {
     "name": "stdout",
     "output_type": "stream",
     "text": [
      "Confusion Matrix:\n",
      "[[ 15930     11  16622]\n",
      " [    66     27   2308]\n",
      " [  4374     49 143544]]\n"
     ]
    }
   ],
   "execution_count": 17
  },
  {
   "metadata": {},
   "cell_type": "markdown",
   "source": "Information for result documentation (sample size and features)",
   "id": "97424ca236618207"
  },
  {
   "metadata": {
    "ExecuteTime": {
     "end_time": "2025-06-06T03:22:01.731799Z",
     "start_time": "2025-06-06T03:22:01.725798Z"
    }
   },
   "cell_type": "code",
   "source": [
    "print(\"Columns:\")\n",
    "print(data.columns)\n",
    "print(\"Data size:\")\n",
    "print(data.shape)"
   ],
   "id": "d11c09fc4c02040f",
   "outputs": [
    {
     "name": "stdout",
     "output_type": "stream",
     "text": [
      "Columns:\n",
      "Index(['label', 'glucose', 'mean_last3', 'std_last3', 'trend', 'BUN',\n",
      "       'Creatinine', 'Diastolic Blood Pressure', 'Heart Rate', 'Hemoglobin',\n",
      "       'Mean Blood Pressure', 'O2 Saturation', 'PTT', 'Respiratory Rate',\n",
      "       'Sodium', 'Systolic Blood Pressure', 'WBC'],\n",
      "      dtype='object')\n",
      "Data size:\n",
      "(914655, 17)\n"
     ]
    }
   ],
   "execution_count": 18
  },
  {
   "metadata": {
    "ExecuteTime": {
     "end_time": "2025-06-06T03:22:03.064289Z",
     "start_time": "2025-06-06T03:22:03.048285Z"
    }
   },
   "cell_type": "code",
   "source": "print(\", \".join(data.columns.tolist()))",
   "id": "d53b6fe6d407da58",
   "outputs": [
    {
     "name": "stdout",
     "output_type": "stream",
     "text": [
      "label, glucose, mean_last3, std_last3, trend, BUN, Creatinine, Diastolic Blood Pressure, Heart Rate, Hemoglobin, Mean Blood Pressure, O2 Saturation, PTT, Respiratory Rate, Sodium, Systolic Blood Pressure, WBC\n"
     ]
    }
   ],
   "execution_count": 19
  }
 ],
 "metadata": {
  "kernelspec": {
   "display_name": "Python 3",
   "language": "python",
   "name": "python3"
  },
  "language_info": {
   "codemirror_mode": {
    "name": "ipython",
    "version": 2
   },
   "file_extension": ".py",
   "mimetype": "text/x-python",
   "name": "python",
   "nbconvert_exporter": "python",
   "pygments_lexer": "ipython2",
   "version": "2.7.6"
  }
 },
 "nbformat": 4,
 "nbformat_minor": 5
}
