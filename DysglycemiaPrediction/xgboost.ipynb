{
 "cells": [
  {
   "cell_type": "markdown",
   "id": "f0ce9f9a",
   "metadata": {},
   "source": [
    "## XGBoost Regression Integration"
   ]
  },
  {
   "cell_type": "code",
   "execution_count": 13,
   "id": "5aecd900",
   "metadata": {},
   "outputs": [
    {
     "data": {
      "text/html": [
       "<div>\n",
       "<style scoped>\n",
       "    .dataframe tbody tr th:only-of-type {\n",
       "        vertical-align: middle;\n",
       "    }\n",
       "\n",
       "    .dataframe tbody tr th {\n",
       "        vertical-align: top;\n",
       "    }\n",
       "\n",
       "    .dataframe thead th {\n",
       "        text-align: right;\n",
       "    }\n",
       "</style>\n",
       "<table border=\"1\" class=\"dataframe\">\n",
       "  <thead>\n",
       "    <tr style=\"text-align: right;\">\n",
       "      <th></th>\n",
       "      <th>subject_id</th>\n",
       "      <th>label</th>\n",
       "      <th>charttime</th>\n",
       "      <th>glucose</th>\n",
       "      <th>next_glucose</th>\n",
       "      <th>mean_last3</th>\n",
       "      <th>std_last3</th>\n",
       "      <th>trend</th>\n",
       "      <th>BUN</th>\n",
       "      <th>Blood Pressure</th>\n",
       "      <th>Creatinine</th>\n",
       "      <th>Diastolic Blood Pressure</th>\n",
       "      <th>Heart Rate</th>\n",
       "      <th>Hemoglobin</th>\n",
       "      <th>O2 saturation pulseoxymetry</th>\n",
       "      <th>PTT</th>\n",
       "      <th>Respiratory Rate</th>\n",
       "      <th>Sodium (serum)</th>\n",
       "      <th>Systolic Blood Pressure</th>\n",
       "      <th>WBC</th>\n",
       "    </tr>\n",
       "  </thead>\n",
       "  <tbody>\n",
       "    <tr>\n",
       "      <th>0</th>\n",
       "      <td>10000690</td>\n",
       "      <td>normal</td>\n",
       "      <td>2150-11-03 02:56:00</td>\n",
       "      <td>77.0</td>\n",
       "      <td>84.0</td>\n",
       "      <td>77.000000</td>\n",
       "      <td>NaN</td>\n",
       "      <td>NaN</td>\n",
       "      <td>20.2</td>\n",
       "      <td>74.936170</td>\n",
       "      <td>0.82</td>\n",
       "      <td>60.361702</td>\n",
       "      <td>84.072917</td>\n",
       "      <td>10.175</td>\n",
       "      <td>95.702128</td>\n",
       "      <td>NaN</td>\n",
       "      <td>22.557895</td>\n",
       "      <td>135.2</td>\n",
       "      <td>122.893617</td>\n",
       "      <td>6.35</td>\n",
       "    </tr>\n",
       "    <tr>\n",
       "      <th>1</th>\n",
       "      <td>10000690</td>\n",
       "      <td>normal</td>\n",
       "      <td>2150-11-04 03:03:00</td>\n",
       "      <td>84.0</td>\n",
       "      <td>117.0</td>\n",
       "      <td>80.500000</td>\n",
       "      <td>4.949747</td>\n",
       "      <td>7.0</td>\n",
       "      <td>20.2</td>\n",
       "      <td>74.936170</td>\n",
       "      <td>0.82</td>\n",
       "      <td>60.361702</td>\n",
       "      <td>84.072917</td>\n",
       "      <td>10.175</td>\n",
       "      <td>95.702128</td>\n",
       "      <td>NaN</td>\n",
       "      <td>22.557895</td>\n",
       "      <td>135.2</td>\n",
       "      <td>122.893617</td>\n",
       "      <td>6.35</td>\n",
       "    </tr>\n",
       "    <tr>\n",
       "      <th>2</th>\n",
       "      <td>10000690</td>\n",
       "      <td>normal</td>\n",
       "      <td>2150-11-04 10:00:00</td>\n",
       "      <td>117.0</td>\n",
       "      <td>120.0</td>\n",
       "      <td>92.666667</td>\n",
       "      <td>21.361960</td>\n",
       "      <td>33.0</td>\n",
       "      <td>20.2</td>\n",
       "      <td>74.936170</td>\n",
       "      <td>0.82</td>\n",
       "      <td>60.361702</td>\n",
       "      <td>84.072917</td>\n",
       "      <td>10.175</td>\n",
       "      <td>95.702128</td>\n",
       "      <td>NaN</td>\n",
       "      <td>22.557895</td>\n",
       "      <td>135.2</td>\n",
       "      <td>122.893617</td>\n",
       "      <td>6.35</td>\n",
       "    </tr>\n",
       "    <tr>\n",
       "      <th>3</th>\n",
       "      <td>10000690</td>\n",
       "      <td>normal</td>\n",
       "      <td>2150-11-04 17:54:00</td>\n",
       "      <td>120.0</td>\n",
       "      <td>107.0</td>\n",
       "      <td>107.000000</td>\n",
       "      <td>19.974984</td>\n",
       "      <td>3.0</td>\n",
       "      <td>20.2</td>\n",
       "      <td>74.936170</td>\n",
       "      <td>0.82</td>\n",
       "      <td>60.361702</td>\n",
       "      <td>84.072917</td>\n",
       "      <td>10.175</td>\n",
       "      <td>95.702128</td>\n",
       "      <td>NaN</td>\n",
       "      <td>22.557895</td>\n",
       "      <td>135.2</td>\n",
       "      <td>122.893617</td>\n",
       "      <td>6.35</td>\n",
       "    </tr>\n",
       "    <tr>\n",
       "      <th>4</th>\n",
       "      <td>10000690</td>\n",
       "      <td>normal</td>\n",
       "      <td>2150-11-05 05:36:00</td>\n",
       "      <td>107.0</td>\n",
       "      <td>97.0</td>\n",
       "      <td>114.666667</td>\n",
       "      <td>6.806859</td>\n",
       "      <td>-13.0</td>\n",
       "      <td>20.2</td>\n",
       "      <td>74.936170</td>\n",
       "      <td>0.82</td>\n",
       "      <td>60.361702</td>\n",
       "      <td>84.072917</td>\n",
       "      <td>10.175</td>\n",
       "      <td>95.702128</td>\n",
       "      <td>NaN</td>\n",
       "      <td>22.557895</td>\n",
       "      <td>135.2</td>\n",
       "      <td>122.893617</td>\n",
       "      <td>6.35</td>\n",
       "    </tr>\n",
       "    <tr>\n",
       "      <th>5</th>\n",
       "      <td>10000980</td>\n",
       "      <td>normal</td>\n",
       "      <td>2189-06-27 10:00:00</td>\n",
       "      <td>110.0</td>\n",
       "      <td>109.0</td>\n",
       "      <td>110.000000</td>\n",
       "      <td>NaN</td>\n",
       "      <td>NaN</td>\n",
       "      <td>NaN</td>\n",
       "      <td>97.545455</td>\n",
       "      <td>NaN</td>\n",
       "      <td>83.272727</td>\n",
       "      <td>73.636364</td>\n",
       "      <td>NaN</td>\n",
       "      <td>98.909091</td>\n",
       "      <td>NaN</td>\n",
       "      <td>20.545455</td>\n",
       "      <td>NaN</td>\n",
       "      <td>142.454545</td>\n",
       "      <td>NaN</td>\n",
       "    </tr>\n",
       "    <tr>\n",
       "      <th>6</th>\n",
       "      <td>10001217</td>\n",
       "      <td>normal</td>\n",
       "      <td>2157-11-21 03:16:00</td>\n",
       "      <td>113.0</td>\n",
       "      <td>145.0</td>\n",
       "      <td>113.000000</td>\n",
       "      <td>NaN</td>\n",
       "      <td>NaN</td>\n",
       "      <td>9.5</td>\n",
       "      <td>88.673469</td>\n",
       "      <td>0.45</td>\n",
       "      <td>77.720000</td>\n",
       "      <td>86.711538</td>\n",
       "      <td>11.750</td>\n",
       "      <td>95.019231</td>\n",
       "      <td>32.7</td>\n",
       "      <td>19.038462</td>\n",
       "      <td>138.5</td>\n",
       "      <td>126.900000</td>\n",
       "      <td>13.70</td>\n",
       "    </tr>\n",
       "    <tr>\n",
       "      <th>7</th>\n",
       "      <td>10001217</td>\n",
       "      <td>normal</td>\n",
       "      <td>2157-12-19 22:00:00</td>\n",
       "      <td>145.0</td>\n",
       "      <td>113.0</td>\n",
       "      <td>129.000000</td>\n",
       "      <td>22.627417</td>\n",
       "      <td>32.0</td>\n",
       "      <td>9.5</td>\n",
       "      <td>88.673469</td>\n",
       "      <td>0.45</td>\n",
       "      <td>77.720000</td>\n",
       "      <td>86.711538</td>\n",
       "      <td>11.750</td>\n",
       "      <td>95.019231</td>\n",
       "      <td>32.7</td>\n",
       "      <td>19.038462</td>\n",
       "      <td>138.5</td>\n",
       "      <td>126.900000</td>\n",
       "      <td>13.70</td>\n",
       "    </tr>\n",
       "    <tr>\n",
       "      <th>8</th>\n",
       "      <td>10001725</td>\n",
       "      <td>normal</td>\n",
       "      <td>2110-04-11 17:30:00</td>\n",
       "      <td>161.0</td>\n",
       "      <td>146.0</td>\n",
       "      <td>161.000000</td>\n",
       "      <td>NaN</td>\n",
       "      <td>NaN</td>\n",
       "      <td>17.0</td>\n",
       "      <td>70.062500</td>\n",
       "      <td>0.80</td>\n",
       "      <td>61.187500</td>\n",
       "      <td>79.156250</td>\n",
       "      <td>13.250</td>\n",
       "      <td>98.225806</td>\n",
       "      <td>30.6</td>\n",
       "      <td>17.531250</td>\n",
       "      <td>139.0</td>\n",
       "      <td>100.406250</td>\n",
       "      <td>18.55</td>\n",
       "    </tr>\n",
       "    <tr>\n",
       "      <th>9</th>\n",
       "      <td>10001725</td>\n",
       "      <td>normal</td>\n",
       "      <td>2110-04-11 18:02:00</td>\n",
       "      <td>146.0</td>\n",
       "      <td>152.0</td>\n",
       "      <td>153.500000</td>\n",
       "      <td>10.606602</td>\n",
       "      <td>-15.0</td>\n",
       "      <td>17.0</td>\n",
       "      <td>70.062500</td>\n",
       "      <td>0.80</td>\n",
       "      <td>61.187500</td>\n",
       "      <td>79.156250</td>\n",
       "      <td>13.250</td>\n",
       "      <td>98.225806</td>\n",
       "      <td>30.6</td>\n",
       "      <td>17.531250</td>\n",
       "      <td>139.0</td>\n",
       "      <td>100.406250</td>\n",
       "      <td>18.55</td>\n",
       "    </tr>\n",
       "  </tbody>\n",
       "</table>\n",
       "</div>"
      ],
      "text/plain": [
       "   subject_id   label  ... Systolic Blood Pressure    WBC\n",
       "0    10000690  normal  ...              122.893617   6.35\n",
       "1    10000690  normal  ...              122.893617   6.35\n",
       "2    10000690  normal  ...              122.893617   6.35\n",
       "3    10000690  normal  ...              122.893617   6.35\n",
       "4    10000690  normal  ...              122.893617   6.35\n",
       "5    10000980  normal  ...              142.454545    NaN\n",
       "6    10001217  normal  ...              126.900000  13.70\n",
       "7    10001217  normal  ...              126.900000  13.70\n",
       "8    10001725  normal  ...              100.406250  18.55\n",
       "9    10001725  normal  ...              100.406250  18.55\n",
       "\n",
       "[10 rows x 20 columns]"
      ]
     },
     "execution_count": 13,
     "metadata": {},
     "output_type": "execute_result"
    }
   ],
   "source": [
    "import pandas as pd\n",
    "import matplotlib.pyplot as plt\n",
    "import numpy as np\n",
    "\n",
    "filename = 'chartEventsPred.csv' # Insert the file path here\n",
    "\n",
    "df = pd.read_csv(filename)\n",
    "\n",
    "\n",
    "df.head(10)\n"
   ]
  },
  {
   "cell_type": "code",
   "execution_count": 14,
   "id": "4b7af0a2",
   "metadata": {},
   "outputs": [
    {
     "name": "stdout",
     "output_type": "stream",
     "text": [
      "<class 'pandas.core.frame.DataFrame'>\n",
      "RangeIndex: 1050293 entries, 0 to 1050292\n",
      "Data columns (total 20 columns):\n",
      " #   Column                       Non-Null Count    Dtype  \n",
      "---  ------                       --------------    -----  \n",
      " 0   subject_id                   1050293 non-null  int64  \n",
      " 1   label                        1050293 non-null  object \n",
      " 2   charttime                    1050293 non-null  object \n",
      " 3   glucose                      1050293 non-null  float64\n",
      " 4   next_glucose                 1050293 non-null  float64\n",
      " 5   mean_last3                   1050293 non-null  float64\n",
      " 6   std_last3                    1008303 non-null  float64\n",
      " 7   trend                        1008303 non-null  float64\n",
      " 8   BUN                          1049809 non-null  float64\n",
      " 9   Blood Pressure               1050101 non-null  float64\n",
      " 10  Creatinine                   1049824 non-null  float64\n",
      " 11  Diastolic Blood Pressure     1050138 non-null  float64\n",
      " 12  Heart Rate                   1050293 non-null  float64\n",
      " 13  Hemoglobin                   1049168 non-null  float64\n",
      " 14  O2 saturation pulseoxymetry  1050207 non-null  float64\n",
      " 15  PTT                          1020981 non-null  float64\n",
      " 16  Respiratory Rate             1050060 non-null  float64\n",
      " 17  Sodium (serum)               1049828 non-null  float64\n",
      " 18  Systolic Blood Pressure      1050139 non-null  float64\n",
      " 19  WBC                          1049126 non-null  float64\n",
      "dtypes: float64(17), int64(1), object(2)\n",
      "memory usage: 160.3+ MB\n"
     ]
    }
   ],
   "source": [
    "df.info()"
   ]
  },
  {
   "cell_type": "code",
   "execution_count": 15,
   "id": "6b20644a",
   "metadata": {},
   "outputs": [
    {
     "name": "stdout",
     "output_type": "stream",
     "text": [
      "RMSE: 36.24\n",
      "R2 Score: 0.57\n"
     ]
    }
   ],
   "source": [
    "from sklearn.model_selection import train_test_split\n",
    "from sklearn.metrics import mean_squared_error, r2_score\n",
    "from sklearn.preprocessing import StandardScaler\n",
    "import numpy as np\n",
    "from xgboost import XGBRegressor\n",
    "\n",
    "# Drop non-numeric or ID/timestamp columns\n",
    "df_model = df.drop(columns=['subject_id', 'label', 'charttime'])\n",
    "\n",
    "# Drop rows with missing target or features\n",
    "df_model = df_model.dropna()\n",
    "\n",
    "# Define features (X) and target (y)\n",
    "X = df_model.drop(columns=['next_glucose'])\n",
    "y = df_model['next_glucose']\n",
    "\n",
    "# Split into train/test sets\n",
    "X_train, X_test, y_train, y_test = train_test_split(X, y, test_size=0.2, random_state=42)\n",
    "\n",
    "# x scale\n",
    "x_scaler = StandardScaler()\n",
    "\n",
    "X_train_scaled = x_scaler.fit_transform(X_train)\n",
    "\n",
    "X_test_scaled = x_scaler.transform(X_test)\n",
    "\n",
    "# y scale\n",
    "\n",
    "y_scaler = StandardScaler()\n",
    "\n",
    "y_train_scaled = y_scaler.fit_transform(y_train.values.reshape(-1,1))\n",
    "\n",
    "y_test_scaled = y_scaler.transform(y_test.values.reshape(-1,1))\n",
    "\n",
    "\n",
    "# Initialize and train XGBoost Regressor\n",
    "model = XGBRegressor(n_estimators=100, max_depth=5, learning_rate=0.1)\n",
    "model.fit(X_train_scaled, y_train_scaled.ravel())\n",
    "\n",
    "# Predict\n",
    "y_pred = model.predict(X_test_scaled)\n",
    "\n",
    "# Evaluate\n",
    "y_pred_inv = y_scaler.inverse_transform(y_pred.reshape(-1, 1))\n",
    "y_test_inv = y_scaler.inverse_transform(y_test_scaled)\n",
    "\n",
    "# Evaluate on original scale\n",
    "rmse = np.sqrt(mean_squared_error(y_test_inv, y_pred_inv))\n",
    "r2 = r2_score(y_test_inv, y_pred_inv)\n",
    "\n",
    "print(f\"RMSE: {rmse:.2f}\")\n",
    "print(f\"R2 Score: {r2:.2f}\")\n"
   ]
  },
  {
   "cell_type": "code",
   "execution_count": 16,
   "id": "697855bf",
   "metadata": {},
   "outputs": [
    {
     "name": "stdout",
     "output_type": "stream",
     "text": [
      "RMSE: 36.24\n",
      "R2 Score: 0.57\n",
      "<class 'tuple'>\n"
     ]
    }
   ],
   "source": [
    "\n",
    "from sklearn.metrics import mean_squared_error, r2_score, make_scorer\n",
    "import numpy as np\n",
    "\n",
    "def XGModel(n_est=100, max_dep=5, learning_rt=0.1):\n",
    "\n",
    "\n",
    "    model = XGBRegressor(n_estimators=n_est, max_depth=max_dep, learning_rate=learning_rt)\n",
    "    model.fit(X_train_scaled, y_train_scaled)\n",
    "\n",
    "    y_pred = model.predict(X_test_scaled)\n",
    "\n",
    "    y_pred = model.predict(X_test_scaled)\n",
    "\n",
    "    # Evaluate\n",
    "    y_pred_inv = y_scaler.inverse_transform(y_pred.reshape(-1, 1))\n",
    "    y_test_inv = y_scaler.inverse_transform(y_test_scaled)\n",
    "\n",
    "    # Evaluate on original scale\n",
    "    rmse = np.sqrt(mean_squared_error(y_test_inv, y_pred_inv))\n",
    "    r2 = r2_score(y_test_inv, y_pred_inv)\n",
    "    \n",
    "    \n",
    "\n",
    "    return rmse, r2\n",
    "\n",
    "model = XGModel()\n",
    "\n",
    "print(f\"RMSE: {model[0]:.2f}\")\n",
    "print(f\"R2 Score: {model[1]:.2f}\")\n",
    "print(type(model))\n",
    "\n",
    "\n",
    "def createPlot(x_axis, y_axis, x_label, y_label, title):\n",
    "    plt.plot(x_axis,y_axis)\n",
    "    plt.xlabel(x_label)           # e.g., 'Epoch'\n",
    "    plt.ylabel(y_label)           # e.g., 'Accuracy'\n",
    "    plt.title(title)\n",
    "    plt.legend()\n",
    "    plt.grid(True)\n",
    "    plt.show()\n",
    "\n"
   ]
  },
  {
   "cell_type": "code",
   "execution_count": 17,
   "id": "84923f3b",
   "metadata": {},
   "outputs": [
    {
     "name": "stderr",
     "output_type": "stream",
     "text": [
      "/tmp/ipykernel_82842/952789218.py:38: UserWarning: No artists with labels found to put in legend.  Note that artists whose label start with an underscore are ignored when legend() is called with no argument.\n",
      "  plt.legend()\n"
     ]
    },
    {
     "data": {
      "image/png": "[encoded data removed]",
      "text/plain": [
       "<Figure size 640x480 with 1 Axes>"
      ]
     },
     "metadata": {},
     "output_type": "display_data"
    },
    {
     "data": {
      "image/png": "[encoded data removed]",
      "text/plain": [
       "<Figure size 640x480 with 1 Axes>"
      ]
     },
     "metadata": {},
     "output_type": "display_data"
    }
   ],
   "source": [
    "param_grid = {\n",
    "    'n_estimators': [50, 100, 150, 200, 300],\n",
    "    'max_depth': [3, 5, 7, 9, 12],\n",
    "    'learning_rate': [0.01, 0.05, 0.1, 0.2, 0.3]\n",
    "}\n",
    "\n",
    "rmse_y = []\n",
    "r2_y = []\n",
    "\n",
    "\n",
    "for i in param_grid['n_estimators']:\n",
    "    temp = XGModel(n_est=i)\n",
    "    \n",
    "    rmse_y.append(temp[0])\n",
    "    r2_y.append(temp[1])\n",
    "\n",
    "\n",
    "\n",
    "createPlot(param_grid['n_estimators'], rmse_y, \"n_estimators\", \"RMSE\", \"RMSE vs N-Estimators\")\n",
    "\n",
    "createPlot(param_grid['n_estimators'], r2_y, \"n_estimators\", \"R2\", \"R2 vs N-Estimators\")\n",
    "\n"
   ]
  },
  {
   "cell_type": "code",
   "execution_count": 18,
   "id": "0c2998c2",
   "metadata": {},
   "outputs": [
    {
     "name": "stderr",
     "output_type": "stream",
     "text": [
      "/tmp/ipykernel_82842/952789218.py:38: UserWarning: No artists with labels found to put in legend.  Note that artists whose label start with an underscore are ignored when legend() is called with no argument.\n",
      "  plt.legend()\n"
     ]
    },
    {
     "data": {
      "image/png": "[encoded data removed]",
      "text/plain": [
       "<Figure size 640x480 with 1 Axes>"
      ]
     },
     "metadata": {},
     "output_type": "display_data"
    },
    {
     "data": {
      "image/png": "[encoded data removed]",
      "text/plain": [
       "<Figure size 640x480 with 1 Axes>"
      ]
     },
     "metadata": {},
     "output_type": "display_data"
    }
   ],
   "source": [
    "rmse_y = []\n",
    "r2_y = []\n",
    "\n",
    "\n",
    "for i in param_grid['max_depth']:\n",
    "    temp = XGModel(max_dep=i)\n",
    "    \n",
    "    rmse_y.append(temp[0])\n",
    "    r2_y.append(temp[1])\n",
    "\n",
    "\n",
    "\n",
    "createPlot(param_grid['max_depth'], rmse_y, \"n_estimators\", \"RMSE\", \"RMSE vs max_depth\")\n",
    "\n",
    "createPlot(param_grid['max_depth'], r2_y, \"n_estimators\", \"R2\", \"R2 vs max_depth\")\n",
    "\n"
   ]
  },
  {
   "cell_type": "code",
   "execution_count": 19,
   "id": "2aee8573",
   "metadata": {},
   "outputs": [
    {
     "name": "stderr",
     "output_type": "stream",
     "text": [
      "/tmp/ipykernel_82842/952789218.py:38: UserWarning: No artists with labels found to put in legend.  Note that artists whose label start with an underscore are ignored when legend() is called with no argument.\n",
      "  plt.legend()\n"
     ]
    },
    {
     "data": {
      "image/png": "[encoded data removed]",
      "text/plain": [
       "<Figure size 640x480 with 1 Axes>"
      ]
     },
     "metadata": {},
     "output_type": "display_data"
    },
    {
     "data": {
      "image/png": "[encoded data removed]",
      "text/plain": [
       "<Figure size 640x480 with 1 Axes>"
      ]
     },
     "metadata": {},
     "output_type": "display_data"
    }
   ],
   "source": [
    "rmse_y = []\n",
    "r2_y = []\n",
    "\n",
    "\n",
    "for i in param_grid['learning_rate']:\n",
    "    temp = XGModel(learning_rt=i)\n",
    "    \n",
    "    rmse_y.append(temp[0])\n",
    "    r2_y.append(temp[1])\n",
    "\n",
    "\n",
    "\n",
    "createPlot(param_grid['learning_rate'], rmse_y, \"n_estimators\", \"RMSE\", \"RMSE vs learning_rate\")\n",
    "\n",
    "createPlot(param_grid['learning_rate'], r2_y, \"n_estimators\", \"R2\", \"R2 vs learning_rate\")\n",
    "\n"
   ]
  },
  {
   "cell_type": "markdown",
   "id": "d65c3828",
   "metadata": {},
   "source": [
    "Overall best params are n_estimators 150, max_depth 7, and learning_rate of 0.1"
   ]
  },
  {
   "cell_type": "code",
   "execution_count": 20,
   "id": "33b10ab1",
   "metadata": {},
   "outputs": [
    {
     "name": "stdout",
     "output_type": "stream",
     "text": [
      "RMSE: 36.17\n",
      "R2 Score: 0.57\n"
     ]
    }
   ],
   "source": [
    "model = XGModel(n_est=150, max_dep=7, learning_rt=0.1)\n",
    "\n",
    "print(f\"RMSE: {model[0]:.2f}\")\n",
    "print(f\"R2 Score: {model[1]:.2f}\")\n",
    "\n"
   ]
  },
  {
   "cell_type": "markdown",
   "id": "264fb3b5",
   "metadata": {},
   "source": [
    "XGBoost Classification"
   ]
  },
  {
   "cell_type": "code",
   "execution_count": 21,
   "id": "cd0d274f",
   "metadata": {},
   "outputs": [
    {
     "name": "stdout",
     "output_type": "stream",
     "text": [
      "Accuracy: 0.8730\n",
      "              precision    recall  f1-score   support\n",
      "\n",
      "       hyper       0.74      0.57      0.65     36197\n",
      "        hypo       0.55      0.03      0.05      2463\n",
      "      normal       0.89      0.96      0.92    157842\n",
      "\n",
      "    accuracy                           0.87    196502\n",
      "   macro avg       0.73      0.52      0.54    196502\n",
      "weighted avg       0.86      0.87      0.86    196502\n",
      "\n"
     ]
    }
   ],
   "source": [
    "from sklearn.model_selection import train_test_split\n",
    "from sklearn.preprocessing import LabelEncoder\n",
    "from sklearn.metrics import classification_report, accuracy_score\n",
    "from xgboost import XGBClassifier\n",
    "\n",
    "\n",
    "\n",
    "df_model = df.drop(columns=[\"subject_id\", \"charttime\", \"glucose\", \"next_glucose\"])\n",
    "\n",
    "df_model.dropna(inplace=True)\n",
    "\n",
    "le = LabelEncoder()\n",
    "df_model[\"label\"] = le.fit_transform(df_model[\"label\"])\n",
    "\n",
    "X = df_model.drop(columns=[\"label\"])\n",
    "y = df_model[\"label\"]\n",
    "\n",
    "\n",
    "X_train, X_test, y_train, y_test = train_test_split(X, y, test_size=0.2, random_state=42, stratify=y)\n",
    "\n",
    "scaler = StandardScaler()\n",
    "\n",
    "X_train_scaled = scaler.fit_transform(X_train)\n",
    "\n",
    "X_test_scaled = scaler.transform(X_test)\n",
    "\n",
    "\n",
    "xgb_model = XGBClassifier(eval_metric=\"mlogloss\", random_state=42)\n",
    "xgb_model.fit(X_train_scaled, y_train)\n",
    "\n",
    "\n",
    "y_pred = xgb_model.predict(X_test_scaled)\n",
    "\n",
    "report = classification_report(y_test, y_pred, target_names=le.classes_)\n",
    "acc = accuracy_score(y_test, y_pred)\n",
    "print(f\"Accuracy: {acc:.4f}\")\n",
    "print(report)"
   ]
  },
  {
   "cell_type": "code",
   "execution_count": 15,
   "id": "b1bbc3a1",
   "metadata": {},
   "outputs": [
    {
     "data": {
      "text/plain": [
       "'\\n\\nfrom sklearn.model_selection import GridSearchCV\\n\\nparam_grid = {\\n    \\'n_estimators\\': [50, 100, 150],\\n    \\'max_depth\\': [3, 5, 9, 15],\\n    \\'learning_rate\\': [0.1, 0.2]\\n}\\n\\n\\nxgb_model = XGBClassifier()\\n\\ngrid_search = GridSearchCV(xgb_model, param_grid, cv=5, scoring=\\'accuracy\\')\\n\\ngrid_search.fit(X_train, y_train)\\n\\nprint(\"Best set of hyperparameters: \", grid_search.best_params_)\\nprint(\"Best score: \", grid_search.best_score_)\\n\\n'"
      ]
     },
     "execution_count": 15,
     "metadata": {},
     "output_type": "execute_result"
    }
   ],
   "source": [
    "'''\n",
    "\n",
    "from sklearn.model_selection import GridSearchCV\n",
    "\n",
    "param_grid = {\n",
    "    'n_estimators': [50, 100, 150],\n",
    "    'max_depth': [3, 5, 9, 15],\n",
    "    'learning_rate': [0.1, 0.2]\n",
    "}\n",
    "\n",
    "\n",
    "xgb_model = XGBClassifier()\n",
    "\n",
    "grid_search = GridSearchCV(xgb_model, param_grid, cv=5, scoring='accuracy')\n",
    "\n",
    "grid_search.fit(X_train, y_train)\n",
    "\n",
    "print(\"Best set of hyperparameters: \", grid_search.best_params_)\n",
    "print(\"Best score: \", grid_search.best_score_)\n",
    "\n",
    "'''"
   ]
  },
  {
   "cell_type": "markdown",
   "id": "1dddc1fc",
   "metadata": {},
   "source": [
    "Had to iteractively find the best params because gridsearch doesn't work for xgboost for some reason"
   ]
  },
  {
   "cell_type": "code",
   "execution_count": 23,
   "id": "3247568e",
   "metadata": {},
   "outputs": [
    {
     "name": "stdout",
     "output_type": "stream",
     "text": [
      "Training with params: {'n_estimators': 50, 'max_depth': 3, 'learning_rate': 0.1}\n"
     ]
    },
    {
     "name": "stderr",
     "output_type": "stream",
     "text": [
      "/home/andyyythan/.conda/envs/xgb_env/lib/python3.9/site-packages/xgboost/sklearn.py:1395: UserWarning: `use_label_encoder` is deprecated in 1.7.0.\n",
      "  warnings.warn(\"`use_label_encoder` is deprecated in 1.7.0.\")\n"
     ]
    },
    {
     "name": "stdout",
     "output_type": "stream",
     "text": [
      "Accuracy: 0.8701\n",
      "----------------------------------------\n",
      "Training with params: {'n_estimators': 50, 'max_depth': 3, 'learning_rate': 0.2}\n"
     ]
    },
    {
     "name": "stderr",
     "output_type": "stream",
     "text": [
      "/home/andyyythan/.conda/envs/xgb_env/lib/python3.9/site-packages/sklearn/metrics/_classification.py:1565: UndefinedMetricWarning: Precision is ill-defined and being set to 0.0 in labels with no predicted samples. Use `zero_division` parameter to control this behavior.\n",
      "  _warn_prf(average, modifier, f\"{metric.capitalize()} is\", len(result))\n",
      "/home/andyyythan/.conda/envs/xgb_env/lib/python3.9/site-packages/sklearn/metrics/_classification.py:1565: UndefinedMetricWarning: Precision is ill-defined and being set to 0.0 in labels with no predicted samples. Use `zero_division` parameter to control this behavior.\n",
      "  _warn_prf(average, modifier, f\"{metric.capitalize()} is\", len(result))\n",
      "/home/andyyythan/.conda/envs/xgb_env/lib/python3.9/site-packages/sklearn/metrics/_classification.py:1565: UndefinedMetricWarning: Precision is ill-defined and being set to 0.0 in labels with no predicted samples. Use `zero_division` parameter to control this behavior.\n",
      "  _warn_prf(average, modifier, f\"{metric.capitalize()} is\", len(result))\n",
      "/home/andyyythan/.conda/envs/xgb_env/lib/python3.9/site-packages/xgboost/sklearn.py:1395: UserWarning: `use_label_encoder` is deprecated in 1.7.0.\n",
      "  warnings.warn(\"`use_label_encoder` is deprecated in 1.7.0.\")\n"
     ]
    },
    {
     "name": "stdout",
     "output_type": "stream",
     "text": [
      "Accuracy: 0.8708\n",
      "----------------------------------------\n",
      "Training with params: {'n_estimators': 50, 'max_depth': 5, 'learning_rate': 0.1}\n"
     ]
    },
    {
     "name": "stderr",
     "output_type": "stream",
     "text": [
      "/home/andyyythan/.conda/envs/xgb_env/lib/python3.9/site-packages/xgboost/sklearn.py:1395: UserWarning: `use_label_encoder` is deprecated in 1.7.0.\n",
      "  warnings.warn(\"`use_label_encoder` is deprecated in 1.7.0.\")\n"
     ]
    },
    {
     "name": "stdout",
     "output_type": "stream",
     "text": [
      "Accuracy: 0.8717\n",
      "----------------------------------------\n",
      "Training with params: {'n_estimators': 50, 'max_depth': 5, 'learning_rate': 0.2}\n"
     ]
    },
    {
     "name": "stderr",
     "output_type": "stream",
     "text": [
      "/home/andyyythan/.conda/envs/xgb_env/lib/python3.9/site-packages/xgboost/sklearn.py:1395: UserWarning: `use_label_encoder` is deprecated in 1.7.0.\n",
      "  warnings.warn(\"`use_label_encoder` is deprecated in 1.7.0.\")\n"
     ]
    },
    {
     "name": "stdout",
     "output_type": "stream",
     "text": [
      "Accuracy: 0.8719\n",
      "----------------------------------------\n",
      "Training with params: {'n_estimators': 50, 'max_depth': 7, 'learning_rate': 0.1}\n"
     ]
    },
    {
     "name": "stderr",
     "output_type": "stream",
     "text": [
      "/home/andyyythan/.conda/envs/xgb_env/lib/python3.9/site-packages/xgboost/sklearn.py:1395: UserWarning: `use_label_encoder` is deprecated in 1.7.0.\n",
      "  warnings.warn(\"`use_label_encoder` is deprecated in 1.7.0.\")\n"
     ]
    },
    {
     "name": "stdout",
     "output_type": "stream",
     "text": [
      "Accuracy: 0.8722\n",
      "----------------------------------------\n",
      "Training with params: {'n_estimators': 50, 'max_depth': 7, 'learning_rate': 0.2}\n"
     ]
    },
    {
     "name": "stderr",
     "output_type": "stream",
     "text": [
      "/home/andyyythan/.conda/envs/xgb_env/lib/python3.9/site-packages/xgboost/sklearn.py:1395: UserWarning: `use_label_encoder` is deprecated in 1.7.0.\n",
      "  warnings.warn(\"`use_label_encoder` is deprecated in 1.7.0.\")\n"
     ]
    },
    {
     "name": "stdout",
     "output_type": "stream",
     "text": [
      "Accuracy: 0.8726\n",
      "----------------------------------------\n",
      "Training with params: {'n_estimators': 50, 'max_depth': 9, 'learning_rate': 0.1}\n"
     ]
    },
    {
     "name": "stderr",
     "output_type": "stream",
     "text": [
      "/home/andyyythan/.conda/envs/xgb_env/lib/python3.9/site-packages/xgboost/sklearn.py:1395: UserWarning: `use_label_encoder` is deprecated in 1.7.0.\n",
      "  warnings.warn(\"`use_label_encoder` is deprecated in 1.7.0.\")\n"
     ]
    },
    {
     "name": "stdout",
     "output_type": "stream",
     "text": [
      "Accuracy: 0.8726\n",
      "----------------------------------------\n",
      "Training with params: {'n_estimators': 50, 'max_depth': 9, 'learning_rate': 0.2}\n"
     ]
    },
    {
     "name": "stderr",
     "output_type": "stream",
     "text": [
      "/home/andyyythan/.conda/envs/xgb_env/lib/python3.9/site-packages/xgboost/sklearn.py:1395: UserWarning: `use_label_encoder` is deprecated in 1.7.0.\n",
      "  warnings.warn(\"`use_label_encoder` is deprecated in 1.7.0.\")\n"
     ]
    },
    {
     "name": "stdout",
     "output_type": "stream",
     "text": [
      "Accuracy: 0.8727\n",
      "----------------------------------------\n",
      "Training with params: {'n_estimators': 50, 'max_depth': 15, 'learning_rate': 0.1}\n"
     ]
    },
    {
     "name": "stderr",
     "output_type": "stream",
     "text": [
      "/home/andyyythan/.conda/envs/xgb_env/lib/python3.9/site-packages/xgboost/sklearn.py:1395: UserWarning: `use_label_encoder` is deprecated in 1.7.0.\n",
      "  warnings.warn(\"`use_label_encoder` is deprecated in 1.7.0.\")\n"
     ]
    },
    {
     "name": "stdout",
     "output_type": "stream",
     "text": [
      "Accuracy: 0.8709\n",
      "----------------------------------------\n",
      "Training with params: {'n_estimators': 50, 'max_depth': 15, 'learning_rate': 0.2}\n"
     ]
    },
    {
     "name": "stderr",
     "output_type": "stream",
     "text": [
      "/home/andyyythan/.conda/envs/xgb_env/lib/python3.9/site-packages/xgboost/sklearn.py:1395: UserWarning: `use_label_encoder` is deprecated in 1.7.0.\n",
      "  warnings.warn(\"`use_label_encoder` is deprecated in 1.7.0.\")\n"
     ]
    },
    {
     "name": "stdout",
     "output_type": "stream",
     "text": [
      "Accuracy: 0.8700\n",
      "----------------------------------------\n",
      "Training with params: {'n_estimators': 100, 'max_depth': 3, 'learning_rate': 0.1}\n"
     ]
    },
    {
     "name": "stderr",
     "output_type": "stream",
     "text": [
      "/home/andyyythan/.conda/envs/xgb_env/lib/python3.9/site-packages/xgboost/sklearn.py:1395: UserWarning: `use_label_encoder` is deprecated in 1.7.0.\n",
      "  warnings.warn(\"`use_label_encoder` is deprecated in 1.7.0.\")\n"
     ]
    },
    {
     "name": "stdout",
     "output_type": "stream",
     "text": [
      "Accuracy: 0.8706\n",
      "----------------------------------------\n",
      "Training with params: {'n_estimators': 100, 'max_depth': 3, 'learning_rate': 0.2}\n"
     ]
    },
    {
     "name": "stderr",
     "output_type": "stream",
     "text": [
      "/home/andyyythan/.conda/envs/xgb_env/lib/python3.9/site-packages/xgboost/sklearn.py:1395: UserWarning: `use_label_encoder` is deprecated in 1.7.0.\n",
      "  warnings.warn(\"`use_label_encoder` is deprecated in 1.7.0.\")\n"
     ]
    },
    {
     "name": "stdout",
     "output_type": "stream",
     "text": [
      "Accuracy: 0.8713\n",
      "----------------------------------------\n",
      "Training with params: {'n_estimators': 100, 'max_depth': 5, 'learning_rate': 0.1}\n"
     ]
    },
    {
     "name": "stderr",
     "output_type": "stream",
     "text": [
      "/home/andyyythan/.conda/envs/xgb_env/lib/python3.9/site-packages/xgboost/sklearn.py:1395: UserWarning: `use_label_encoder` is deprecated in 1.7.0.\n",
      "  warnings.warn(\"`use_label_encoder` is deprecated in 1.7.0.\")\n"
     ]
    },
    {
     "name": "stdout",
     "output_type": "stream",
     "text": [
      "Accuracy: 0.8719\n",
      "----------------------------------------\n",
      "Training with params: {'n_estimators': 100, 'max_depth': 5, 'learning_rate': 0.2}\n"
     ]
    },
    {
     "name": "stderr",
     "output_type": "stream",
     "text": [
      "/home/andyyythan/.conda/envs/xgb_env/lib/python3.9/site-packages/xgboost/sklearn.py:1395: UserWarning: `use_label_encoder` is deprecated in 1.7.0.\n",
      "  warnings.warn(\"`use_label_encoder` is deprecated in 1.7.0.\")\n"
     ]
    },
    {
     "name": "stdout",
     "output_type": "stream",
     "text": [
      "Accuracy: 0.8723\n",
      "----------------------------------------\n",
      "Training with params: {'n_estimators': 100, 'max_depth': 7, 'learning_rate': 0.1}\n"
     ]
    },
    {
     "name": "stderr",
     "output_type": "stream",
     "text": [
      "/home/andyyythan/.conda/envs/xgb_env/lib/python3.9/site-packages/xgboost/sklearn.py:1395: UserWarning: `use_label_encoder` is deprecated in 1.7.0.\n",
      "  warnings.warn(\"`use_label_encoder` is deprecated in 1.7.0.\")\n"
     ]
    },
    {
     "name": "stdout",
     "output_type": "stream",
     "text": [
      "Accuracy: 0.8726\n",
      "----------------------------------------\n",
      "Training with params: {'n_estimators': 100, 'max_depth': 7, 'learning_rate': 0.2}\n"
     ]
    },
    {
     "name": "stderr",
     "output_type": "stream",
     "text": [
      "/home/andyyythan/.conda/envs/xgb_env/lib/python3.9/site-packages/xgboost/sklearn.py:1395: UserWarning: `use_label_encoder` is deprecated in 1.7.0.\n",
      "  warnings.warn(\"`use_label_encoder` is deprecated in 1.7.0.\")\n"
     ]
    },
    {
     "name": "stdout",
     "output_type": "stream",
     "text": [
      "Accuracy: 0.8731\n",
      "----------------------------------------\n",
      "Training with params: {'n_estimators': 100, 'max_depth': 9, 'learning_rate': 0.1}\n"
     ]
    },
    {
     "name": "stderr",
     "output_type": "stream",
     "text": [
      "/home/andyyythan/.conda/envs/xgb_env/lib/python3.9/site-packages/xgboost/sklearn.py:1395: UserWarning: `use_label_encoder` is deprecated in 1.7.0.\n",
      "  warnings.warn(\"`use_label_encoder` is deprecated in 1.7.0.\")\n"
     ]
    },
    {
     "name": "stdout",
     "output_type": "stream",
     "text": [
      "Accuracy: 0.8731\n",
      "----------------------------------------\n",
      "Training with params: {'n_estimators': 100, 'max_depth': 9, 'learning_rate': 0.2}\n"
     ]
    },
    {
     "name": "stderr",
     "output_type": "stream",
     "text": [
      "/home/andyyythan/.conda/envs/xgb_env/lib/python3.9/site-packages/xgboost/sklearn.py:1395: UserWarning: `use_label_encoder` is deprecated in 1.7.0.\n",
      "  warnings.warn(\"`use_label_encoder` is deprecated in 1.7.0.\")\n"
     ]
    },
    {
     "name": "stdout",
     "output_type": "stream",
     "text": [
      "Accuracy: 0.8728\n",
      "----------------------------------------\n",
      "Training with params: {'n_estimators': 100, 'max_depth': 15, 'learning_rate': 0.1}\n"
     ]
    },
    {
     "name": "stderr",
     "output_type": "stream",
     "text": [
      "/home/andyyythan/.conda/envs/xgb_env/lib/python3.9/site-packages/xgboost/sklearn.py:1395: UserWarning: `use_label_encoder` is deprecated in 1.7.0.\n",
      "  warnings.warn(\"`use_label_encoder` is deprecated in 1.7.0.\")\n"
     ]
    },
    {
     "name": "stdout",
     "output_type": "stream",
     "text": [
      "Accuracy: 0.8708\n",
      "----------------------------------------\n",
      "Training with params: {'n_estimators': 100, 'max_depth': 15, 'learning_rate': 0.2}\n"
     ]
    },
    {
     "name": "stderr",
     "output_type": "stream",
     "text": [
      "/home/andyyythan/.conda/envs/xgb_env/lib/python3.9/site-packages/xgboost/sklearn.py:1395: UserWarning: `use_label_encoder` is deprecated in 1.7.0.\n",
      "  warnings.warn(\"`use_label_encoder` is deprecated in 1.7.0.\")\n"
     ]
    },
    {
     "name": "stdout",
     "output_type": "stream",
     "text": [
      "Accuracy: 0.8699\n",
      "----------------------------------------\n",
      "Training with params: {'n_estimators': 150, 'max_depth': 3, 'learning_rate': 0.1}\n"
     ]
    },
    {
     "name": "stderr",
     "output_type": "stream",
     "text": [
      "/home/andyyythan/.conda/envs/xgb_env/lib/python3.9/site-packages/xgboost/sklearn.py:1395: UserWarning: `use_label_encoder` is deprecated in 1.7.0.\n",
      "  warnings.warn(\"`use_label_encoder` is deprecated in 1.7.0.\")\n"
     ]
    },
    {
     "name": "stdout",
     "output_type": "stream",
     "text": [
      "Accuracy: 0.8709\n",
      "----------------------------------------\n",
      "Training with params: {'n_estimators': 150, 'max_depth': 3, 'learning_rate': 0.2}\n"
     ]
    },
    {
     "name": "stderr",
     "output_type": "stream",
     "text": [
      "/home/andyyythan/.conda/envs/xgb_env/lib/python3.9/site-packages/xgboost/sklearn.py:1395: UserWarning: `use_label_encoder` is deprecated in 1.7.0.\n",
      "  warnings.warn(\"`use_label_encoder` is deprecated in 1.7.0.\")\n"
     ]
    },
    {
     "name": "stdout",
     "output_type": "stream",
     "text": [
      "Accuracy: 0.8717\n",
      "----------------------------------------\n",
      "Training with params: {'n_estimators': 150, 'max_depth': 5, 'learning_rate': 0.1}\n"
     ]
    },
    {
     "name": "stderr",
     "output_type": "stream",
     "text": [
      "/home/andyyythan/.conda/envs/xgb_env/lib/python3.9/site-packages/xgboost/sklearn.py:1395: UserWarning: `use_label_encoder` is deprecated in 1.7.0.\n",
      "  warnings.warn(\"`use_label_encoder` is deprecated in 1.7.0.\")\n"
     ]
    },
    {
     "name": "stdout",
     "output_type": "stream",
     "text": [
      "Accuracy: 0.8722\n",
      "----------------------------------------\n",
      "Training with params: {'n_estimators': 150, 'max_depth': 5, 'learning_rate': 0.2}\n"
     ]
    },
    {
     "name": "stderr",
     "output_type": "stream",
     "text": [
      "/home/andyyythan/.conda/envs/xgb_env/lib/python3.9/site-packages/xgboost/sklearn.py:1395: UserWarning: `use_label_encoder` is deprecated in 1.7.0.\n",
      "  warnings.warn(\"`use_label_encoder` is deprecated in 1.7.0.\")\n"
     ]
    },
    {
     "name": "stdout",
     "output_type": "stream",
     "text": [
      "Accuracy: 0.8726\n",
      "----------------------------------------\n",
      "Training with params: {'n_estimators': 150, 'max_depth': 7, 'learning_rate': 0.1}\n"
     ]
    },
    {
     "name": "stderr",
     "output_type": "stream",
     "text": [
      "/home/andyyythan/.conda/envs/xgb_env/lib/python3.9/site-packages/xgboost/sklearn.py:1395: UserWarning: `use_label_encoder` is deprecated in 1.7.0.\n",
      "  warnings.warn(\"`use_label_encoder` is deprecated in 1.7.0.\")\n"
     ]
    },
    {
     "name": "stdout",
     "output_type": "stream",
     "text": [
      "Accuracy: 0.8730\n",
      "----------------------------------------\n",
      "Training with params: {'n_estimators': 150, 'max_depth': 7, 'learning_rate': 0.2}\n"
     ]
    },
    {
     "name": "stderr",
     "output_type": "stream",
     "text": [
      "/home/andyyythan/.conda/envs/xgb_env/lib/python3.9/site-packages/xgboost/sklearn.py:1395: UserWarning: `use_label_encoder` is deprecated in 1.7.0.\n",
      "  warnings.warn(\"`use_label_encoder` is deprecated in 1.7.0.\")\n"
     ]
    },
    {
     "name": "stdout",
     "output_type": "stream",
     "text": [
      "Accuracy: 0.8732\n",
      "----------------------------------------\n",
      "Training with params: {'n_estimators': 150, 'max_depth': 9, 'learning_rate': 0.1}\n"
     ]
    },
    {
     "name": "stderr",
     "output_type": "stream",
     "text": [
      "/home/andyyythan/.conda/envs/xgb_env/lib/python3.9/site-packages/xgboost/sklearn.py:1395: UserWarning: `use_label_encoder` is deprecated in 1.7.0.\n",
      "  warnings.warn(\"`use_label_encoder` is deprecated in 1.7.0.\")\n"
     ]
    },
    {
     "name": "stdout",
     "output_type": "stream",
     "text": [
      "Accuracy: 0.8732\n",
      "----------------------------------------\n",
      "Training with params: {'n_estimators': 150, 'max_depth': 9, 'learning_rate': 0.2}\n"
     ]
    },
    {
     "name": "stderr",
     "output_type": "stream",
     "text": [
      "/home/andyyythan/.conda/envs/xgb_env/lib/python3.9/site-packages/xgboost/sklearn.py:1395: UserWarning: `use_label_encoder` is deprecated in 1.7.0.\n",
      "  warnings.warn(\"`use_label_encoder` is deprecated in 1.7.0.\")\n"
     ]
    },
    {
     "name": "stdout",
     "output_type": "stream",
     "text": [
      "Accuracy: 0.8727\n",
      "----------------------------------------\n",
      "Training with params: {'n_estimators': 150, 'max_depth': 15, 'learning_rate': 0.1}\n"
     ]
    },
    {
     "name": "stderr",
     "output_type": "stream",
     "text": [
      "/home/andyyythan/.conda/envs/xgb_env/lib/python3.9/site-packages/xgboost/sklearn.py:1395: UserWarning: `use_label_encoder` is deprecated in 1.7.0.\n",
      "  warnings.warn(\"`use_label_encoder` is deprecated in 1.7.0.\")\n"
     ]
    },
    {
     "name": "stdout",
     "output_type": "stream",
     "text": [
      "Accuracy: 0.8708\n",
      "----------------------------------------\n",
      "Training with params: {'n_estimators': 150, 'max_depth': 15, 'learning_rate': 0.2}\n"
     ]
    },
    {
     "name": "stderr",
     "output_type": "stream",
     "text": [
      "/home/andyyythan/.conda/envs/xgb_env/lib/python3.9/site-packages/xgboost/sklearn.py:1395: UserWarning: `use_label_encoder` is deprecated in 1.7.0.\n",
      "  warnings.warn(\"`use_label_encoder` is deprecated in 1.7.0.\")\n"
     ]
    },
    {
     "name": "stdout",
     "output_type": "stream",
     "text": [
      "Accuracy: 0.8698\n",
      "----------------------------------------\n",
      "\n",
      "Best Parameters: {'n_estimators': 150, 'max_depth': 7, 'learning_rate': 0.2}\n",
      "Best Accuracy: 0.87322775340709\n",
      "Classification Report for Best Model:\n",
      "               precision    recall  f1-score   support\n",
      "\n",
      "       hyper       0.75      0.57      0.65     36197\n",
      "        hypo       0.55      0.03      0.05      2463\n",
      "      normal       0.89      0.96      0.92    157842\n",
      "\n",
      "    accuracy                           0.87    196502\n",
      "   macro avg       0.73      0.52      0.54    196502\n",
      "weighted avg       0.86      0.87      0.86    196502\n",
      "\n"
     ]
    }
   ],
   "source": [
    "from sklearn.model_selection import train_test_split\n",
    "from sklearn.preprocessing import LabelEncoder\n",
    "from sklearn.metrics import classification_report, accuracy_score\n",
    "from xgboost import XGBClassifier\n",
    "import itertools\n",
    "\n",
    "\n",
    "df_model = df.drop(columns=[\"subject_id\", \"charttime\", \"glucose\", \"next_glucose\"])\n",
    "\n",
    "\n",
    "df_model.dropna(inplace=True)\n",
    "\n",
    "le = LabelEncoder()\n",
    "df_model[\"label\"] = le.fit_transform(df_model[\"label\"])\n",
    "\n",
    "\n",
    "X = df_model.drop(columns=[\"label\"])\n",
    "y = df_model[\"label\"]\n",
    "\n",
    "\n",
    "X_train, X_test, y_train, y_test = train_test_split(\n",
    "    X, y, test_size=0.2, random_state=42, stratify=y\n",
    ")\n",
    "\n",
    "scaler = StandardScaler()\n",
    "\n",
    "X_train_scaled = scaler.fit_transform(X_train)\n",
    "\n",
    "X_test_scaled = scaler.transform(X_test)\n",
    "\n",
    "param_grid = {\n",
    "    'n_estimators': [50, 100, 150],\n",
    "    'max_depth': [3, 5, 7, 9, 15],\n",
    "    'learning_rate': [0.1, 0.2]\n",
    "}\n",
    "\n",
    "# Generate all combinations\n",
    "keys, values = zip(*param_grid.items())\n",
    "param_combinations = [dict(zip(keys, v)) for v in itertools.product(*values)]\n",
    "\n",
    "best_acc = 0\n",
    "best_params = None\n",
    "best_report = None\n",
    "\n",
    "for params in param_combinations:\n",
    "    print(f\"Training with params: {params}\")\n",
    "    model = XGBClassifier(use_label_encoder=False, eval_metric='mlogloss', random_state=42, **params)\n",
    "    model.fit(X_train_scaled, y_train)\n",
    "    y_pred = model.predict(X_test_scaled)\n",
    "    \n",
    "    acc = accuracy_score(y_test, y_pred)\n",
    "    print(f\"Accuracy: {acc:.4f}\")\n",
    "    \n",
    "    if acc > best_acc:\n",
    "        best_acc = acc\n",
    "        best_params = params\n",
    "        best_report = classification_report(y_test, y_pred, target_names=le.classes_)\n",
    "    print(\"-\" * 40)\n",
    "\n",
    "print(\"\\nBest Parameters:\", best_params)\n",
    "print(\"Best Accuracy:\", best_acc)\n",
    "print(\"Classification Report for Best Model:\\n\", best_report)\n"
   ]
  },
  {
   "cell_type": "markdown",
   "id": "a2196915",
   "metadata": {},
   "source": [
    "Best Params for classification is n_estimators 150, max_depth 9, learning_rate 0.1."
   ]
  },
  {
   "cell_type": "code",
   "execution_count": null,
   "id": "e627aad3",
   "metadata": {},
   "outputs": [
    {
     "name": "stdout",
     "output_type": "stream",
     "text": [
      "0.8729733030707066\n",
      "              precision    recall  f1-score   support\n",
      "\n",
      "       hyper       0.74      0.57      0.65     36197\n",
      "        hypo       0.63      0.02      0.04      2463\n",
      "      normal       0.89      0.96      0.92    157842\n",
      "\n",
      "    accuracy                           0.87    196502\n",
      "   macro avg       0.76      0.52      0.54    196502\n",
      "weighted avg       0.86      0.87      0.86    196502\n",
      "\n"
     ]
    }
   ],
   "source": [
    "# Initialize and train the XGBoost model\n",
    "xgb_model = XGBClassifier(eval_metric=\"mlogloss\", random_state=42, n_estimators=150, max_depth=7, learning_rate=0.2)\n",
    "xgb_model.fit(X_train_scaled, y_train)\n",
    "\n",
    "# Predict on the test set\n",
    "y_pred = xgb_model.predict(X_test_scaled)\n",
    "\n",
    "\n",
    "print(accuracy_score(y_test,y_pred))\n",
    "# Classification report\n",
    "report = classification_report(y_test, y_pred, target_names=le.classes_)\n",
    "\n",
    "print(report)"
   ]
  }
 ],
 "metadata": {
  "kernelspec": {
   "display_name": "xgb_env",
   "language": "python",
   "name": "python3"
  },
  "language_info": {
   "codemirror_mode": {
    "name": "ipython",
    "version": 3
   },
   "file_extension": ".py",
   "mimetype": "text/x-python",
   "name": "python",
   "nbconvert_exporter": "python",
   "pygments_lexer": "ipython3",
   "version": "3.9.21"
  }
 },
 "nbformat": 4,
 "nbformat_minor": 5
}
