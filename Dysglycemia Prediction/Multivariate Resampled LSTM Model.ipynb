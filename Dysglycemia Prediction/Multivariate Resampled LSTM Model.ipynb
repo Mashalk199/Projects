{
 "cells": [
  {
   "cell_type": "code",
   "execution_count": 1,
   "id": "eb2c907e",
   "metadata": {
    "id": "eb2c907e"
   },
   "outputs": [],
   "source": [
    "seed = 3906303"
   ]
  },
  {
   "cell_type": "code",
   "execution_count": 2,
   "id": "69ad3916",
   "metadata": {
    "id": "69ad3916"
   },
   "outputs": [],
   "source": [
    "import numpy as np\n",
    "import pandas as pd\n",
    "import seaborn as sns\n",
    "import matplotlib.pyplot as plt\n",
    "import tensorflow as tf\n",
    "from tensorflow.keras.metrics import RootMeanSquaredError\n",
    "from sklearn.metrics import r2_score, classification_report, confusion_matrix, roc_auc_score\n",
    "from sklearn.model_selection import train_test_split\n",
    "from sklearn.preprocessing import StandardScaler, label_binarize, LabelEncoder\n",
    "\n",
    "import pickle\n",
    "import glob, os\n",
    "import gzip\n",
    "import random\n",
    "np.random.seed(seed)\n",
    "random.seed(seed)"
   ]
  },
  {
   "cell_type": "markdown",
   "id": "8Q0dcCNGyjJc",
   "metadata": {
    "id": "8Q0dcCNGyjJc"
   },
   "source": [
    "## Load dataset"
   ]
  },
  {
   "cell_type": "markdown",
   "id": "4WNxIlW8syto",
   "metadata": {
    "id": "4WNxIlW8syto"
   },
   "source": [
    "Here we read in all the measurement files created in the datagen notebook. Each dataframe is a separate file, which is each a separate table of measurement readings of particular types."
   ]
  },
  {
   "cell_type": "code",
   "execution_count": 3,
   "id": "fvVZ1hJdg8s1",
   "metadata": {
    "id": "fvVZ1hJdg8s1"
   },
   "outputs": [],
   "source": [
    "# Create dictionary of measurement-type dataframes\n",
    "MEAS = {\n",
    "    name: pd.read_csv(\n",
    "        fp,\n",
    "        parse_dates=['charttime'],       # parsed dates on the fly\n",
    "        low_memory=False                 # avoids mixed-type warnings\n",
    "    )\n",
    "    for fp  in sorted(glob.glob('Datagen/*_filtered_chartevents.csv'))\n",
    "    for name in [os.path.basename(fp).split('_')[0]]\n",
    "}\n",
    "\n",
    "FEATURES = list(MEAS.keys())\n",
    "F        = len(FEATURES)             # number of features\n",
    "GLU_IDX  = FEATURES.index('bg')     # which column contains glucose"
   ]
  },
  {
   "cell_type": "code",
   "execution_count": 4,
   "id": "f6HaTFPFvJ4M",
   "metadata": {
    "id": "f6HaTFPFvJ4M"
   },
   "outputs": [
    {
     "data": {
      "text/plain": [
       "['abpm', 'bg', 'cvp', 'f', 'hr', 'hrh', 'hrl', 'nbpm', 'rr', 'spo2']"
      ]
     },
     "execution_count": 4,
     "metadata": {},
     "output_type": "execute_result"
    }
   ],
   "source": [
    "FEATURES"
   ]
  },
  {
   "cell_type": "code",
   "execution_count": 5,
   "id": "3b892fee",
   "metadata": {},
   "outputs": [],
   "source": [
    "hr = MEAS['hr'].copy()"
   ]
  },
  {
   "cell_type": "markdown",
   "id": "YwrUFnBPe0r_",
   "metadata": {
    "id": "YwrUFnBPe0r_"
   },
   "source": [
    "# Data filtering and cleaning"
   ]
  },
  {
   "cell_type": "markdown",
   "id": "pBaoX7aRuqyO",
   "metadata": {
    "id": "pBaoX7aRuqyO"
   },
   "source": [
    "Below we filter impossible values for the physiological features. No negative numbers, except for rare cases of CVP feature."
   ]
  },
  {
   "cell_type": "code",
   "execution_count": 6,
   "id": "KRz4MR5FQcZu",
   "metadata": {
    "id": "KRz4MR5FQcZu"
   },
   "outputs": [
    {
     "name": "stdout",
     "output_type": "stream",
     "text": [
      "abpm: 61408 invalid rows\n",
      "bg: 351 invalid rows\n",
      "cvp: 73743 invalid rows\n",
      "f: 1052 invalid rows\n",
      "hr: 3926 invalid rows\n",
      "hrh: 5461 invalid rows\n",
      "hrl: 3986 invalid rows\n",
      "nbpm: 98189 invalid rows\n",
      "rr: 43720 invalid rows\n",
      "spo2: 3251 invalid rows\n"
     ]
    }
   ],
   "source": [
    "#  Per-variable rules. Only reject impossible numbers\n",
    "LOGIC_RULES = {\n",
    "    'bg' : lambda s: (s >= 10) & (s <= 2656),                     # historically recorded extreme mg/dL\n",
    "    'hr'  : lambda s: (s >= 20) & (s <= 600),                     # beats / min\n",
    "    'rr'  : lambda s: (s >= 6) & (s <= 60),                       # breaths / min\n",
    "    'spo2': lambda s: (s >= 50) & (s <= 100),                     # % saturation\n",
    "    'nbpm': lambda s: (s >= 50) & (s <= 130),                     # mm Hg\n",
    "    'abpm': lambda s: (s >= 50) & (s <= 130),                     # mm Hg\n",
    "    'f'   : lambda s: (s >= 53) & (s <= 116),                     # F < 0 impossible\n",
    "    # CVP can dip a few mm Hg negative during inspiration\n",
    "    'cvp' : lambda s: (s >= -5) & (s <= 20),                      # allow mild physio negative\n",
    "    'hrl' : lambda s: (s >= 30) & (s <= 100),\n",
    "    'hrh' : lambda s: (s >= 100) & (s <= 600),\n",
    "}\n",
    "\n",
    "def filter_impossible(df, short_name):\n",
    "    df = df.copy()\n",
    "    rule = LOGIC_RULES.get(short_name)\n",
    "    if rule is None:\n",
    "        raise KeyError(f\"No logic rule defined for '{short_name}'\")\n",
    "    return df[rule(df['value'])]\n",
    "\n",
    "# Apply to every dataframe in the MEAS dict\n",
    "MEAS_CLEAN = {\n",
    "    name: filter_impossible(df, name)\n",
    "    for name, df in MEAS.items()\n",
    "}\n",
    "\n",
    "# Invert logic rules to capture invalid (impossible) values\n",
    "def get_invalid(df, short_name):\n",
    "    df = df.copy()\n",
    "    rule = LOGIC_RULES.get(short_name)\n",
    "    if rule is None:\n",
    "        raise KeyError(f\"No logic rule defined for '{short_name}'\")\n",
    "    return df[~rule(df['value'])]  # Invert the logic to get invalids\n",
    "\n",
    "# Store invalid rows per measurement\n",
    "MEAS_INVALID = {\n",
    "    name: get_invalid(df, name)\n",
    "    for name, df in MEAS.items()\n",
    "}\n",
    "\n",
    "# Print counts of invalid entries\n",
    "for name, df in MEAS_INVALID.items():\n",
    "    print(f\"{name}: {len(df)} invalid rows\")\n"
   ]
  },
  {
   "cell_type": "markdown",
   "id": "f508b32d",
   "metadata": {},
   "source": [
    "## Valid data range sources:\n",
    "- Blood Glucose: 10-2656 mg/dL https://casereports.bmj.com/content/15/7/e245890 (min recorded)\n",
    "- Heartrate: 20–600 bpm https://en.wikipedia.org/wiki/Heart_rate (max recorded)\n",
    "- Respiratory Rate: 6–60 breaths per minute https://en.wikipedia.org/wiki/Respiratory_rate\n",
    "- Oxygen Saturation: 50–100% https://www.verywellhealth.com/blood-oxygen-level-8656297\n",
    "- Non-Invasive Blood Pressure Mean: 50–130 mmHg https://www.healthline.com/health/mean-arterial-pressure#high-map\n",
    "- Arterial Blood Pressure Mean: 50–130 mmHg https://www.healthline.com/health/mean-arterial-pressure#high-map\n",
    "- Temperature Fahrenheit: 53–116°F https://en.wikipedia.org/wiki/Human_body_temperature (lowest recorded)\n",
    "- Central Venous Pressure: -5 to 20 mmHg (lost source)\n",
    "- Heart Rate Alarm Low: 30–100 bpm https://www.verywellhealth.com/dangerous-heart-rate-5215509\n",
    "- Heart Rate Alarm High: 100–600 bpm https://en.wikipedia.org/wiki/Heart_rate (same as above)"
   ]
  },
  {
   "cell_type": "markdown",
   "id": "f4b3b772",
   "metadata": {
    "id": "f4b3b772"
   },
   "source": [
    "# Split Dataset into Training, Validation and Testing Datasets"
   ]
  },
  {
   "cell_type": "code",
   "execution_count": 7,
   "id": "OZjtGiJgoJMd",
   "metadata": {
    "id": "OZjtGiJgoJMd"
   },
   "outputs": [],
   "source": [
    "unique_subjects = MEAS_CLEAN['bg']['subject_id'].unique()\n",
    "train_subjects, test_subjects = train_test_split(unique_subjects, test_size=0.2,\n",
    "                                         random_state=seed)\n",
    "train_subjects, val_subjects  = train_test_split(train_subjects, test_size=0.25,\n",
    "                                         random_state=seed)\n",
    "\n",
    "SPLIT = {'train': train_subjects, 'val': val_subjects, 'test': test_subjects}"
   ]
  },
  {
   "cell_type": "markdown",
   "id": "NUT5LDDo3wjh",
   "metadata": {
    "id": "NUT5LDDo3wjh"
   },
   "source": [
    "### Hyperparameters"
   ]
  },
  {
   "cell_type": "code",
   "execution_count": 8,
   "id": "MiIWHZzSyBeM",
   "metadata": {
    "id": "MiIWHZzSyBeM"
   },
   "outputs": [],
   "source": [
    "FREQ       = '2H'           # 2-hour bins\n",
    "MAX_HOURS  = 48\n",
    "STEPS      = MAX_HOURS // 2 # 48 h ÷ 2 h = 24 bins\n",
    "L          = 6               # look-back  steps (12 hours of history)\n",
    "H          = 1               # look-ahead steps (direct subsequent prediction)\n",
    "SENTINEL   = -999.0            # value the Masking layer will ignore"
   ]
  },
  {
   "cell_type": "markdown",
   "id": "WI9SjVB8yB9q",
   "metadata": {
    "id": "WI9SjVB8yB9q"
   },
   "source": [
    "### Here we resample the data to ensure there is a row for every timestep interval of 2 hours."
   ]
  },
  {
   "cell_type": "code",
   "execution_count": 9,
   "id": "JSTWAz_gx9Dh",
   "metadata": {
    "id": "JSTWAz_gx9Dh"
   },
   "outputs": [],
   "source": [
    "def resample_stay_multi(stay_id, dfs_by_feat):\n",
    "\n",
    "    mat = np.full((STEPS, F), np.nan, dtype='float32')\n",
    "\n",
    "    # Find earliest timestamp amongst all features\n",
    "    start_time = None\n",
    "    # Visit all feature dataframes one by one, and keep track of earliest recorded time\n",
    "    for df in dfs_by_feat.values():\n",
    "        s = df.loc[df['stay_id'] == stay_id, 'charttime']\n",
    "        if not s.empty:\n",
    "            t0 = s.min()\n",
    "            start_time = t0 if start_time is None else min(start_time, t0)\n",
    "\n",
    "    # Return None if none of the feature dfs have the stay_id\n",
    "    if start_time is None:\n",
    "        return None\n",
    "\n",
    "    # Standardise horizon length of icu stay measurements\n",
    "    horizon = pd.date_range(start=start_time.floor(FREQ),\n",
    "                            periods=STEPS,\n",
    "                            freq=FREQ)\n",
    "\n",
    "    # Fill one column of matrix per feature\n",
    "    for j, feat in enumerate(FEATURES):\n",
    "        g = dfs_by_feat[feat]\n",
    "        g = g[g['stay_id'] == stay_id]\n",
    "        if g.empty:\n",
    "          # Column remains NaNs\n",
    "            continue\n",
    "        s = (g.set_index('charttime')['value']\n",
    "               .resample(FREQ).mean())\n",
    "        # reindex sets length of values to be exactly STEPS length long,\n",
    "        # by trancating or padding with NaNs\n",
    "        mat[:, j] = s.reindex(horizon).values\n",
    "\n",
    "    return mat                       # (STEPS, F)"
   ]
  },
  {
   "cell_type": "markdown",
   "id": "aed2cedc",
   "metadata": {
    "id": "aed2cedc"
   },
   "source": [
    "Here we create the data to be fed into the model. Each row of data in the X datasets is a sequence of BG measurements. The Y datasets contain a BG reading that follows directly from that sequence after.\n",
    "\n",
    "The approach we took is so that a sequence of measurements (starting from the first) is created of certain length from each ICU admission, which is taken as the X, and the following value after the sequence is taken as the Y. Then the window is slid over by one so that the sequence is slightly different, creating a new X value and a new following Y value. This process is repeated until the end of the ICU admission measurement sequence is reached, then a new ICU admission is chosen, until all ICU admissions have had their sequences recorded."
   ]
  },
  {
   "cell_type": "code",
   "execution_count": 10,
   "id": "9JFB1xgjyNQM",
   "metadata": {
    "id": "9JFB1xgjyNQM"
   },
   "outputs": [],
   "source": [
    "def make_Xy_multi(subj_ids, fit_scaler=False, scaler_dict=None):\n",
    "    X_stays = []\n",
    "\n",
    "    # Create dictionary of all feature dataframes for the current split\n",
    "    dfs_by_feat = {}\n",
    "    for feat, df in MEAS_CLEAN.items():\n",
    "        df_ = df[df['subject_id'].isin(subj_ids)].copy()\n",
    "        df_['charttime'] = pd.to_datetime(df_['charttime'])\n",
    "        dfs_by_feat[feat] = df_\n",
    "\n",
    "    # Retrieve all unique stay_ids across all feature dataframes\n",
    "    all_stays = pd.concat([d[['stay_id']] for d in dfs_by_feat.values()]\n",
    "                          ).drop_duplicates()['stay_id'].values\n",
    "    # Creates a list of (STEPS, F) matrices\n",
    "    for sid in all_stays:\n",
    "        M = resample_stay_multi(sid, dfs_by_feat)   # (STEPS, F) or None\n",
    "        # Only append the matrix if at least one of the dataframes contains a value\n",
    "        if M is not None:\n",
    "            X_stays.append(M)\n",
    "\n",
    "    # Convert to list of stays to 3D tensor shape\n",
    "    X_stays = np.stack(X_stays)          # (N_stays, STEPS, F)\n",
    "\n",
    "    # Feature-wise Standardisation\n",
    "    if scaler_dict is None:\n",
    "        scaler_dict = {}\n",
    "    for j in range(F):\n",
    "        # Concatenate all feature j columns across all stays, include every row, stack them\n",
    "        col = X_stays[:, :, j].ravel()\n",
    "        # NaN mask\n",
    "        mask = ~np.isnan(col)\n",
    "        if fit_scaler:\n",
    "            mu = np.nanmean(col)\n",
    "            sd = np.nanstd(col)\n",
    "            # Protects program from division-by-zero error by ensuring if col is all NaNs, 0 is replaced with 1\n",
    "            sd = sd if sd != 0 else 1.0\n",
    "            scaler_dict[j] = (mu, sd)\n",
    "        # Retrieves values for std and mean for when non-training splits are scaled\n",
    "        mu, sd = scaler_dict[j]\n",
    "        # Scales non-NaN data\n",
    "        col[mask] = (col[mask] - mu) / sd\n",
    "\n",
    "        # Sets a slice of dimension (X_stays.shape[0], STEPS) of a particular feature to the col variable\n",
    "        X_stays[:, :, j] = col.reshape(X_stays.shape[0], STEPS)\n",
    "\n",
    "    # Sliding window\n",
    "    windows, targets = [], []\n",
    "    for stay in X_stays:\n",
    "        # Window slides across every point so that the entire horizon of the ICU stay is included once\n",
    "        for t0 in range(0, STEPS - L - H + 1):\n",
    "            x_win = stay[t0 : t0 + L, :]                # Look-back window\n",
    "            y_val = stay[t0 + L + H - 1, GLU_IDX]       # Glucose value following window\n",
    "            if not np.isnan(y_val):                     # ensure that the final y value is an actual value\n",
    "                windows.append(x_win)\n",
    "                targets.append(y_val)\n",
    "\n",
    "    X = np.array(windows, dtype='float32')             # (N, L, F)\n",
    "    y = np.array(targets, dtype='float32')             # (N,)\n",
    "\n",
    "    # mask NaN timesteps\n",
    "    X[np.isnan(X)] = SENTINEL\n",
    "    return X, y, scaler_dict"
   ]
  },
  {
   "cell_type": "code",
   "execution_count": 11,
   "id": "4dc3a21e",
   "metadata": {},
   "outputs": [],
   "source": [
    "os.makedirs('Pickles', exist_ok=True)"
   ]
  },
  {
   "cell_type": "code",
   "execution_count": 12,
   "id": "p2166dlHEGBg",
   "metadata": {
    "id": "p2166dlHEGBg"
   },
   "outputs": [
    {
     "name": "stdout",
     "output_type": "stream",
     "text": [
      "Saved train set -> 10.1 MB\n"
     ]
    }
   ],
   "source": [
    "X_train, y_train, SCALERS = make_Xy_multi(SPLIT['train'], fit_scaler=True)\n",
    "\n",
    "# Save train data and scalers immediately\n",
    "train_path = 'Pickles/filtered_glu_train.pkl.gz'\n",
    "with gzip.open(train_path, 'wb') as f:\n",
    "    pickle.dump({\n",
    "        'X_train': X_train,\n",
    "        'y_train': y_train,\n",
    "        'scalers': SCALERS\n",
    "    }, f, protocol=pickle.HIGHEST_PROTOCOL)\n",
    "\n",
    "print(f\"Saved train set -> {os.path.getsize(train_path)/1e6:.1f} MB\")"
   ]
  },
  {
   "cell_type": "code",
   "execution_count": 13,
   "id": "G-JcyoOjERA-",
   "metadata": {
    "id": "G-JcyoOjERA-"
   },
   "outputs": [
    {
     "name": "stdout",
     "output_type": "stream",
     "text": [
      "Saved validation set -> 3.4 MB\n"
     ]
    }
   ],
   "source": [
    "X_val, y_val, _ = make_Xy_multi(SPLIT['val'], scaler_dict=SCALERS)\n",
    "\n",
    "# Save val data immediately\n",
    "val_path = 'Pickles/filtered_glu_val.pkl.gz'\n",
    "with gzip.open(val_path, 'wb') as f:\n",
    "    pickle.dump({\n",
    "        'X_val': X_val,\n",
    "        'y_val': y_val\n",
    "    }, f, protocol=pickle.HIGHEST_PROTOCOL)\n",
    "\n",
    "print(f\"Saved validation set -> {os.path.getsize(val_path)/1e6:.1f} MB\")\n"
   ]
  },
  {
   "cell_type": "code",
   "execution_count": 14,
   "id": "cvTuKx1bEWvS",
   "metadata": {
    "id": "cvTuKx1bEWvS"
   },
   "outputs": [
    {
     "name": "stdout",
     "output_type": "stream",
     "text": [
      "Saved test set -> 3.4 MB\n"
     ]
    }
   ],
   "source": [
    "X_test, y_test, _ = make_Xy_multi(SPLIT['test'], scaler_dict=SCALERS)\n",
    "\n",
    "# Save test data immediately\n",
    "test_path = 'Pickles/filtered_glu_test.pkl.gz'\n",
    "with gzip.open(test_path, 'wb') as f:\n",
    "    pickle.dump({\n",
    "        'X_test': X_test,\n",
    "        'y_test': y_test\n",
    "    }, f, protocol=pickle.HIGHEST_PROTOCOL)\n",
    "\n",
    "print(f\"Saved test set -> {os.path.getsize(test_path)/1e6:.1f} MB\")"
   ]
  },
  {
   "cell_type": "code",
   "execution_count": 15,
   "id": "myv077YiwTuS",
   "metadata": {
    "id": "myv077YiwTuS"
   },
   "outputs": [
    {
     "name": "stdout",
     "output_type": "stream",
     "text": [
      "Glucose  μ=147.7  σ=64.0\n"
     ]
    }
   ],
   "source": [
    "# After you build SCALERS in make_Xy_multi\n",
    "mu_glu, std_glu = SCALERS[GLU_IDX]        \n",
    "print(f\"Glucose  μ={mu_glu:.1f}  σ={std_glu:.1f}\")\n"
   ]
  },
  {
   "cell_type": "code",
   "execution_count": 16,
   "id": "EFRdNVBm_C1Z",
   "metadata": {
    "id": "EFRdNVBm_C1Z"
   },
   "outputs": [
    {
     "name": "stdout",
     "output_type": "stream",
     "text": [
      "Train: (255142, 6, 10) (255142,)\n",
      "Val  : (85896, 6, 10) (85896,)\n",
      "Test : (84763, 6, 10) (84763,)\n"
     ]
    }
   ],
   "source": [
    "print(\"Train:\", X_train.shape, y_train.shape)\n",
    "print(\"Val  :\", X_val.shape,   y_val.shape)\n",
    "print(\"Test :\", X_test.shape,  y_test.shape)"
   ]
  },
  {
   "cell_type": "code",
   "execution_count": 17,
   "id": "EdDbLesv5Hdy",
   "metadata": {
    "id": "EdDbLesv5Hdy"
   },
   "outputs": [
    {
     "name": "stdout",
     "output_type": "stream",
     "text": [
      "Any NaN in y_train ? False\n",
      "Any NaN in X_train ? False\n",
      "NaN count: 0\n"
     ]
    }
   ],
   "source": [
    "print(\"Any NaN in y_train ?\", np.isnan(y_train).any())\n",
    "print(\"Any NaN in X_train ?\", np.isnan(X_train).any())\n",
    "\n",
    "# How many?\n",
    "print(\"NaN count:\", np.isnan(X_train).sum())"
   ]
  },
  {
   "cell_type": "code",
   "execution_count": 6,
   "id": "USMpFcAiLKOE",
   "metadata": {
    "id": "USMpFcAiLKOE"
   },
   "outputs": [],
   "source": [
    "BATCH = 64\n",
    "def make_ds(X, y, shuffle=True):\n",
    "    ds = tf.data.Dataset.from_tensor_slices((X, y))\n",
    "    if shuffle:\n",
    "        ds = ds.shuffle(len(y), seed=seed)\n",
    "    return ds.batch(BATCH).prefetch(tf.data.AUTOTUNE)"
   ]
  },
  {
   "cell_type": "code",
   "execution_count": 7,
   "id": "gZXuchmOLMf5",
   "metadata": {
    "id": "gZXuchmOLMf5"
   },
   "outputs": [],
   "source": [
    "ds_train = make_ds(X_train, y_train, shuffle=True)\n",
    "ds_val   = make_ds(X_val,   y_val,   shuffle=False)\n",
    "ds_test  = make_ds(X_test,  y_test,  shuffle=False)"
   ]
  },
  {
   "cell_type": "code",
   "execution_count": 20,
   "id": "27DSFKlALWUJ",
   "metadata": {
    "colab": {
     "base_uri": "https://localhost:8080/",
     "height": 267
    },
    "id": "27DSFKlALWUJ",
    "outputId": "7a85fc99-c884-4c41-82e2-f0248ab6c99e"
   },
   "outputs": [
    {
     "name": "stdout",
     "output_type": "stream",
     "text": [
      "Model: \"sequential\"\n",
      "_________________________________________________________________\n",
      " Layer (type)                Output Shape              Param #   \n",
      "=================================================================\n",
      " masking (Masking)           (None, 6, 10)             0         \n",
      "                                                                 \n",
      " lstm (LSTM)                 (None, 64)                19200     \n",
      "                                                                 \n",
      " dense (Dense)               (None, 32)                2080      \n",
      "                                                                 \n",
      " dense_1 (Dense)             (None, 1)                 33        \n",
      "                                                                 \n",
      "=================================================================\n",
      "Total params: 21,313\n",
      "Trainable params: 21,313\n",
      "Non-trainable params: 0\n",
      "_________________________________________________________________\n"
     ]
    }
   ],
   "source": [
    "model = tf.keras.Sequential([\n",
    "    tf.keras.layers.Masking(mask_value=SENTINEL, input_shape=(L, F)),\n",
    "    tf.keras.layers.LSTM(64),\n",
    "    # A dense layer here is necessary, as each hidden state output, which is\n",
    "    # the output of an LSTM unit is only within the range of a tanh activation function,\n",
    "    # so further transformation is needed\n",
    "    tf.keras.layers.Dense(32, activation='relu'),\n",
    "    tf.keras.layers.Dense(1)                   # regression\n",
    "])\n",
    "\n",
    "model.compile(loss='mse', optimizer='adam', metrics=['mae', RootMeanSquaredError(name='rmse'), 'mse'])\n",
    "model.summary()"
   ]
  },
  {
   "cell_type": "code",
   "execution_count": 21,
   "id": "iCItqTtdO1sS",
   "metadata": {
    "id": "iCItqTtdO1sS"
   },
   "outputs": [],
   "source": [
    "# Create directory if it doesn't exist\n",
    "os.makedirs('models', exist_ok=True)"
   ]
  },
  {
   "cell_type": "code",
   "execution_count": 22,
   "id": "yfy1ukOPLYTR",
   "metadata": {
    "colab": {
     "base_uri": "https://localhost:8080/"
    },
    "id": "yfy1ukOPLYTR",
    "outputId": "7e65fdc0-b857-4785-c00f-661b0207ed1c"
   },
   "outputs": [
    {
     "name": "stdout",
     "output_type": "stream",
     "text": [
      "Epoch 1/100\n",
      "3986/3987 [============================>.] - ETA: 0s - loss: 0.7864 - mae: 0.6199 - rmse: 0.8868 - mse: 0.7864\n",
      "Epoch 1: saving model to models\\correctly_filtered_multivar_epoch_01.h5\n",
      "3987/3987 [==============================] - 18s 4ms/step - loss: 0.7864 - mae: 0.6199 - rmse: 0.8868 - mse: 0.7864 - val_loss: 0.8048 - val_mae: 0.6173 - val_rmse: 0.8971 - val_mse: 0.8048\n",
      "Epoch 2/100\n",
      "3986/3987 [============================>.] - ETA: 0s - loss: 0.7834 - mae: 0.6181 - rmse: 0.8851 - mse: 0.7834\n",
      "Epoch 2: saving model to models\\correctly_filtered_multivar_epoch_02.h5\n",
      "3987/3987 [==============================] - 16s 4ms/step - loss: 0.7834 - mae: 0.6181 - rmse: 0.8851 - mse: 0.7834 - val_loss: 0.8088 - val_mae: 0.6348 - val_rmse: 0.8993 - val_mse: 0.8088\n",
      "Epoch 3/100\n",
      "3987/3987 [==============================] - ETA: 0s - loss: 0.7796 - mae: 0.6159 - rmse: 0.8829 - mse: 0.7796\n",
      "Epoch 3: saving model to models\\correctly_filtered_multivar_epoch_03.h5\n",
      "3987/3987 [==============================] - 18s 4ms/step - loss: 0.7796 - mae: 0.6159 - rmse: 0.8829 - mse: 0.7796 - val_loss: 0.7941 - val_mae: 0.6215 - val_rmse: 0.8911 - val_mse: 0.7941\n",
      "Epoch 4/100\n",
      "3985/3987 [============================>.] - ETA: 0s - loss: 0.7745 - mae: 0.6135 - rmse: 0.8800 - mse: 0.7745\n",
      "Epoch 4: saving model to models\\correctly_filtered_multivar_epoch_04.h5\n",
      "3987/3987 [==============================] - 19s 5ms/step - loss: 0.7745 - mae: 0.6135 - rmse: 0.8800 - mse: 0.7745 - val_loss: 0.7998 - val_mae: 0.6200 - val_rmse: 0.8943 - val_mse: 0.7998\n",
      "Epoch 5/100\n",
      "3981/3987 [============================>.] - ETA: 0s - loss: 0.7759 - mae: 0.6142 - rmse: 0.8809 - mse: 0.7759\n",
      "Epoch 5: saving model to models\\correctly_filtered_multivar_epoch_05.h5\n",
      "3987/3987 [==============================] - 19s 5ms/step - loss: 0.7760 - mae: 0.6142 - rmse: 0.8809 - mse: 0.7760 - val_loss: 0.7942 - val_mae: 0.6186 - val_rmse: 0.8912 - val_mse: 0.7942\n",
      "Epoch 6/100\n",
      "3982/3987 [============================>.] - ETA: 0s - loss: 0.7742 - mae: 0.6136 - rmse: 0.8799 - mse: 0.7742\n",
      "Epoch 6: saving model to models\\correctly_filtered_multivar_epoch_06.h5\n",
      "3987/3987 [==============================] - 21s 5ms/step - loss: 0.7739 - mae: 0.6135 - rmse: 0.8797 - mse: 0.7739 - val_loss: 0.7976 - val_mae: 0.6291 - val_rmse: 0.8931 - val_mse: 0.7976\n",
      "Epoch 7/100\n",
      "3982/3987 [============================>.] - ETA: 0s - loss: 0.7735 - mae: 0.6133 - rmse: 0.8795 - mse: 0.7735\n",
      "Epoch 7: saving model to models\\correctly_filtered_multivar_epoch_07.h5\n",
      "3987/3987 [==============================] - 21s 5ms/step - loss: 0.7734 - mae: 0.6133 - rmse: 0.8794 - mse: 0.7734 - val_loss: 0.7947 - val_mae: 0.6165 - val_rmse: 0.8915 - val_mse: 0.7947\n",
      "Epoch 8/100\n",
      "3986/3987 [============================>.] - ETA: 0s - loss: 0.7658 - mae: 0.6089 - rmse: 0.8751 - mse: 0.7658\n",
      "Epoch 8: saving model to models\\correctly_filtered_multivar_epoch_08.h5\n",
      "3987/3987 [==============================] - 21s 5ms/step - loss: 0.7658 - mae: 0.6089 - rmse: 0.8751 - mse: 0.7658 - val_loss: 0.7868 - val_mae: 0.6116 - val_rmse: 0.8870 - val_mse: 0.7868\n",
      "Epoch 9/100\n",
      "3980/3987 [============================>.] - ETA: 0s - loss: 0.7692 - mae: 0.6109 - rmse: 0.8770 - mse: 0.7692\n",
      "Epoch 9: saving model to models\\correctly_filtered_multivar_epoch_09.h5\n",
      "3987/3987 [==============================] - 23s 6ms/step - loss: 0.7692 - mae: 0.6110 - rmse: 0.8771 - mse: 0.7692 - val_loss: 0.7985 - val_mae: 0.6187 - val_rmse: 0.8936 - val_mse: 0.7985\n",
      "Epoch 10/100\n",
      "3984/3987 [============================>.] - ETA: 0s - loss: 0.7711 - mae: 0.6121 - rmse: 0.8781 - mse: 0.7711\n",
      "Epoch 10: saving model to models\\correctly_filtered_multivar_epoch_10.h5\n",
      "3987/3987 [==============================] - 22s 5ms/step - loss: 0.7711 - mae: 0.6121 - rmse: 0.8781 - mse: 0.7711 - val_loss: 0.7927 - val_mae: 0.6179 - val_rmse: 0.8903 - val_mse: 0.7927\n",
      "Epoch 11/100\n",
      "3986/3987 [============================>.] - ETA: 0s - loss: 0.7688 - mae: 0.6112 - rmse: 0.8768 - mse: 0.7688\n",
      "Epoch 11: saving model to models\\correctly_filtered_multivar_epoch_11.h5\n",
      "3987/3987 [==============================] - 23s 6ms/step - loss: 0.7688 - mae: 0.6113 - rmse: 0.8768 - mse: 0.7688 - val_loss: 0.7927 - val_mae: 0.6225 - val_rmse: 0.8903 - val_mse: 0.7927\n",
      "Epoch 12/100\n",
      "3981/3987 [============================>.] - ETA: 0s - loss: 0.7697 - mae: 0.6114 - rmse: 0.8774 - mse: 0.7697\n",
      "Epoch 12: saving model to models\\correctly_filtered_multivar_epoch_12.h5\n",
      "3987/3987 [==============================] - 25s 6ms/step - loss: 0.7696 - mae: 0.6114 - rmse: 0.8772 - mse: 0.7696 - val_loss: 0.8011 - val_mae: 0.6154 - val_rmse: 0.8950 - val_mse: 0.8011\n",
      "Epoch 13/100\n",
      "3981/3987 [============================>.] - ETA: 0s - loss: 0.7722 - mae: 0.6131 - rmse: 0.8787 - mse: 0.7722\n",
      "Epoch 13: saving model to models\\correctly_filtered_multivar_epoch_13.h5\n",
      "3987/3987 [==============================] - 23s 6ms/step - loss: 0.7719 - mae: 0.6130 - rmse: 0.8786 - mse: 0.7719 - val_loss: 0.7985 - val_mae: 0.6114 - val_rmse: 0.8936 - val_mse: 0.7985\n",
      "Epoch 14/100\n",
      "3984/3987 [============================>.] - ETA: 0s - loss: 0.7680 - mae: 0.6106 - rmse: 0.8764 - mse: 0.7680\n",
      "Epoch 14: saving model to models\\correctly_filtered_multivar_epoch_14.h5\n",
      "3987/3987 [==============================] - 25s 6ms/step - loss: 0.7679 - mae: 0.6106 - rmse: 0.8763 - mse: 0.7679 - val_loss: 0.7935 - val_mae: 0.6189 - val_rmse: 0.8908 - val_mse: 0.7935\n",
      "Epoch 15/100\n",
      "3981/3987 [============================>.] - ETA: 0s - loss: 0.7716 - mae: 0.6125 - rmse: 0.8784 - mse: 0.7716\n",
      "Epoch 15: saving model to models\\correctly_filtered_multivar_epoch_15.h5\n",
      "3987/3987 [==============================] - 25s 6ms/step - loss: 0.7717 - mae: 0.6125 - rmse: 0.8784 - mse: 0.7717 - val_loss: 0.7992 - val_mae: 0.6259 - val_rmse: 0.8940 - val_mse: 0.7992\n",
      "Epoch 16/100\n",
      "3985/3987 [============================>.] - ETA: 0s - loss: 0.7717 - mae: 0.6126 - rmse: 0.8785 - mse: 0.7717\n",
      "Epoch 16: saving model to models\\correctly_filtered_multivar_epoch_16.h5\n",
      "3987/3987 [==============================] - 26s 6ms/step - loss: 0.7716 - mae: 0.6126 - rmse: 0.8784 - mse: 0.7716 - val_loss: 0.7976 - val_mae: 0.6135 - val_rmse: 0.8931 - val_mse: 0.7976\n",
      "Epoch 17/100\n",
      "3983/3987 [============================>.] - ETA: 0s - loss: 0.7725 - mae: 0.6126 - rmse: 0.8789 - mse: 0.7725\n",
      "Epoch 17: saving model to models\\correctly_filtered_multivar_epoch_17.h5\n",
      "3987/3987 [==============================] - 29s 7ms/step - loss: 0.7724 - mae: 0.6126 - rmse: 0.8789 - mse: 0.7724 - val_loss: 0.7997 - val_mae: 0.6174 - val_rmse: 0.8943 - val_mse: 0.7997\n",
      "Epoch 18/100\n",
      "3984/3987 [============================>.] - ETA: 0s - loss: 0.7704 - mae: 0.6118 - rmse: 0.8778 - mse: 0.7704\n",
      "Epoch 18: saving model to models\\correctly_filtered_multivar_epoch_18.h5\n",
      "3987/3987 [==============================] - 25s 6ms/step - loss: 0.7705 - mae: 0.6118 - rmse: 0.8778 - mse: 0.7705 - val_loss: 0.7950 - val_mae: 0.6160 - val_rmse: 0.8916 - val_mse: 0.7950\n",
      "Epoch 19/100\n",
      "3986/3987 [============================>.] - ETA: 0s - loss: 0.7701 - mae: 0.6118 - rmse: 0.8775 - mse: 0.7701\n",
      "Epoch 19: saving model to models\\correctly_filtered_multivar_epoch_19.h5\n",
      "3987/3987 [==============================] - 26s 7ms/step - loss: 0.7701 - mae: 0.6118 - rmse: 0.8776 - mse: 0.7701 - val_loss: 0.7922 - val_mae: 0.6113 - val_rmse: 0.8900 - val_mse: 0.7922\n",
      "Epoch 20/100\n",
      "3984/3987 [============================>.] - ETA: 0s - loss: 0.7695 - mae: 0.6114 - rmse: 0.8772 - mse: 0.7695\n",
      "Epoch 20: saving model to models\\correctly_filtered_multivar_epoch_20.h5\n",
      "3987/3987 [==============================] - 27s 7ms/step - loss: 0.7695 - mae: 0.6114 - rmse: 0.8772 - mse: 0.7695 - val_loss: 0.7939 - val_mae: 0.6195 - val_rmse: 0.8910 - val_mse: 0.7939\n",
      "Epoch 21/100\n",
      "3987/3987 [==============================] - ETA: 0s - loss: 0.7671 - mae: 0.6098 - rmse: 0.8758 - mse: 0.7671\n",
      "Epoch 21: saving model to models\\correctly_filtered_multivar_epoch_21.h5\n",
      "3987/3987 [==============================] - 26s 6ms/step - loss: 0.7671 - mae: 0.6098 - rmse: 0.8758 - mse: 0.7671 - val_loss: 0.7918 - val_mae: 0.6182 - val_rmse: 0.8898 - val_mse: 0.7918\n",
      "Epoch 22/100\n",
      "3985/3987 [============================>.] - ETA: 0s - loss: 0.7661 - mae: 0.6095 - rmse: 0.8753 - mse: 0.7661\n",
      "Epoch 22: saving model to models\\correctly_filtered_multivar_epoch_22.h5\n",
      "3987/3987 [==============================] - 27s 7ms/step - loss: 0.7662 - mae: 0.6095 - rmse: 0.8753 - mse: 0.7662 - val_loss: 0.7911 - val_mae: 0.6150 - val_rmse: 0.8895 - val_mse: 0.7911\n",
      "Epoch 23/100\n",
      "3981/3987 [============================>.] - ETA: 0s - loss: 0.7665 - mae: 0.6097 - rmse: 0.8755 - mse: 0.7665\n",
      "Epoch 23: saving model to models\\correctly_filtered_multivar_epoch_23.h5\n",
      "3987/3987 [==============================] - 30s 7ms/step - loss: 0.7669 - mae: 0.6099 - rmse: 0.8757 - mse: 0.7669 - val_loss: 0.7949 - val_mae: 0.6170 - val_rmse: 0.8916 - val_mse: 0.7949\n",
      "Epoch 24/100\n",
      "3984/3987 [============================>.] - ETA: 0s - loss: 0.7674 - mae: 0.6105 - rmse: 0.8760 - mse: 0.7674\n",
      "Epoch 24: saving model to models\\correctly_filtered_multivar_epoch_24.h5\n",
      "3987/3987 [==============================] - 34s 8ms/step - loss: 0.7675 - mae: 0.6105 - rmse: 0.8761 - mse: 0.7675 - val_loss: 0.7902 - val_mae: 0.6155 - val_rmse: 0.8889 - val_mse: 0.7902\n",
      "Epoch 25/100\n",
      "3985/3987 [============================>.] - ETA: 0s - loss: 0.7655 - mae: 0.6099 - rmse: 0.8749 - mse: 0.7655\n",
      "Epoch 25: saving model to models\\correctly_filtered_multivar_epoch_25.h5\n",
      "3987/3987 [==============================] - 32s 8ms/step - loss: 0.7675 - mae: 0.6100 - rmse: 0.8761 - mse: 0.7675 - val_loss: 0.7903 - val_mae: 0.6225 - val_rmse: 0.8890 - val_mse: 0.7903\n",
      "Epoch 26/100\n",
      "3980/3987 [============================>.] - ETA: 0s - loss: 0.7630 - mae: 0.6080 - rmse: 0.8735 - mse: 0.7630\n",
      "Epoch 26: saving model to models\\correctly_filtered_multivar_epoch_26.h5\n",
      "3987/3987 [==============================] - 28s 7ms/step - loss: 0.7631 - mae: 0.6080 - rmse: 0.8736 - mse: 0.7631 - val_loss: 0.7841 - val_mae: 0.6140 - val_rmse: 0.8855 - val_mse: 0.7841\n",
      "Epoch 27/100\n",
      "3981/3987 [============================>.] - ETA: 0s - loss: 0.7610 - mae: 0.6068 - rmse: 0.8723 - mse: 0.7610\n",
      "Epoch 27: saving model to models\\correctly_filtered_multivar_epoch_27.h5\n",
      "3987/3987 [==============================] - 30s 7ms/step - loss: 0.7608 - mae: 0.6068 - rmse: 0.8723 - mse: 0.7608 - val_loss: 0.7877 - val_mae: 0.6074 - val_rmse: 0.8875 - val_mse: 0.7877\n",
      "Epoch 28/100\n",
      "3986/3987 [============================>.] - ETA: 0s - loss: 0.7603 - mae: 0.6066 - rmse: 0.8720 - mse: 0.7603\n",
      "Epoch 28: saving model to models\\correctly_filtered_multivar_epoch_28.h5\n",
      "3987/3987 [==============================] - 34s 8ms/step - loss: 0.7603 - mae: 0.6066 - rmse: 0.8719 - mse: 0.7603 - val_loss: 0.7884 - val_mae: 0.6175 - val_rmse: 0.8879 - val_mse: 0.7884\n",
      "Epoch 29/100\n",
      "3984/3987 [============================>.] - ETA: 0s - loss: 0.7636 - mae: 0.6076 - rmse: 0.8738 - mse: 0.7636\n",
      "Epoch 29: saving model to models\\correctly_filtered_multivar_epoch_29.h5\n",
      "3987/3987 [==============================] - 34s 8ms/step - loss: 0.7635 - mae: 0.6076 - rmse: 0.8738 - mse: 0.7635 - val_loss: 0.7877 - val_mae: 0.6205 - val_rmse: 0.8875 - val_mse: 0.7877\n",
      "Epoch 30/100\n",
      "3984/3987 [============================>.] - ETA: 0s - loss: 0.7624 - mae: 0.6077 - rmse: 0.8732 - mse: 0.7624\n",
      "Epoch 30: saving model to models\\correctly_filtered_multivar_epoch_30.h5\n",
      "3987/3987 [==============================] - 31s 8ms/step - loss: 0.7632 - mae: 0.6078 - rmse: 0.8736 - mse: 0.7632 - val_loss: 0.7886 - val_mae: 0.6156 - val_rmse: 0.8880 - val_mse: 0.7886\n",
      "Epoch 31/100\n",
      "3985/3987 [============================>.] - ETA: 0s - loss: 0.7637 - mae: 0.6083 - rmse: 0.8739 - mse: 0.7637\n",
      "Epoch 31: saving model to models\\correctly_filtered_multivar_epoch_31.h5\n",
      "3987/3987 [==============================] - 32s 8ms/step - loss: 0.7636 - mae: 0.6083 - rmse: 0.8739 - mse: 0.7636 - val_loss: 0.7886 - val_mae: 0.6185 - val_rmse: 0.8881 - val_mse: 0.7886\n",
      "Epoch 32/100\n",
      "3983/3987 [============================>.] - ETA: 0s - loss: 0.7634 - mae: 0.6083 - rmse: 0.8737 - mse: 0.7634\n",
      "Epoch 32: saving model to models\\correctly_filtered_multivar_epoch_32.h5\n",
      "3987/3987 [==============================] - 32s 8ms/step - loss: 0.7633 - mae: 0.6083 - rmse: 0.8737 - mse: 0.7633 - val_loss: 0.7896 - val_mae: 0.6130 - val_rmse: 0.8886 - val_mse: 0.7896\n",
      "Epoch 33/100\n",
      "3983/3987 [============================>.] - ETA: 0s - loss: 0.7630 - mae: 0.6079 - rmse: 0.8735 - mse: 0.7630\n",
      "Epoch 33: saving model to models\\correctly_filtered_multivar_epoch_33.h5\n",
      "3987/3987 [==============================] - 37s 9ms/step - loss: 0.7631 - mae: 0.6080 - rmse: 0.8735 - mse: 0.7631 - val_loss: 0.7899 - val_mae: 0.6109 - val_rmse: 0.8887 - val_mse: 0.7899\n",
      "Epoch 34/100\n",
      "3984/3987 [============================>.] - ETA: 0s - loss: 0.7633 - mae: 0.6078 - rmse: 0.8737 - mse: 0.7633\n",
      "Epoch 34: saving model to models\\correctly_filtered_multivar_epoch_34.h5\n",
      "3987/3987 [==============================] - 36s 9ms/step - loss: 0.7632 - mae: 0.6077 - rmse: 0.8736 - mse: 0.7632 - val_loss: 0.7881 - val_mae: 0.6115 - val_rmse: 0.8877 - val_mse: 0.7881\n",
      "Epoch 35/100\n",
      "3986/3987 [============================>.] - ETA: 0s - loss: 0.7614 - mae: 0.6069 - rmse: 0.8726 - mse: 0.7614\n",
      "Epoch 35: saving model to models\\correctly_filtered_multivar_epoch_35.h5\n",
      "3987/3987 [==============================] - 34s 9ms/step - loss: 0.7614 - mae: 0.6069 - rmse: 0.8726 - mse: 0.7614 - val_loss: 0.7874 - val_mae: 0.6195 - val_rmse: 0.8873 - val_mse: 0.7874\n",
      "Epoch 36/100\n",
      "3984/3987 [============================>.] - ETA: 0s - loss: 0.7621 - mae: 0.6073 - rmse: 0.8730 - mse: 0.7621\n",
      "Epoch 36: saving model to models\\correctly_filtered_multivar_epoch_36.h5\n",
      "3987/3987 [==============================] - 36s 9ms/step - loss: 0.7619 - mae: 0.6072 - rmse: 0.8729 - mse: 0.7619 - val_loss: 0.7868 - val_mae: 0.6103 - val_rmse: 0.8870 - val_mse: 0.7868\n",
      "Epoch 37/100\n",
      "3984/3987 [============================>.] - ETA: 0s - loss: 0.7606 - mae: 0.6063 - rmse: 0.8721 - mse: 0.7606\n",
      "Epoch 37: saving model to models\\correctly_filtered_multivar_epoch_37.h5\n",
      "3987/3987 [==============================] - 35s 9ms/step - loss: 0.7606 - mae: 0.6063 - rmse: 0.8721 - mse: 0.7606 - val_loss: 0.7838 - val_mae: 0.6092 - val_rmse: 0.8853 - val_mse: 0.7838\n",
      "Epoch 38/100\n",
      "3983/3987 [============================>.] - ETA: 0s - loss: 0.7611 - mae: 0.6067 - rmse: 0.8724 - mse: 0.7611\n",
      "Epoch 38: saving model to models\\correctly_filtered_multivar_epoch_38.h5\n",
      "3987/3987 [==============================] - 37s 9ms/step - loss: 0.7611 - mae: 0.6067 - rmse: 0.8724 - mse: 0.7611 - val_loss: 0.7858 - val_mae: 0.6131 - val_rmse: 0.8864 - val_mse: 0.7858\n",
      "Epoch 39/100\n",
      "3987/3987 [==============================] - ETA: 0s - loss: 0.7611 - mae: 0.6067 - rmse: 0.8724 - mse: 0.7611\n",
      "Epoch 39: saving model to models\\correctly_filtered_multivar_epoch_39.h5\n",
      "3987/3987 [==============================] - 37s 9ms/step - loss: 0.7611 - mae: 0.6067 - rmse: 0.8724 - mse: 0.7611 - val_loss: 0.7880 - val_mae: 0.6100 - val_rmse: 0.8877 - val_mse: 0.7880\n",
      "Epoch 40/100\n",
      "3984/3987 [============================>.] - ETA: 0s - loss: 0.7616 - mae: 0.6067 - rmse: 0.8727 - mse: 0.7616\n",
      "Epoch 40: saving model to models\\correctly_filtered_multivar_epoch_40.h5\n",
      "3987/3987 [==============================] - 37s 9ms/step - loss: 0.7615 - mae: 0.6067 - rmse: 0.8726 - mse: 0.7615 - val_loss: 0.7874 - val_mae: 0.6187 - val_rmse: 0.8874 - val_mse: 0.7874\n",
      "Epoch 41/100\n",
      "3981/3987 [============================>.] - ETA: 0s - loss: 0.7644 - mae: 0.6083 - rmse: 0.8743 - mse: 0.7644\n",
      "Epoch 41: saving model to models\\correctly_filtered_multivar_epoch_41.h5\n",
      "3987/3987 [==============================] - 39s 10ms/step - loss: 0.7643 - mae: 0.6083 - rmse: 0.8742 - mse: 0.7643 - val_loss: 0.7893 - val_mae: 0.6171 - val_rmse: 0.8884 - val_mse: 0.7893\n",
      "Epoch 42/100\n",
      "3985/3987 [============================>.] - ETA: 0s - loss: 0.7630 - mae: 0.6077 - rmse: 0.8735 - mse: 0.7630\n",
      "Epoch 42: saving model to models\\correctly_filtered_multivar_epoch_42.h5\n",
      "3987/3987 [==============================] - 38s 9ms/step - loss: 0.7630 - mae: 0.6077 - rmse: 0.8735 - mse: 0.7630 - val_loss: 0.7885 - val_mae: 0.6152 - val_rmse: 0.8880 - val_mse: 0.7885\n",
      "Epoch 43/100\n"
     ]
    },
    {
     "name": "stdout",
     "output_type": "stream",
     "text": [
      "3984/3987 [============================>.] - ETA: 0s - loss: 0.7624 - mae: 0.6076 - rmse: 0.8732 - mse: 0.7624\n",
      "Epoch 43: saving model to models\\correctly_filtered_multivar_epoch_43.h5\n",
      "3987/3987 [==============================] - 38s 9ms/step - loss: 0.7627 - mae: 0.6076 - rmse: 0.8733 - mse: 0.7627 - val_loss: 0.7892 - val_mae: 0.6079 - val_rmse: 0.8884 - val_mse: 0.7892\n",
      "Epoch 44/100\n",
      "3986/3987 [============================>.] - ETA: 0s - loss: 0.7625 - mae: 0.6075 - rmse: 0.8732 - mse: 0.7625\n",
      "Epoch 44: saving model to models\\correctly_filtered_multivar_epoch_44.h5\n",
      "3987/3987 [==============================] - 42s 10ms/step - loss: 0.7625 - mae: 0.6075 - rmse: 0.8732 - mse: 0.7625 - val_loss: 0.7893 - val_mae: 0.6168 - val_rmse: 0.8884 - val_mse: 0.7893\n",
      "Epoch 45/100\n",
      "3986/3987 [============================>.] - ETA: 0s - loss: 0.7632 - mae: 0.6077 - rmse: 0.8736 - mse: 0.7632\n",
      "Epoch 45: saving model to models\\correctly_filtered_multivar_epoch_45.h5\n",
      "3987/3987 [==============================] - 41s 10ms/step - loss: 0.7632 - mae: 0.6077 - rmse: 0.8736 - mse: 0.7632 - val_loss: 0.7884 - val_mae: 0.6111 - val_rmse: 0.8879 - val_mse: 0.7884\n",
      "Epoch 46/100\n",
      "3981/3987 [============================>.] - ETA: 0s - loss: 0.7624 - mae: 0.6073 - rmse: 0.8732 - mse: 0.7624\n",
      "Epoch 46: saving model to models\\correctly_filtered_multivar_epoch_46.h5\n",
      "3987/3987 [==============================] - 40s 10ms/step - loss: 0.7622 - mae: 0.6072 - rmse: 0.8730 - mse: 0.7622 - val_loss: 0.7862 - val_mae: 0.6097 - val_rmse: 0.8867 - val_mse: 0.7862\n",
      "Epoch 47/100\n",
      "3987/3987 [==============================] - ETA: 0s - loss: 0.7612 - mae: 0.6064 - rmse: 0.8725 - mse: 0.7612\n",
      "Epoch 47: saving model to models\\correctly_filtered_multivar_epoch_47.h5\n",
      "3987/3987 [==============================] - 41s 10ms/step - loss: 0.7612 - mae: 0.6064 - rmse: 0.8725 - mse: 0.7612 - val_loss: 0.7871 - val_mae: 0.6089 - val_rmse: 0.8872 - val_mse: 0.7871\n",
      "Epoch 48/100\n",
      "3984/3987 [============================>.] - ETA: 0s - loss: 0.7614 - mae: 0.6066 - rmse: 0.8726 - mse: 0.7614\n",
      "Epoch 48: saving model to models\\correctly_filtered_multivar_epoch_48.h5\n",
      "3987/3987 [==============================] - 39s 10ms/step - loss: 0.7613 - mae: 0.6065 - rmse: 0.8725 - mse: 0.7613 - val_loss: 0.7875 - val_mae: 0.6167 - val_rmse: 0.8874 - val_mse: 0.7875\n",
      "Epoch 49/100\n",
      "3986/3987 [============================>.] - ETA: 0s - loss: 0.7610 - mae: 0.6066 - rmse: 0.8724 - mse: 0.7610\n",
      "Epoch 49: saving model to models\\correctly_filtered_multivar_epoch_49.h5\n",
      "3987/3987 [==============================] - 41s 10ms/step - loss: 0.7610 - mae: 0.6066 - rmse: 0.8724 - mse: 0.7610 - val_loss: 0.7848 - val_mae: 0.6160 - val_rmse: 0.8859 - val_mse: 0.7848\n",
      "Epoch 50/100\n",
      "3986/3987 [============================>.] - ETA: 0s - loss: 0.7594 - mae: 0.6058 - rmse: 0.8714 - mse: 0.7594\n",
      "Epoch 50: saving model to models\\correctly_filtered_multivar_epoch_50.h5\n",
      "3987/3987 [==============================] - 48s 12ms/step - loss: 0.7594 - mae: 0.6058 - rmse: 0.8714 - mse: 0.7594 - val_loss: 0.7832 - val_mae: 0.6151 - val_rmse: 0.8850 - val_mse: 0.7832\n",
      "Epoch 51/100\n",
      "3986/3987 [============================>.] - ETA: 0s - loss: 0.7591 - mae: 0.6054 - rmse: 0.8713 - mse: 0.7591\n",
      "Epoch 51: saving model to models\\correctly_filtered_multivar_epoch_51.h5\n",
      "3987/3987 [==============================] - 51s 13ms/step - loss: 0.7591 - mae: 0.6054 - rmse: 0.8713 - mse: 0.7591 - val_loss: 0.7857 - val_mae: 0.6178 - val_rmse: 0.8864 - val_mse: 0.7857\n",
      "Epoch 52/100\n",
      "3984/3987 [============================>.] - ETA: 0s - loss: 0.7599 - mae: 0.6059 - rmse: 0.8717 - mse: 0.7599\n",
      "Epoch 52: saving model to models\\correctly_filtered_multivar_epoch_52.h5\n",
      "3987/3987 [==============================] - 49s 12ms/step - loss: 0.7598 - mae: 0.6059 - rmse: 0.8717 - mse: 0.7598 - val_loss: 0.7879 - val_mae: 0.6167 - val_rmse: 0.8876 - val_mse: 0.7879\n",
      "Epoch 53/100\n",
      "3985/3987 [============================>.] - ETA: 0s - loss: 0.7594 - mae: 0.6055 - rmse: 0.8715 - mse: 0.7594\n",
      "Epoch 53: saving model to models\\correctly_filtered_multivar_epoch_53.h5\n",
      "3987/3987 [==============================] - 47s 12ms/step - loss: 0.7595 - mae: 0.6055 - rmse: 0.8715 - mse: 0.7595 - val_loss: 0.7860 - val_mae: 0.6097 - val_rmse: 0.8865 - val_mse: 0.7860\n",
      "Epoch 54/100\n",
      "3985/3987 [============================>.] - ETA: 0s - loss: 0.7593 - mae: 0.6055 - rmse: 0.8714 - mse: 0.7593\n",
      "Epoch 54: saving model to models\\correctly_filtered_multivar_epoch_54.h5\n",
      "3987/3987 [==============================] - 49s 12ms/step - loss: 0.7594 - mae: 0.6055 - rmse: 0.8714 - mse: 0.7594 - val_loss: 0.7841 - val_mae: 0.6136 - val_rmse: 0.8855 - val_mse: 0.7841\n",
      "Epoch 55/100\n",
      "3985/3987 [============================>.] - ETA: 0s - loss: 0.7613 - mae: 0.6063 - rmse: 0.8726 - mse: 0.7613\n",
      "Epoch 55: saving model to models\\correctly_filtered_multivar_epoch_55.h5\n",
      "3987/3987 [==============================] - 48s 12ms/step - loss: 0.7612 - mae: 0.6063 - rmse: 0.8725 - mse: 0.7612 - val_loss: 0.7865 - val_mae: 0.6107 - val_rmse: 0.8868 - val_mse: 0.7865\n",
      "Epoch 56/100\n",
      "3986/3987 [============================>.] - ETA: 0s - loss: 0.7611 - mae: 0.6065 - rmse: 0.8724 - mse: 0.7611\n",
      "Epoch 56: saving model to models\\correctly_filtered_multivar_epoch_56.h5\n",
      "3987/3987 [==============================] - 50s 12ms/step - loss: 0.7610 - mae: 0.6065 - rmse: 0.8724 - mse: 0.7610 - val_loss: 0.7863 - val_mae: 0.6165 - val_rmse: 0.8867 - val_mse: 0.7863\n",
      "Epoch 57/100\n",
      "3985/3987 [============================>.] - ETA: 0s - loss: 0.7611 - mae: 0.6064 - rmse: 0.8724 - mse: 0.7611\n",
      "Epoch 57: saving model to models\\correctly_filtered_multivar_epoch_57.h5\n",
      "3987/3987 [==============================] - 49s 12ms/step - loss: 0.7610 - mae: 0.6064 - rmse: 0.8724 - mse: 0.7610 - val_loss: 0.7873 - val_mae: 0.6169 - val_rmse: 0.8873 - val_mse: 0.7873\n",
      "Epoch 58/100\n",
      "3983/3987 [============================>.] - ETA: 0s - loss: 0.7602 - mae: 0.6061 - rmse: 0.8719 - mse: 0.7602\n",
      "Epoch 58: saving model to models\\correctly_filtered_multivar_epoch_58.h5\n",
      "3987/3987 [==============================] - 46s 12ms/step - loss: 0.7602 - mae: 0.6062 - rmse: 0.8719 - mse: 0.7602 - val_loss: 0.7856 - val_mae: 0.6161 - val_rmse: 0.8863 - val_mse: 0.7856\n",
      "Epoch 59/100\n",
      "3985/3987 [============================>.] - ETA: 0s - loss: 0.7597 - mae: 0.6056 - rmse: 0.8716 - mse: 0.7597\n",
      "Epoch 59: saving model to models\\correctly_filtered_multivar_epoch_59.h5\n",
      "3987/3987 [==============================] - 55s 14ms/step - loss: 0.7596 - mae: 0.6056 - rmse: 0.8716 - mse: 0.7596 - val_loss: 0.7882 - val_mae: 0.6081 - val_rmse: 0.8878 - val_mse: 0.7882\n",
      "Epoch 60/100\n",
      "3985/3987 [============================>.] - ETA: 0s - loss: 0.7602 - mae: 0.6057 - rmse: 0.8719 - mse: 0.7602\n",
      "Epoch 60: saving model to models\\correctly_filtered_multivar_epoch_60.h5\n",
      "3987/3987 [==============================] - 55s 14ms/step - loss: 0.7602 - mae: 0.6057 - rmse: 0.8719 - mse: 0.7602 - val_loss: 0.7853 - val_mae: 0.6104 - val_rmse: 0.8862 - val_mse: 0.7853\n",
      "Epoch 61/100\n",
      "3985/3987 [============================>.] - ETA: 0s - loss: 0.7604 - mae: 0.6061 - rmse: 0.8720 - mse: 0.7604\n",
      "Epoch 61: saving model to models\\correctly_filtered_multivar_epoch_61.h5\n",
      "3987/3987 [==============================] - 55s 14ms/step - loss: 0.7604 - mae: 0.6061 - rmse: 0.8720 - mse: 0.7604 - val_loss: 0.7849 - val_mae: 0.6125 - val_rmse: 0.8860 - val_mse: 0.7849\n",
      "Epoch 62/100\n",
      "3985/3987 [============================>.] - ETA: 0s - loss: 0.7607 - mae: 0.6065 - rmse: 0.8722 - mse: 0.7607\n",
      "Epoch 62: saving model to models\\correctly_filtered_multivar_epoch_62.h5\n",
      "3987/3987 [==============================] - 49s 12ms/step - loss: 0.7608 - mae: 0.6066 - rmse: 0.8722 - mse: 0.7608 - val_loss: 0.7862 - val_mae: 0.6180 - val_rmse: 0.8867 - val_mse: 0.7862\n",
      "Epoch 63/100\n",
      "3984/3987 [============================>.] - ETA: 0s - loss: 0.7602 - mae: 0.6060 - rmse: 0.8719 - mse: 0.7602\n",
      "Epoch 63: saving model to models\\correctly_filtered_multivar_epoch_63.h5\n",
      "3987/3987 [==============================] - 51s 13ms/step - loss: 0.7600 - mae: 0.6060 - rmse: 0.8718 - mse: 0.7600 - val_loss: 0.7865 - val_mae: 0.6061 - val_rmse: 0.8868 - val_mse: 0.7865\n",
      "Epoch 64/100\n",
      "3985/3987 [============================>.] - ETA: 0s - loss: 0.7603 - mae: 0.6056 - rmse: 0.8719 - mse: 0.7603\n",
      "Epoch 64: saving model to models\\correctly_filtered_multivar_epoch_64.h5\n",
      "3987/3987 [==============================] - 51s 13ms/step - loss: 0.7602 - mae: 0.6056 - rmse: 0.8719 - mse: 0.7602 - val_loss: 0.7837 - val_mae: 0.6146 - val_rmse: 0.8853 - val_mse: 0.7837\n",
      "Epoch 65/100\n",
      "3985/3987 [============================>.] - ETA: 0s - loss: 0.7584 - mae: 0.6050 - rmse: 0.8709 - mse: 0.7584\n",
      "Epoch 65: saving model to models\\correctly_filtered_multivar_epoch_65.h5\n",
      "3987/3987 [==============================] - 50s 12ms/step - loss: 0.7583 - mae: 0.6050 - rmse: 0.8708 - mse: 0.7583 - val_loss: 0.7839 - val_mae: 0.6097 - val_rmse: 0.8854 - val_mse: 0.7839\n",
      "Epoch 66/100\n",
      "3985/3987 [============================>.] - ETA: 0s - loss: 0.7590 - mae: 0.6053 - rmse: 0.8712 - mse: 0.7590\n",
      "Epoch 66: saving model to models\\correctly_filtered_multivar_epoch_66.h5\n",
      "3987/3987 [==============================] - 50s 12ms/step - loss: 0.7589 - mae: 0.6053 - rmse: 0.8711 - mse: 0.7589 - val_loss: 0.7852 - val_mae: 0.6138 - val_rmse: 0.8861 - val_mse: 0.7852\n",
      "Epoch 67/100\n",
      "3985/3987 [============================>.] - ETA: 0s - loss: 0.7593 - mae: 0.6056 - rmse: 0.8714 - mse: 0.7593\n",
      "Epoch 67: saving model to models\\correctly_filtered_multivar_epoch_67.h5\n",
      "3987/3987 [==============================] - 52s 13ms/step - loss: 0.7593 - mae: 0.6056 - rmse: 0.8714 - mse: 0.7593 - val_loss: 0.7838 - val_mae: 0.6135 - val_rmse: 0.8853 - val_mse: 0.7838\n",
      "Epoch 68/100\n",
      "3983/3987 [============================>.] - ETA: 0s - loss: 0.7574 - mae: 0.6045 - rmse: 0.8703 - mse: 0.7574\n",
      "Epoch 68: saving model to models\\correctly_filtered_multivar_epoch_68.h5\n",
      "3987/3987 [==============================] - 52s 13ms/step - loss: 0.7573 - mae: 0.6045 - rmse: 0.8702 - mse: 0.7573 - val_loss: 0.7850 - val_mae: 0.6176 - val_rmse: 0.8860 - val_mse: 0.7850\n",
      "Epoch 69/100\n",
      "3986/3987 [============================>.] - ETA: 0s - loss: 0.7576 - mae: 0.6044 - rmse: 0.8704 - mse: 0.7576\n",
      "Epoch 69: saving model to models\\correctly_filtered_multivar_epoch_69.h5\n",
      "3987/3987 [==============================] - 48s 12ms/step - loss: 0.7576 - mae: 0.6044 - rmse: 0.8704 - mse: 0.7576 - val_loss: 0.7848 - val_mae: 0.6110 - val_rmse: 0.8859 - val_mse: 0.7848\n",
      "Epoch 70/100\n",
      "3985/3987 [============================>.] - ETA: 0s - loss: 0.7596 - mae: 0.6054 - rmse: 0.8715 - mse: 0.7596\n",
      "Epoch 70: saving model to models\\correctly_filtered_multivar_epoch_70.h5\n",
      "3987/3987 [==============================] - 47s 12ms/step - loss: 0.7596 - mae: 0.6054 - rmse: 0.8715 - mse: 0.7596 - val_loss: 0.7850 - val_mae: 0.6165 - val_rmse: 0.8860 - val_mse: 0.7850\n",
      "Epoch 71/100\n",
      "3986/3987 [============================>.] - ETA: 0s - loss: 0.7602 - mae: 0.6060 - rmse: 0.8719 - mse: 0.7602\n",
      "Epoch 71: saving model to models\\correctly_filtered_multivar_epoch_71.h5\n",
      "3987/3987 [==============================] - 49s 12ms/step - loss: 0.7601 - mae: 0.6059 - rmse: 0.8719 - mse: 0.7601 - val_loss: 0.7835 - val_mae: 0.6165 - val_rmse: 0.8851 - val_mse: 0.7835\n",
      "Epoch 72/100\n",
      "3985/3987 [============================>.] - ETA: 0s - loss: 0.7582 - mae: 0.6050 - rmse: 0.8708 - mse: 0.7582\n",
      "Epoch 72: saving model to models\\correctly_filtered_multivar_epoch_72.h5\n",
      "3987/3987 [==============================] - 52s 13ms/step - loss: 0.7582 - mae: 0.6050 - rmse: 0.8707 - mse: 0.7582 - val_loss: 0.7827 - val_mae: 0.6136 - val_rmse: 0.8847 - val_mse: 0.7827\n",
      "Epoch 73/100\n",
      "3984/3987 [============================>.] - ETA: 0s - loss: 0.7574 - mae: 0.6047 - rmse: 0.8703 - mse: 0.7574\n",
      "Epoch 73: saving model to models\\correctly_filtered_multivar_epoch_73.h5\n",
      "3987/3987 [==============================] - 53s 13ms/step - loss: 0.7573 - mae: 0.6046 - rmse: 0.8702 - mse: 0.7573 - val_loss: 0.7827 - val_mae: 0.6123 - val_rmse: 0.8847 - val_mse: 0.7827\n",
      "Epoch 74/100\n",
      "3985/3987 [============================>.] - ETA: 0s - loss: 0.7624 - mae: 0.6077 - rmse: 0.8732 - mse: 0.7624\n",
      "Epoch 74: saving model to models\\correctly_filtered_multivar_epoch_74.h5\n",
      "3987/3987 [==============================] - 48s 12ms/step - loss: 0.7623 - mae: 0.6077 - rmse: 0.8731 - mse: 0.7623 - val_loss: 0.7878 - val_mae: 0.6183 - val_rmse: 0.8876 - val_mse: 0.7878\n",
      "Epoch 75/100\n",
      "3985/3987 [============================>.] - ETA: 0s - loss: 0.7612 - mae: 0.6068 - rmse: 0.8725 - mse: 0.7612\n",
      "Epoch 75: saving model to models\\correctly_filtered_multivar_epoch_75.h5\n",
      "3987/3987 [==============================] - 50s 13ms/step - loss: 0.7612 - mae: 0.6068 - rmse: 0.8725 - mse: 0.7612 - val_loss: 0.7858 - val_mae: 0.6126 - val_rmse: 0.8864 - val_mse: 0.7858\n",
      "Epoch 76/100\n",
      "3986/3987 [============================>.] - ETA: 0s - loss: 0.7597 - mae: 0.6062 - rmse: 0.8716 - mse: 0.7597\n",
      "Epoch 76: saving model to models\\correctly_filtered_multivar_epoch_76.h5\n",
      "3987/3987 [==============================] - 52s 13ms/step - loss: 0.7597 - mae: 0.6062 - rmse: 0.8716 - mse: 0.7597 - val_loss: 0.7847 - val_mae: 0.6073 - val_rmse: 0.8858 - val_mse: 0.7847\n",
      "Epoch 77/100\n",
      "3983/3987 [============================>.] - ETA: 0s - loss: 0.7576 - mae: 0.6045 - rmse: 0.8704 - mse: 0.7576\n",
      "Epoch 77: saving model to models\\correctly_filtered_multivar_epoch_77.h5\n",
      "3987/3987 [==============================] - 52s 13ms/step - loss: 0.7575 - mae: 0.6045 - rmse: 0.8704 - mse: 0.7575 - val_loss: 0.7840 - val_mae: 0.6184 - val_rmse: 0.8854 - val_mse: 0.7840\n",
      "Epoch 78/100\n",
      "3985/3987 [============================>.] - ETA: 0s - loss: 0.7578 - mae: 0.6052 - rmse: 0.8705 - mse: 0.7578\n",
      "Epoch 78: saving model to models\\correctly_filtered_multivar_epoch_78.h5\n",
      "3987/3987 [==============================] - 50s 13ms/step - loss: 0.7579 - mae: 0.6052 - rmse: 0.8706 - mse: 0.7579 - val_loss: 0.7855 - val_mae: 0.6060 - val_rmse: 0.8863 - val_mse: 0.7855\n",
      "Epoch 79/100\n",
      "3985/3987 [============================>.] - ETA: 0s - loss: 0.7566 - mae: 0.6041 - rmse: 0.8698 - mse: 0.7566\n",
      "Epoch 79: saving model to models\\correctly_filtered_multivar_epoch_79.h5\n",
      "3987/3987 [==============================] - 49s 12ms/step - loss: 0.7566 - mae: 0.6041 - rmse: 0.8698 - mse: 0.7566 - val_loss: 0.7820 - val_mae: 0.6172 - val_rmse: 0.8843 - val_mse: 0.7820\n",
      "Epoch 80/100\n",
      "3986/3987 [============================>.] - ETA: 0s - loss: 0.7559 - mae: 0.6039 - rmse: 0.8695 - mse: 0.7559\n",
      "Epoch 80: saving model to models\\correctly_filtered_multivar_epoch_80.h5\n",
      "3987/3987 [==============================] - 49s 12ms/step - loss: 0.7559 - mae: 0.6039 - rmse: 0.8694 - mse: 0.7559 - val_loss: 0.7835 - val_mae: 0.6121 - val_rmse: 0.8852 - val_mse: 0.7835\n",
      "Epoch 81/100\n",
      "3985/3987 [============================>.] - ETA: 0s - loss: 0.7560 - mae: 0.6040 - rmse: 0.8695 - mse: 0.7560\n",
      "Epoch 81: saving model to models\\correctly_filtered_multivar_epoch_81.h5\n",
      "3987/3987 [==============================] - 53s 13ms/step - loss: 0.7562 - mae: 0.6041 - rmse: 0.8696 - mse: 0.7562 - val_loss: 0.7822 - val_mae: 0.6153 - val_rmse: 0.8844 - val_mse: 0.7822\n",
      "Epoch 82/100\n",
      "3984/3987 [============================>.] - ETA: 0s - loss: 0.7562 - mae: 0.6040 - rmse: 0.8696 - mse: 0.7562\n",
      "Epoch 82: saving model to models\\correctly_filtered_multivar_epoch_82.h5\n",
      "3987/3987 [==============================] - 50s 13ms/step - loss: 0.7562 - mae: 0.6039 - rmse: 0.8696 - mse: 0.7562 - val_loss: 0.7821 - val_mae: 0.6137 - val_rmse: 0.8844 - val_mse: 0.7821\n",
      "Epoch 83/100\n",
      "3985/3987 [============================>.] - ETA: 0s - loss: 0.7574 - mae: 0.6046 - rmse: 0.8703 - mse: 0.7574\n",
      "Epoch 83: saving model to models\\correctly_filtered_multivar_epoch_83.h5\n",
      "3987/3987 [==============================] - 52s 13ms/step - loss: 0.7574 - mae: 0.6046 - rmse: 0.8703 - mse: 0.7574 - val_loss: 0.7835 - val_mae: 0.6142 - val_rmse: 0.8852 - val_mse: 0.7835\n",
      "Epoch 84/100\n",
      "3984/3987 [============================>.] - ETA: 0s - loss: 0.7568 - mae: 0.6042 - rmse: 0.8699 - mse: 0.7568\n",
      "Epoch 84: saving model to models\\correctly_filtered_multivar_epoch_84.h5\n",
      "3987/3987 [==============================] - 51s 13ms/step - loss: 0.7570 - mae: 0.6042 - rmse: 0.8700 - mse: 0.7570 - val_loss: 0.7819 - val_mae: 0.6089 - val_rmse: 0.8843 - val_mse: 0.7819\n",
      "Epoch 85/100\n"
     ]
    },
    {
     "name": "stdout",
     "output_type": "stream",
     "text": [
      "3983/3987 [============================>.] - ETA: 0s - loss: 0.7575 - mae: 0.6044 - rmse: 0.8703 - mse: 0.7575\n",
      "Epoch 85: saving model to models\\correctly_filtered_multivar_epoch_85.h5\n",
      "3987/3987 [==============================] - 55s 14ms/step - loss: 0.7575 - mae: 0.6044 - rmse: 0.8703 - mse: 0.7575 - val_loss: 0.7837 - val_mae: 0.6183 - val_rmse: 0.8853 - val_mse: 0.7837\n",
      "Epoch 86/100\n",
      "3985/3987 [============================>.] - ETA: 0s - loss: 0.7581 - mae: 0.6046 - rmse: 0.8707 - mse: 0.7581\n",
      "Epoch 86: saving model to models\\correctly_filtered_multivar_epoch_86.h5\n",
      "3987/3987 [==============================] - 53s 13ms/step - loss: 0.7580 - mae: 0.6046 - rmse: 0.8706 - mse: 0.7580 - val_loss: 0.7822 - val_mae: 0.6123 - val_rmse: 0.8844 - val_mse: 0.7822\n",
      "Epoch 87/100\n",
      "3985/3987 [============================>.] - ETA: 0s - loss: 0.7572 - mae: 0.6045 - rmse: 0.8702 - mse: 0.7572\n",
      "Epoch 87: saving model to models\\correctly_filtered_multivar_epoch_87.h5\n",
      "3987/3987 [==============================] - 58s 15ms/step - loss: 0.7571 - mae: 0.6045 - rmse: 0.8701 - mse: 0.7571 - val_loss: 0.7826 - val_mae: 0.6082 - val_rmse: 0.8847 - val_mse: 0.7826\n",
      "Epoch 88/100\n",
      "3986/3987 [============================>.] - ETA: 0s - loss: 0.7562 - mae: 0.6038 - rmse: 0.8696 - mse: 0.7562\n",
      "Epoch 88: saving model to models\\correctly_filtered_multivar_epoch_88.h5\n",
      "3987/3987 [==============================] - 70s 18ms/step - loss: 0.7562 - mae: 0.6038 - rmse: 0.8696 - mse: 0.7562 - val_loss: 0.7822 - val_mae: 0.6162 - val_rmse: 0.8844 - val_mse: 0.7822\n",
      "Epoch 89/100\n",
      "3984/3987 [============================>.] - ETA: 0s - loss: 0.7560 - mae: 0.6037 - rmse: 0.8695 - mse: 0.7560\n",
      "Epoch 89: saving model to models\\correctly_filtered_multivar_epoch_89.h5\n",
      "3987/3987 [==============================] - 63s 16ms/step - loss: 0.7561 - mae: 0.6037 - rmse: 0.8695 - mse: 0.7561 - val_loss: 0.7810 - val_mae: 0.6129 - val_rmse: 0.8837 - val_mse: 0.7810\n",
      "Epoch 90/100\n",
      "3984/3987 [============================>.] - ETA: 0s - loss: 0.7558 - mae: 0.6036 - rmse: 0.8694 - mse: 0.7558\n",
      "Epoch 90: saving model to models\\correctly_filtered_multivar_epoch_90.h5\n",
      "3987/3987 [==============================] - 59s 15ms/step - loss: 0.7560 - mae: 0.6037 - rmse: 0.8695 - mse: 0.7560 - val_loss: 0.7836 - val_mae: 0.6178 - val_rmse: 0.8852 - val_mse: 0.7836\n",
      "Epoch 91/100\n",
      "3985/3987 [============================>.] - ETA: 0s - loss: 0.7582 - mae: 0.6050 - rmse: 0.8708 - mse: 0.7582\n",
      "Epoch 91: saving model to models\\correctly_filtered_multivar_epoch_91.h5\n",
      "3987/3987 [==============================] - 57s 14ms/step - loss: 0.7584 - mae: 0.6050 - rmse: 0.8708 - mse: 0.7584 - val_loss: 0.7875 - val_mae: 0.6177 - val_rmse: 0.8874 - val_mse: 0.7875\n",
      "Epoch 92/100\n",
      "3986/3987 [============================>.] - ETA: 0s - loss: 0.7589 - mae: 0.6053 - rmse: 0.8712 - mse: 0.7589\n",
      "Epoch 92: saving model to models\\correctly_filtered_multivar_epoch_92.h5\n",
      "3987/3987 [==============================] - 58s 15ms/step - loss: 0.7589 - mae: 0.6053 - rmse: 0.8712 - mse: 0.7589 - val_loss: 0.7870 - val_mae: 0.6100 - val_rmse: 0.8871 - val_mse: 0.7870\n",
      "Epoch 93/100\n",
      "3986/3987 [============================>.] - ETA: 0s - loss: 0.7592 - mae: 0.6055 - rmse: 0.8713 - mse: 0.7592\n",
      "Epoch 93: saving model to models\\correctly_filtered_multivar_epoch_93.h5\n",
      "3987/3987 [==============================] - 61s 15ms/step - loss: 0.7592 - mae: 0.6055 - rmse: 0.8713 - mse: 0.7592 - val_loss: 0.7845 - val_mae: 0.6132 - val_rmse: 0.8857 - val_mse: 0.7845\n",
      "Epoch 94/100\n",
      "3986/3987 [============================>.] - ETA: 0s - loss: 0.7596 - mae: 0.6055 - rmse: 0.8715 - mse: 0.7596\n",
      "Epoch 94: saving model to models\\correctly_filtered_multivar_epoch_94.h5\n",
      "3987/3987 [==============================] - 64s 16ms/step - loss: 0.7596 - mae: 0.6055 - rmse: 0.8715 - mse: 0.7596 - val_loss: 0.7854 - val_mae: 0.6107 - val_rmse: 0.8862 - val_mse: 0.7854\n",
      "Epoch 95/100\n",
      "3983/3987 [============================>.] - ETA: 0s - loss: 0.7576 - mae: 0.6049 - rmse: 0.8704 - mse: 0.7576\n",
      "Epoch 95: saving model to models\\correctly_filtered_multivar_epoch_95.h5\n",
      "3987/3987 [==============================] - 65s 16ms/step - loss: 0.7577 - mae: 0.6049 - rmse: 0.8704 - mse: 0.7577 - val_loss: 0.7844 - val_mae: 0.6105 - val_rmse: 0.8857 - val_mse: 0.7844\n",
      "Epoch 96/100\n",
      "3986/3987 [============================>.] - ETA: 0s - loss: 0.7568 - mae: 0.6044 - rmse: 0.8699 - mse: 0.7568\n",
      "Epoch 96: saving model to models\\correctly_filtered_multivar_epoch_96.h5\n",
      "3987/3987 [==============================] - 64s 16ms/step - loss: 0.7568 - mae: 0.6044 - rmse: 0.8700 - mse: 0.7568 - val_loss: 0.7838 - val_mae: 0.6156 - val_rmse: 0.8853 - val_mse: 0.7838\n",
      "Epoch 97/100\n",
      "3983/3987 [============================>.] - ETA: 0s - loss: 0.7568 - mae: 0.6046 - rmse: 0.8699 - mse: 0.7568\n",
      "Epoch 97: saving model to models\\correctly_filtered_multivar_epoch_97.h5\n",
      "3987/3987 [==============================] - 63s 16ms/step - loss: 0.7569 - mae: 0.6046 - rmse: 0.8700 - mse: 0.7569 - val_loss: 0.7843 - val_mae: 0.6169 - val_rmse: 0.8856 - val_mse: 0.7843\n",
      "Epoch 98/100\n",
      "3985/3987 [============================>.] - ETA: 0s - loss: 0.7573 - mae: 0.6048 - rmse: 0.8702 - mse: 0.7573\n",
      "Epoch 98: saving model to models\\correctly_filtered_multivar_epoch_98.h5\n",
      "3987/3987 [==============================] - 65s 16ms/step - loss: 0.7572 - mae: 0.6048 - rmse: 0.8702 - mse: 0.7572 - val_loss: 0.7834 - val_mae: 0.6101 - val_rmse: 0.8851 - val_mse: 0.7834\n",
      "Epoch 99/100\n",
      "3985/3987 [============================>.] - ETA: 0s - loss: 0.7569 - mae: 0.6046 - rmse: 0.8700 - mse: 0.7569\n",
      "Epoch 99: saving model to models\\correctly_filtered_multivar_epoch_99.h5\n",
      "3987/3987 [==============================] - 64s 16ms/step - loss: 0.7570 - mae: 0.6047 - rmse: 0.8701 - mse: 0.7570 - val_loss: 0.7832 - val_mae: 0.6129 - val_rmse: 0.8850 - val_mse: 0.7832\n",
      "Epoch 100/100\n",
      "3984/3987 [============================>.] - ETA: 0s - loss: 0.7562 - mae: 0.6044 - rmse: 0.8696 - mse: 0.7562\n",
      "Epoch 100: saving model to models\\correctly_filtered_multivar_epoch_100.h5\n",
      "3987/3987 [==============================] - 61s 15ms/step - loss: 0.7562 - mae: 0.6044 - rmse: 0.8696 - mse: 0.7562 - val_loss: 0.7836 - val_mae: 0.6110 - val_rmse: 0.8852 - val_mse: 0.7836\n",
      "1325/1325 [==============================] - 4s 3ms/step - loss: 0.8076 - mae: 0.6110 - rmse: 0.8987 - mse: 0.8076\n",
      "Test RMSE = 0.90   |   MAE = 0.61\n"
     ]
    }
   ],
   "source": [
    "#  Create a checkpoint callback\n",
    "ckpt = tf.keras.callbacks.ModelCheckpoint(\n",
    "    filepath='models/correctly_filtered_multivar_epoch_{epoch:02d}.h5',\n",
    "    save_freq='epoch',                        # save after each epoch\n",
    "    save_weights_only=False,                  # save the entire model (architecture + weights + optimizer state)\n",
    "    verbose=1)\n",
    "\n",
    "history = model.fit(\n",
    "    ds_train,\n",
    "    epochs=100,\n",
    "    # Validation is used to determine if model is overfitting\n",
    "    validation_data=ds_val,\n",
    "    callbacks=[ckpt],\n",
    "    verbose=1\n",
    ")\n",
    "\n",
    "results = model.evaluate(ds_test, return_dict=True)\n",
    "print(f\"Test RMSE = {results['rmse']:.2f}   |   MAE = {results['mae']:.2f}\")"
   ]
  },
  {
   "cell_type": "code",
   "execution_count": 23,
   "id": "aPhIh3THUT5I",
   "metadata": {
    "colab": {
     "base_uri": "https://localhost:8080/"
    },
    "id": "aPhIh3THUT5I",
    "outputId": "ba185ed0-e338-492d-db9f-c78820c321c8"
   },
   "outputs": [
    {
     "name": "stdout",
     "output_type": "stream",
     "text": [
      "Test MSE  = 3303.84 (mg/dL)^2\n",
      "Test RMSE = 57.48 mg/dL\n",
      "Test MAE  = 39.08 mg/dL\n"
     ]
    }
   ],
   "source": [
    "y_pred_z = model.predict(ds_test, verbose=0).ravel()   # z-scores\n",
    "y_true_z = y_test\n",
    "\n",
    "# inverse-transform back to mg/dL\n",
    "y_pred = y_pred_z * std_glu + mu_glu\n",
    "y_true = y_true_z * std_glu + mu_glu\n",
    "\n",
    "# metrics in true units\n",
    "mse  = np.mean((y_true - y_pred) ** 2)    \n",
    "rmse = np.sqrt(mse)\n",
    "mae  = np.mean(np.abs(y_true - y_pred))\n",
    "\n",
    "print(f\"Test MSE  = {mse :.2f} (mg/dL)^2\")\n",
    "print(f\"Test RMSE = {rmse:.2f} mg/dL\")\n",
    "print(f\"Test MAE  = {mae :.2f} mg/dL\")"
   ]
  },
  {
   "cell_type": "code",
   "execution_count": 25,
   "id": "71dc308d",
   "metadata": {},
   "outputs": [
    {
     "name": "stdout",
     "output_type": "stream",
     "text": [
      "Test R^2 = 0.0670\n"
     ]
    }
   ],
   "source": [
    "r2 = r2_score(y_true, y_pred)\n",
    "print(f\"Test R^2 = {r2:.4f}\")"
   ]
  },
  {
   "cell_type": "markdown",
   "id": "bc531dd8",
   "metadata": {},
   "source": [
    "Below we load models and data to do further experimentation on the results"
   ]
  },
  {
   "cell_type": "code",
   "execution_count": 3,
   "id": "b657052d",
   "metadata": {},
   "outputs": [],
   "source": [
    "model = tf.keras.models.load_model('models/correctly_filtered_multivar_epoch_100.h5')"
   ]
  },
  {
   "cell_type": "code",
   "execution_count": 4,
   "id": "0bf40769",
   "metadata": {},
   "outputs": [],
   "source": [
    "test_path = 'Pickles/filtered_glu_test.pkl.gz'\n",
    "\n",
    "with gzip.open(test_path, 'rb') as f:\n",
    "    test_bundle = pickle.load(f)\n",
    "\n",
    "X_test = test_bundle['X_test']\n",
    "y_test = test_bundle['y_test']"
   ]
  },
  {
   "cell_type": "code",
   "execution_count": 9,
   "id": "cab1dac0",
   "metadata": {},
   "outputs": [],
   "source": [
    "train_path = 'Pickles/filtered_glu_train.pkl.gz'\n",
    "\n",
    "with gzip.open(train_path, 'rb') as f:\n",
    "    train_bundle = pickle.load(f)\n",
    "\n",
    "SCALERS = train_bundle['scalers']"
   ]
  },
  {
   "cell_type": "markdown",
   "id": "886574b2",
   "metadata": {},
   "source": [
    "# Classification Metrics\n",
    "\n",
    "Below we convert to classification metrics so we can compare to other models."
   ]
  },
  {
   "cell_type": "code",
   "execution_count": 12,
   "id": "ef061b9d",
   "metadata": {},
   "outputs": [],
   "source": [
    "y_pred_z = model.predict(ds_test, verbose=0).ravel()   # z-scores\n",
    "y_true_z = y_test\n",
    "mu_glu, std_glu = SCALERS[1]          # index 1 is BG scale values\n",
    "\n",
    "# inverse-transform back to mg/dL\n",
    "y_pred = y_pred_z * std_glu + mu_glu\n",
    "y_true = y_true_z * std_glu + mu_glu"
   ]
  },
  {
   "cell_type": "code",
   "execution_count": 13,
   "id": "f5035ff7",
   "metadata": {},
   "outputs": [],
   "source": [
    "def convert_categorical(y):\n",
    "    y_class = np.full((len(y)), \"unknown\", dtype='U10')\n",
    "    y_hypo_mask = y <= 70\n",
    "    y_hyper_mask = y >= 180\n",
    "    y_normal_mask = (y > 70) & (y < 180)\n",
    "    y_class[y_hypo_mask] = \"Hypo\"\n",
    "    y_class[y_hyper_mask] = \"Hyper\"\n",
    "    y_class[y_normal_mask] = \"Normal\"\n",
    "    return y_class"
   ]
  },
  {
   "cell_type": "code",
   "execution_count": 14,
   "id": "04f1948e",
   "metadata": {},
   "outputs": [],
   "source": [
    "y_pred_class = convert_categorical(y_pred)\n",
    "y_true_class = convert_categorical(y_true)"
   ]
  },
  {
   "cell_type": "code",
   "execution_count": 15,
   "id": "e14afd60",
   "metadata": {},
   "outputs": [],
   "source": [
    "le = LabelEncoder()\n",
    "y_true_encoded = le.fit_transform(y_true_class)  # e.g. 'Hypo'=0, 'Normal'=1, 'Hyper'=2\n",
    "y_pred_encoded = le.transform(y_pred_class)"
   ]
  },
  {
   "cell_type": "code",
   "execution_count": 16,
   "id": "6f161ccc",
   "metadata": {},
   "outputs": [
    {
     "name": "stdout",
     "output_type": "stream",
     "text": [
      "              precision    recall  f1-score   support\n",
      "\n",
      "       Hyper       0.46      0.00      0.01     15848\n",
      "        Hypo       0.00      0.00      0.00      1155\n",
      "      Normal       0.80      1.00      0.89     67760\n",
      "\n",
      "    accuracy                           0.80     84763\n",
      "   macro avg       0.42      0.33      0.30     84763\n",
      "weighted avg       0.73      0.80      0.71     84763\n",
      "\n",
      "Confusion Matrix:\n",
      " [[   53     0 15795]\n",
      " [    1     0  1154]\n",
      " [   60     0 67700]]\n"
     ]
    },
    {
     "name": "stderr",
     "output_type": "stream",
     "text": [
      "C:\\Users\\Mashal\\anaconda3\\lib\\site-packages\\sklearn\\metrics\\_classification.py:1318: UndefinedMetricWarning: Precision and F-score are ill-defined and being set to 0.0 in labels with no predicted samples. Use `zero_division` parameter to control this behavior.\n",
      "  _warn_prf(average, modifier, msg_start, len(result))\n",
      "C:\\Users\\Mashal\\anaconda3\\lib\\site-packages\\sklearn\\metrics\\_classification.py:1318: UndefinedMetricWarning: Precision and F-score are ill-defined and being set to 0.0 in labels with no predicted samples. Use `zero_division` parameter to control this behavior.\n",
      "  _warn_prf(average, modifier, msg_start, len(result))\n",
      "C:\\Users\\Mashal\\anaconda3\\lib\\site-packages\\sklearn\\metrics\\_classification.py:1318: UndefinedMetricWarning: Precision and F-score are ill-defined and being set to 0.0 in labels with no predicted samples. Use `zero_division` parameter to control this behavior.\n",
      "  _warn_prf(average, modifier, msg_start, len(result))\n"
     ]
    }
   ],
   "source": [
    "# Full classification metrics\n",
    "print(classification_report(y_true_encoded, y_pred_encoded, target_names=le.classes_))\n",
    "\n",
    "# Confusion matrix\n",
    "cm = confusion_matrix(y_true_encoded, y_pred_encoded)\n",
    "print(\"Confusion Matrix:\\n\", cm)"
   ]
  },
  {
   "cell_type": "code",
   "execution_count": 17,
   "id": "c5e11bf2",
   "metadata": {},
   "outputs": [
    {
     "name": "stdout",
     "output_type": "stream",
     "text": [
      "Macro-average AUC-ROC: 0.5008\n"
     ]
    }
   ],
   "source": [
    "# One-hot encode\n",
    "y_true_bin = label_binarize(y_true_encoded, classes=[0,1,2])\n",
    "y_pred_bin = label_binarize(y_pred_encoded, classes=[0,1,2])\n",
    "\n",
    "# Macro-average AUC\n",
    "auc_macro = roc_auc_score(y_true_bin, y_pred_bin, average='macro', multi_class='ovo')\n",
    "print(f\"Macro-average AUC-ROC: {auc_macro:.4f}\")"
   ]
  }
 ],
 "metadata": {
  "accelerator": "TPU",
  "colab": {
   "gpuType": "V28",
   "provenance": []
  },
  "kernelspec": {
   "display_name": "Python 3 (ipykernel)",
   "language": "python",
   "name": "python3"
  },
  "language_info": {
   "codemirror_mode": {
    "name": "ipython",
    "version": 3
   },
   "file_extension": ".py",
   "mimetype": "text/x-python",
   "name": "python",
   "nbconvert_exporter": "python",
   "pygments_lexer": "ipython3",
   "version": "3.9.23"
  }
 },
 "nbformat": 4,
 "nbformat_minor": 5
}
