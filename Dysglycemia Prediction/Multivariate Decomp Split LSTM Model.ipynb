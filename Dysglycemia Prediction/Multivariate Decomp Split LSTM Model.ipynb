{
 "cells": [
  {
   "cell_type": "code",
   "execution_count": 1,
   "id": "eb2c907e",
   "metadata": {
    "id": "eb2c907e"
   },
   "outputs": [],
   "source": [
    "seed = 3906303"
   ]
  },
  {
   "cell_type": "code",
   "execution_count": 2,
   "id": "69ad3916",
   "metadata": {
    "id": "69ad3916"
   },
   "outputs": [],
   "source": [
    "import numpy as np\n",
    "import pandas as pd\n",
    "import seaborn as sns\n",
    "import matplotlib.pyplot as plt\n",
    "import tensorflow as tf\n",
    "from tensorflow.keras.metrics import RootMeanSquaredError\n",
    "from tensorflow.keras.wrappers.scikit_learn import KerasRegressor\n",
    "from sklearn.metrics import r2_score, classification_report, confusion_matrix, roc_auc_score\n",
    "from sklearn.model_selection import train_test_split, GridSearchCV\n",
    "from sklearn.preprocessing import StandardScaler, label_binarize, LabelEncoder\n",
    "\n",
    "import pickle\n",
    "import glob, os\n",
    "import gzip\n",
    "import random\n",
    "np.random.seed(seed)\n",
    "random.seed(seed)"
   ]
  },
  {
   "cell_type": "code",
   "execution_count": 3,
   "id": "38e152a6",
   "metadata": {},
   "outputs": [
    {
     "name": "stdout",
     "output_type": "stream",
     "text": [
      "2.10.0\n"
     ]
    }
   ],
   "source": [
    "print(tf.__version__)"
   ]
  },
  {
   "cell_type": "markdown",
   "id": "8Q0dcCNGyjJc",
   "metadata": {
    "id": "8Q0dcCNGyjJc"
   },
   "source": [
    "## Load dataset"
   ]
  },
  {
   "cell_type": "markdown",
   "id": "4WNxIlW8syto",
   "metadata": {
    "id": "4WNxIlW8syto"
   },
   "source": [
    "Here we read in all the measurement files created in the datagen notebook. Each dataframe is a separate file, which is each a separate table of measurement readings of particular types."
   ]
  },
  {
   "cell_type": "code",
   "execution_count": 4,
   "id": "fvVZ1hJdg8s1",
   "metadata": {
    "id": "fvVZ1hJdg8s1"
   },
   "outputs": [],
   "source": [
    "# Create dictionary of measurement-type dataframes\n",
    "MEAS = {\n",
    "    name: pd.read_csv(\n",
    "        fp,\n",
    "        parse_dates=['charttime'],       # parsed dates on the fly\n",
    "        low_memory=False                 # avoids mixed-type warnings\n",
    "    )\n",
    "    for fp  in sorted(glob.glob('Datagen/*_filtered_chartevents.csv'))\n",
    "    for name in [os.path.basename(fp).split('_')[0]]\n",
    "}\n",
    "\n",
    "FEATURES = list(MEAS.keys())\n",
    "F        = len(FEATURES)             # number of features\n",
    "GLU_IDX  = FEATURES.index('bg')     # which column contains glucose"
   ]
  },
  {
   "cell_type": "code",
   "execution_count": 5,
   "id": "f6HaTFPFvJ4M",
   "metadata": {
    "id": "f6HaTFPFvJ4M"
   },
   "outputs": [
    {
     "data": {
      "text/plain": [
       "['abpm', 'bg', 'cvp', 'f', 'hr', 'hrh', 'hrl', 'nbpm', 'rr', 'spo2']"
      ]
     },
     "execution_count": 5,
     "metadata": {},
     "output_type": "execute_result"
    }
   ],
   "source": [
    "FEATURES"
   ]
  },
  {
   "cell_type": "markdown",
   "id": "YwrUFnBPe0r_",
   "metadata": {
    "id": "YwrUFnBPe0r_"
   },
   "source": [
    "# Data filtering and cleaning"
   ]
  },
  {
   "cell_type": "markdown",
   "id": "pBaoX7aRuqyO",
   "metadata": {
    "id": "pBaoX7aRuqyO"
   },
   "source": [
    "Below we filter impossible values for the physiological features. No negative numbers, except for rare cases of CVP feature."
   ]
  },
  {
   "cell_type": "code",
   "execution_count": 5,
   "id": "KRz4MR5FQcZu",
   "metadata": {
    "id": "KRz4MR5FQcZu"
   },
   "outputs": [
    {
     "name": "stdout",
     "output_type": "stream",
     "text": [
      "abpm: 61408 invalid rows\n",
      "bg: 351 invalid rows\n",
      "cvp: 73743 invalid rows\n",
      "f: 1052 invalid rows\n",
      "hr: 3926 invalid rows\n",
      "hrh: 5461 invalid rows\n",
      "hrl: 3986 invalid rows\n",
      "nbpm: 98189 invalid rows\n",
      "rr: 43720 invalid rows\n",
      "spo2: 3251 invalid rows\n"
     ]
    }
   ],
   "source": [
    "#  Per-variable rules. Only reject impossible numbers\n",
    "LOGIC_RULES = {\n",
    "    'bg' : lambda s: (s >= 10) & (s <= 2656),                     # historically recorded extreme mg/dL\n",
    "    'hr'  : lambda s: (s >= 20) & (s <= 600),                     # beats / min\n",
    "    'rr'  : lambda s: (s >= 6) & (s <= 60),                       # breaths / min\n",
    "    'spo2': lambda s: (s >= 50) & (s <= 100),                     # % saturation\n",
    "    'nbpm': lambda s: (s >= 50) & (s <= 130),                     # mm Hg\n",
    "    'abpm': lambda s: (s >= 50) & (s <= 130),                     # mm Hg\n",
    "    'f'   : lambda s: (s >= 53) & (s <= 116),                     # F < 0 impossible\n",
    "    # CVP can dip a few mm Hg negative during inspiration\n",
    "    'cvp' : lambda s: (s >= -5) & (s <= 20),                      # allow mild physio negative\n",
    "    'hrl' : lambda s: (s >= 30) & (s <= 100),\n",
    "    'hrh' : lambda s: (s >= 100) & (s <= 600),\n",
    "}\n",
    "\n",
    "def filter_impossible(df, short_name):\n",
    "    df = df.copy()\n",
    "    rule = LOGIC_RULES.get(short_name)\n",
    "    if rule is None:\n",
    "        raise KeyError(f\"No logic rule defined for '{short_name}'\")\n",
    "    return df[rule(df['value'])]\n",
    "\n",
    "# Apply to every dataframe in the MEAS dict\n",
    "MEAS_CLEAN = {\n",
    "    name: filter_impossible(df, name)\n",
    "    for name, df in MEAS.items()\n",
    "}\n",
    "\n",
    "# Invert logic rules to capture invalid (impossible) values\n",
    "def get_invalid(df, short_name):\n",
    "    df = df.copy()\n",
    "    rule = LOGIC_RULES.get(short_name)\n",
    "    if rule is None:\n",
    "        raise KeyError(f\"No logic rule defined for '{short_name}'\")\n",
    "    return df[~rule(df['value'])]  # Invert the logic to get invalids\n",
    "\n",
    "# Store invalid rows per measurement\n",
    "MEAS_INVALID = {\n",
    "    name: get_invalid(df, name)\n",
    "    for name, df in MEAS.items()\n",
    "}\n",
    "\n",
    "# Print counts of invalid entries\n",
    "for name, df in MEAS_INVALID.items():\n",
    "    print(f\"{name}: {len(df)} invalid rows\")\n"
   ]
  },
  {
   "cell_type": "markdown",
   "id": "f508b32d",
   "metadata": {},
   "source": [
    "## Valid data range sources:\n",
    "- Blood Glucose: 10-2656 mg/dL https://casereports.bmj.com/content/15/7/e245890 (min recorded)\n",
    "- Heartrate: 20–600 bpm https://en.wikipedia.org/wiki/Heart_rate (max recorded)\n",
    "- Respiratory Rate: 6–60 breaths per minute https://en.wikipedia.org/wiki/Respiratory_rate\n",
    "- Oxygen Saturation: 50–100% https://www.verywellhealth.com/blood-oxygen-level-8656297\n",
    "- Non-Invasive Blood Pressure Mean: 50–130 mmHg https://www.healthline.com/health/mean-arterial-pressure#high-map\n",
    "- Arterial Blood Pressure Mean: 50–130 mmHg https://www.healthline.com/health/mean-arterial-pressure#high-map\n",
    "- Temperature Fahrenheit: 53–116°F https://en.wikipedia.org/wiki/Human_body_temperature (lowest recorded)\n",
    "- Central Venous Pressure: -5 to 20 mmHg (lost source)\n",
    "- Heart Rate Alarm Low: 30–100 bpm https://www.verywellhealth.com/dangerous-heart-rate-5215509\n",
    "- Heart Rate Alarm High: 100–600 bpm https://en.wikipedia.org/wiki/Heart_rate (same as above)"
   ]
  },
  {
   "cell_type": "markdown",
   "id": "f4b3b772",
   "metadata": {
    "id": "f4b3b772"
   },
   "source": [
    "# Split Dataset into Training, Validation and Testing Datasets"
   ]
  },
  {
   "cell_type": "code",
   "execution_count": 6,
   "id": "OZjtGiJgoJMd",
   "metadata": {
    "id": "OZjtGiJgoJMd"
   },
   "outputs": [],
   "source": [
    "unique_subjects = MEAS_CLEAN['bg']['subject_id'].unique()\n",
    "train_subjects, test_subjects = train_test_split(unique_subjects, test_size=0.2,\n",
    "                                         random_state=seed)\n",
    "train_subjects, val_subjects  = train_test_split(train_subjects, test_size=0.25,\n",
    "                                         random_state=seed)\n",
    "\n",
    "SPLIT = {'train': train_subjects, 'val': val_subjects, 'test': test_subjects}"
   ]
  },
  {
   "cell_type": "markdown",
   "id": "c44544a7",
   "metadata": {},
   "source": [
    "## ICU stay length EDA\n",
    "\n",
    "Here we explore the distribution of ICU stay lengths, visualise them in histograms and box plots, to get a good idea of the horizon lengths of ICU stays we should consider."
   ]
  },
  {
   "cell_type": "code",
   "execution_count": 7,
   "id": "10ab94f6",
   "metadata": {},
   "outputs": [],
   "source": [
    "bg = MEAS_CLEAN['bg'].copy()"
   ]
  },
  {
   "cell_type": "code",
   "execution_count": 8,
   "id": "ae4bb3a7",
   "metadata": {},
   "outputs": [],
   "source": [
    "time_diffs = bg.groupby('stay_id')['charttime'].apply(lambda x: x.max() - x.min())\n",
    "time_diffs_hours = time_diffs.dt.total_seconds() / 3600  # convert to hours"
   ]
  },
  {
   "cell_type": "code",
   "execution_count": 9,
   "id": "51414513",
   "metadata": {},
   "outputs": [
    {
     "data": {
      "text/plain": [
       "stay_id\n",
       "36032605   224 days 17:39:00\n",
       "39510663   165 days 07:28:00\n",
       "37583392   164 days 21:38:00\n",
       "34776085   160 days 23:58:00\n",
       "36307509   159 days 08:37:00\n",
       "                  ...       \n",
       "30626722     0 days 00:00:00\n",
       "35019413     0 days 00:00:00\n",
       "35017950     0 days 00:00:00\n",
       "30625722     0 days 00:00:00\n",
       "38519882     0 days 00:00:00\n",
       "Name: charttime, Length: 92299, dtype: timedelta64[ns]"
      ]
     },
     "execution_count": 9,
     "metadata": {},
     "output_type": "execute_result"
    }
   ],
   "source": [
    "time_diffs.sort_values(ascending=False)"
   ]
  },
  {
   "cell_type": "code",
   "execution_count": 10,
   "id": "5b510798",
   "metadata": {},
   "outputs": [
    {
     "data": {
      "image/png": "[encoded data removed]",
      "text/plain": [
       "<Figure size 1000x500 with 1 Axes>"
      ]
     },
     "metadata": {},
     "output_type": "display_data"
    }
   ],
   "source": [
    "plt.figure(figsize=(10, 5))\n",
    "sns.histplot(time_diffs_hours, bins=50, kde=True)\n",
    "plt.xlabel(\"Duration of ICU Stay (hours)\")\n",
    "plt.ylabel(\"Number of ICU stays\")\n",
    "plt.title(\"Distribution of Time Ranges Within Each Stay (before filtering outliers)\")\n",
    "plt.show()"
   ]
  },
  {
   "cell_type": "code",
   "execution_count": 11,
   "id": "86cf6771",
   "metadata": {},
   "outputs": [],
   "source": [
    "# Remove only higher outliers using IQR rule. The code in cells below can handle single value ICU stays.\n",
    "filtered_diffs = time_diffs_hours[\n",
    "    (time_diffs_hours <= time_diffs_hours.quantile(0.75) + \n",
    "     1.5 * (time_diffs_hours.quantile(0.75) - time_diffs_hours.quantile(0.25)))\n",
    "]"
   ]
  },
  {
   "cell_type": "code",
   "execution_count": 12,
   "id": "38e52d5a",
   "metadata": {},
   "outputs": [
    {
     "data": {
      "image/png": "[encoded data removed]",
      "text/plain": [
       "<Figure size 1000x500 with 1 Axes>"
      ]
     },
     "metadata": {},
     "output_type": "display_data"
    }
   ],
   "source": [
    "plt.figure(figsize=(10, 5))\n",
    "sns.histplot(filtered_diffs, bins=50, kde=True)\n",
    "plt.xlabel(\"Duration of ICU Stay (hours)\")\n",
    "plt.ylabel(\"Number of ICU stays\")\n",
    "plt.title(\"Distribution of Time Ranges Within Each Stay (Outliers Removed)\")\n",
    "plt.show()"
   ]
  },
  {
   "cell_type": "code",
   "execution_count": 13,
   "id": "b8a758bb",
   "metadata": {},
   "outputs": [
    {
     "data": {
      "image/png": "[encoded data removed]",
      "text/plain": [
       "<Figure size 1000x200 with 1 Axes>"
      ]
     },
     "metadata": {},
     "output_type": "display_data"
    }
   ],
   "source": [
    "plt.figure(figsize=(10, 2))\n",
    "sns.boxplot(x=filtered_diffs)\n",
    "plt.xlabel(\"Duration of ICU Stay (hours)\")\n",
    "plt.title(\"ICU Stay Duration (Outliers Removed)\")\n",
    "plt.show()"
   ]
  },
  {
   "cell_type": "markdown",
   "id": "45d5ee8c",
   "metadata": {},
   "source": [
    "It seems a horizon length of 70 hours is suitable, as it accommodates all values below the 3rd quartile. This means all measurements within 70 hours of the first measurement (of any type) of an ICU stay will be considered in training."
   ]
  },
  {
   "cell_type": "markdown",
   "id": "NUT5LDDo3wjh",
   "metadata": {
    "id": "NUT5LDDo3wjh"
   },
   "source": [
    "### Hyperparameters"
   ]
  },
  {
   "cell_type": "code",
   "execution_count": 6,
   "id": "MiIWHZzSyBeM",
   "metadata": {
    "id": "MiIWHZzSyBeM"
   },
   "outputs": [],
   "source": [
    "FREQ       = '2H'           # 2-hour bins\n",
    "MAX_HOURS  = 70              # Use 70 hours as per the earlier EDA on ICU stay lengths\n",
    "STEPS      = MAX_HOURS // 2  # 70 h ÷ 2 h = 35 bins\n",
    "L          = 6               # look-back  steps (12 hours of history)\n",
    "H          = 1               # look-ahead steps (direct subsequent prediction)\n",
    "SENTINEL   = -999.0            # value the Masking layer will ignore\n",
    "HYPER_LIMIT= 180             # Lowest value to be considered hyperglycemic\n",
    "HYPO_LIMIT = 70              # Highest value to be considered hypoglycemic"
   ]
  },
  {
   "cell_type": "markdown",
   "id": "WI9SjVB8yB9q",
   "metadata": {
    "id": "WI9SjVB8yB9q"
   },
   "source": [
    "### Here we resample the data to ensure there is a row for every timestep interval of 2 hours."
   ]
  },
  {
   "cell_type": "code",
   "execution_count": 18,
   "id": "JSTWAz_gx9Dh",
   "metadata": {
    "id": "JSTWAz_gx9Dh"
   },
   "outputs": [],
   "source": [
    "def resample_stay_multi(stay_id, dfs_by_feat):\n",
    "\n",
    "    mat = np.full((STEPS, F), np.nan, dtype='float32')\n",
    "\n",
    "    # Find earliest timestamp amongst all features\n",
    "    start_time = None\n",
    "    # Visit all feature dataframes one by one, and keep track of earliest recorded time\n",
    "    for df in dfs_by_feat.values():\n",
    "        s = df.loc[df['stay_id'] == stay_id, 'charttime']\n",
    "        if not s.empty:\n",
    "            t0 = s.min()\n",
    "            start_time = t0 if start_time is None else min(start_time, t0)\n",
    "\n",
    "    # Return None if none of the feature dfs have the stay_id\n",
    "    if start_time is None:\n",
    "        return None\n",
    "\n",
    "    # Standardise horizon length of icu stay measurements\n",
    "    horizon = pd.date_range(start=start_time.floor(FREQ),\n",
    "                            periods=STEPS,\n",
    "                            freq=FREQ)\n",
    "\n",
    "    # Fill one column of matrix per feature\n",
    "    for j, feat in enumerate(FEATURES):\n",
    "        g = dfs_by_feat[feat]\n",
    "        g = g[g['stay_id'] == stay_id]\n",
    "        if g.empty:\n",
    "          # Column remains NaNs\n",
    "            continue\n",
    "        s = (g.set_index('charttime')['value']\n",
    "               .resample(FREQ).mean())\n",
    "        # reindex sets length of values to be exactly STEPS length long,\n",
    "        # by trancating or padding with NaNs\n",
    "        mat[:, j] = s.reindex(horizon).values\n",
    "\n",
    "    return mat                       # (STEPS, F)"
   ]
  },
  {
   "cell_type": "markdown",
   "id": "aed2cedc",
   "metadata": {
    "id": "aed2cedc"
   },
   "source": [
    "Here we create the data to be fed into the model. Each row of data in the X datasets is a sequence of BG measurements. The Y datasets contain a BG reading that follows directly from that sequence after.\n",
    "\n",
    "The approach we took is so that a sequence of measurements (starting from the first) is created of certain length from each ICU admission, which is taken as the X, and the following value after the sequence is taken as the Y. Then the window is slid over by one so that the sequence is slightly different, creating a new X value and a new following Y value. This process is repeated until the end of the ICU admission measurement sequence is reached, then a new ICU admission is chosen, until all ICU admissions have had their sequences recorded."
   ]
  },
  {
   "cell_type": "markdown",
   "id": "58c620e1",
   "metadata": {},
   "source": [
    "We also allow the data to be split into 2 parts if a decompensation event occurred. If the before_decomp variable is true, then it takes the data from before the first decompensation and puts it in the training data. Otherwise it uses the latter half. This is to ensure that one LSTM model is trained on pre-decompensation data and another is trained on post-decompensation data."
   ]
  },
  {
   "cell_type": "code",
   "execution_count": 19,
   "id": "9JFB1xgjyNQM",
   "metadata": {
    "id": "9JFB1xgjyNQM"
   },
   "outputs": [],
   "source": [
    "def make_Xy_multi(subj_ids, fit_scaler=False, scaler_dict=None, before_decomp=True):\n",
    "    X_stays = []\n",
    "\n",
    "    # Create dictionary of all feature dataframes for the current split\n",
    "    dfs_by_feat = {}\n",
    "    for feat, df in MEAS_CLEAN.items():\n",
    "        df_ = df[df['subject_id'].isin(subj_ids)].copy()\n",
    "        df_['charttime'] = pd.to_datetime(df_['charttime'])\n",
    "        \n",
    "        # Here we change data to use before first decompensation or after\n",
    "        if feat == 'bg':\n",
    "            \n",
    "            filtered_stays = []  # list to collect filtered DataFrames\n",
    "            \n",
    "            for stay_id in df_['stay_id'].unique():\n",
    "                stay = df_[df_['stay_id'] == stay_id].sort_values(by=['charttime']).reset_index(drop=True)\n",
    "                \n",
    "                condition = (stay['value'] >= HYPER_LIMIT) | (stay['value'] <= HYPO_LIMIT)\n",
    "                if condition.any():\n",
    "                    decomp = condition.idxmax()  # gets the index of the first True value\n",
    "                    # If before_decomp is true, then select all rows or measurements occurring before the first decompensation\n",
    "                    if before_decomp:\n",
    "                        filtered_stays.append(stay.iloc[:decomp + 1])\n",
    "                    else:\n",
    "                    # Otherwise after\n",
    "                        filtered_stays.append(stay.iloc[decomp + 1:])\n",
    "                else:\n",
    "                    filtered_stays.append(stay)\n",
    "            # Combine the generated dataframe and set it as the BG dataframe\n",
    "            df_ = pd.concat(filtered_stays, ignore_index=True)\n",
    "        dfs_by_feat[feat] = df_\n",
    "\n",
    "    # Retrieve all unique stay_ids across all feature dataframes\n",
    "    all_stays = pd.concat([d[['stay_id']] for d in dfs_by_feat.values()]\n",
    "                          ).drop_duplicates()['stay_id'].values\n",
    "    # Creates a list of (STEPS, F) matrices\n",
    "    for sid in all_stays:\n",
    "        M = resample_stay_multi(sid, dfs_by_feat)   # (STEPS, F) or None\n",
    "        # Only append the matrix if at least one of the dataframes contains a value\n",
    "        if M is not None:\n",
    "            X_stays.append(M)\n",
    "\n",
    "    # Convert to list of stays to 3D tensor shape\n",
    "    X_stays = np.stack(X_stays)          # (N_stays, STEPS, F)\n",
    "\n",
    "    # Feature-wise Standardisation\n",
    "    if scaler_dict is None:\n",
    "        scaler_dict = {}\n",
    "    for j in range(F):\n",
    "        # Concatenate all feature j columns across all stays, include every row, stack them\n",
    "        col = X_stays[:, :, j].ravel()\n",
    "        # NaN mask\n",
    "        mask = ~np.isnan(col)\n",
    "        if fit_scaler:\n",
    "            mu = np.nanmean(col)\n",
    "            sd = np.nanstd(col)\n",
    "            # Protects program from division-by-zero error by ensuring if col is all NaNs, 0 is replaced with 1\n",
    "            sd = sd if sd != 0 else 1.0\n",
    "            scaler_dict[j] = (mu, sd)\n",
    "        # Retrieves values for std and mean for when non-training splits are scaled\n",
    "        mu, sd = scaler_dict[j]\n",
    "        # Scales non-NaN data\n",
    "        col[mask] = (col[mask] - mu) / sd\n",
    "\n",
    "        # Sets a slice of dimension (X_stays.shape[0], STEPS) of a particular feature to the col variable\n",
    "        X_stays[:, :, j] = col.reshape(X_stays.shape[0], STEPS)\n",
    "\n",
    "    # Sliding window\n",
    "    windows, targets = [], []\n",
    "    for stay in X_stays:\n",
    "        # Window slides across every point so that the entire horizon of the ICU stay is included once\n",
    "        for t0 in range(0, STEPS - L - H + 1):\n",
    "            x_win = stay[t0 : t0 + L, :]                # Look-back window\n",
    "            y_val = stay[t0 + L + H - 1, GLU_IDX]       # Glucose value following window\n",
    "            if not np.isnan(y_val):                     # ensure that the final y value is an actual value\n",
    "                windows.append(x_win)\n",
    "                targets.append(y_val)\n",
    "\n",
    "    X = np.array(windows, dtype='float32')             # (N, L, F)\n",
    "    y = np.array(targets, dtype='float32')             # (N,)\n",
    "\n",
    "    # mask NaN timesteps\n",
    "    X[np.isnan(X)] = SENTINEL\n",
    "    return X, y, scaler_dict"
   ]
  },
  {
   "cell_type": "code",
   "execution_count": 20,
   "id": "4dc3a21e",
   "metadata": {},
   "outputs": [],
   "source": [
    "os.makedirs('Pickles', exist_ok=True)"
   ]
  },
  {
   "cell_type": "code",
   "execution_count": 21,
   "id": "p2166dlHEGBg",
   "metadata": {
    "id": "p2166dlHEGBg"
   },
   "outputs": [
    {
     "name": "stdout",
     "output_type": "stream",
     "text": [
      "Saved train_before set -> 6.0 MB\n"
     ]
    }
   ],
   "source": [
    "X_train_before, y_train_before, SCALERS_BEFORE = make_Xy_multi(SPLIT['train'], fit_scaler=True, before_decomp=True)\n",
    "\n",
    "# Save train data and scalers immediately\n",
    "train_before_path = 'Pickles/split_before_glu_train.pkl.gz'\n",
    "with gzip.open(train_before_path, 'wb') as f:\n",
    "    pickle.dump({\n",
    "        'X_train': X_train_before,\n",
    "        'y_train': y_train_before,\n",
    "        'scalers': SCALERS_BEFORE\n",
    "    }, f, protocol=pickle.HIGHEST_PROTOCOL)\n",
    "\n",
    "print(f\"Saved train_before set -> {os.path.getsize(train_before_path)/1e6:.1f} MB\")"
   ]
  },
  {
   "cell_type": "code",
   "execution_count": 33,
   "id": "f485b16c",
   "metadata": {},
   "outputs": [
    {
     "name": "stdout",
     "output_type": "stream",
     "text": [
      "Saved train_before set -> 11.2 MB\n"
     ]
    }
   ],
   "source": [
    "X_train_after, y_train_after, SCALERS_AFTER = make_Xy_multi(SPLIT['train'], fit_scaler=True, before_decomp=False)\n",
    "\n",
    "# Save train data and scalers immediately\n",
    "train_after_path = 'Pickles/split_after_glu_train.pkl.gz'\n",
    "with gzip.open(train_after_path, 'wb') as f:\n",
    "    pickle.dump({\n",
    "        'X_train': X_train_after,\n",
    "        'y_train': y_train_after,\n",
    "        'scalers': SCALERS_AFTER\n",
    "    }, f, protocol=pickle.HIGHEST_PROTOCOL)\n",
    "\n",
    "print(f\"Saved train_before set -> {os.path.getsize(train_after_path)/1e6:.1f} MB\")"
   ]
  },
  {
   "cell_type": "code",
   "execution_count": 22,
   "id": "G-JcyoOjERA-",
   "metadata": {
    "id": "G-JcyoOjERA-"
   },
   "outputs": [
    {
     "name": "stdout",
     "output_type": "stream",
     "text": [
      "Saved validation set -> 2.0 MB\n"
     ]
    }
   ],
   "source": [
    "X_val_before, y_val_before, _ = make_Xy_multi(SPLIT['val'], scaler_dict=SCALERS_BEFORE, before_decomp=True)\n",
    "\n",
    "# Save val data immediately\n",
    "val_path_before = 'Pickles/split_before_glu_val.pkl.gz'\n",
    "with gzip.open(val_path_before, 'wb') as f:\n",
    "    pickle.dump({\n",
    "        'X_val': X_val_before,\n",
    "        'y_val': y_val_before\n",
    "    }, f, protocol=pickle.HIGHEST_PROTOCOL)\n",
    "\n",
    "print(f\"Saved validation set -> {os.path.getsize(val_path_before)/1e6:.1f} MB\")\n"
   ]
  },
  {
   "cell_type": "code",
   "execution_count": 34,
   "id": "9f400782",
   "metadata": {},
   "outputs": [
    {
     "name": "stdout",
     "output_type": "stream",
     "text": [
      "Saved validation set -> 3.8 MB\n"
     ]
    }
   ],
   "source": [
    "X_val_after, y_val_after, _ = make_Xy_multi(SPLIT['val'], scaler_dict=SCALERS_AFTER, before_decomp=False)\n",
    "\n",
    "# Save val data immediately\n",
    "val_path_after = 'Pickles/split_after_glu_val.pkl.gz'\n",
    "with gzip.open(val_path_after, 'wb') as f:\n",
    "    pickle.dump({\n",
    "        'X_val': X_val_after,\n",
    "        'y_val': y_val_after\n",
    "    }, f, protocol=pickle.HIGHEST_PROTOCOL)\n",
    "\n",
    "print(f\"Saved validation set -> {os.path.getsize(val_path_after)/1e6:.1f} MB\")"
   ]
  },
  {
   "cell_type": "code",
   "execution_count": 23,
   "id": "cvTuKx1bEWvS",
   "metadata": {
    "id": "cvTuKx1bEWvS"
   },
   "outputs": [
    {
     "name": "stdout",
     "output_type": "stream",
     "text": [
      "Saved test set -> 2.0 MB\n"
     ]
    }
   ],
   "source": [
    "X_test_before, y_test_before, _ = make_Xy_multi(SPLIT['test'], scaler_dict=SCALERS_BEFORE, before_decomp=True)\n",
    "\n",
    "# Save test data immediately\n",
    "test_path_before = 'Pickles/split_before_glu_test.pkl.gz'\n",
    "with gzip.open(test_path_before, 'wb') as f:\n",
    "    pickle.dump({\n",
    "        'X_test': X_test_before,\n",
    "        'y_test': y_test_before\n",
    "    }, f, protocol=pickle.HIGHEST_PROTOCOL)\n",
    "\n",
    "print(f\"Saved test set -> {os.path.getsize(test_path_before)/1e6:.1f} MB\")"
   ]
  },
  {
   "cell_type": "code",
   "execution_count": 35,
   "id": "fa676db2",
   "metadata": {},
   "outputs": [
    {
     "name": "stdout",
     "output_type": "stream",
     "text": [
      "Saved test set -> 3.7 MB\n"
     ]
    }
   ],
   "source": [
    "X_test_after, y_test_after, _ = make_Xy_multi(SPLIT['test'], scaler_dict=SCALERS_AFTER, before_decomp=False)\n",
    "\n",
    "# Save test data immediately\n",
    "test_path_after = 'Pickles/split_after_glu_test.pkl.gz'\n",
    "with gzip.open(test_path_after, 'wb') as f:\n",
    "    pickle.dump({\n",
    "        'X_test': X_test_after,\n",
    "        'y_test': y_test_after\n",
    "    }, f, protocol=pickle.HIGHEST_PROTOCOL)\n",
    "\n",
    "print(f\"Saved test set -> {os.path.getsize(test_path_after)/1e6:.1f} MB\")"
   ]
  },
  {
   "cell_type": "code",
   "execution_count": 69,
   "id": "ef4fcb9f",
   "metadata": {
    "id": "myv077YiwTuS"
   },
   "outputs": [
    {
     "name": "stdout",
     "output_type": "stream",
     "text": [
      "Glucose  μ=130.6  σ=50.8\n"
     ]
    }
   ],
   "source": [
    "# After you build SCALERS in make_Xy_multi\n",
    "mu_glu_before, std_glu_before = SCALERS_BEFORE[GLU_IDX]          \n",
    "print(f\"Glucose  μ={mu_glu_before:.1f}  σ={std_glu_before:.1f}\")\n"
   ]
  },
  {
   "cell_type": "code",
   "execution_count": 70,
   "id": "myv077YiwTuS",
   "metadata": {
    "id": "myv077YiwTuS",
    "scrolled": true
   },
   "outputs": [
    {
     "name": "stdout",
     "output_type": "stream",
     "text": [
      "Glucose  μ=148.2  σ=62.6\n"
     ]
    }
   ],
   "source": [
    "# After you build SCALERS in make_Xy_multi\n",
    "mu_glu_after, std_glu_after = SCALERS_AFTER[GLU_IDX]         \n",
    "print(f\"Glucose  μ={mu_glu_after:.1f}  σ={std_glu_after:.1f}\")\n"
   ]
  },
  {
   "cell_type": "code",
   "execution_count": 37,
   "id": "EFRdNVBm_C1Z",
   "metadata": {
    "id": "EFRdNVBm_C1Z"
   },
   "outputs": [
    {
     "name": "stdout",
     "output_type": "stream",
     "text": [
      "--------Pre-Decomp--------\n",
      "Train: (137914, 6, 10) (137914,)\n",
      "Val  : (46103, 6, 10) (46103,)\n",
      "Test : (45965, 6, 10) (45965,)\n",
      "--------Post-Decomp--------\n",
      "Train: (290442, 6, 10) (290442,)\n",
      "Val  : (97896, 6, 10) (97896,)\n",
      "Test : (96863, 6, 10) (96863,)\n"
     ]
    }
   ],
   "source": [
    "print(\"--------Pre-Decomp--------\")\n",
    "print(\"Train:\", X_train_before.shape, y_train_before.shape)\n",
    "print(\"Val  :\", X_val_before.shape,   y_val_before.shape)\n",
    "print(\"Test :\", X_test_before.shape,  y_test_before.shape)\n",
    "print(\"--------Post-Decomp--------\")\n",
    "print(\"Train:\", X_train_after.shape, y_train_after.shape)\n",
    "print(\"Val  :\", X_val_after.shape,   y_val_after.shape)\n",
    "print(\"Test :\", X_test_after.shape,  y_test_after.shape)"
   ]
  },
  {
   "cell_type": "code",
   "execution_count": 38,
   "id": "EdDbLesv5Hdy",
   "metadata": {
    "id": "EdDbLesv5Hdy"
   },
   "outputs": [
    {
     "name": "stdout",
     "output_type": "stream",
     "text": [
      "Any NaN in y_train_before ? False\n",
      "Any NaN in X_train_before ? False\n",
      "Any NaN in y_train_after ? False\n",
      "Any NaN in X_train_after ? False\n",
      "NaN count (before): 0\n",
      "NaN count (after): 0\n"
     ]
    }
   ],
   "source": [
    "print(\"Any NaN in y_train_before ?\", np.isnan(y_train_before).any())\n",
    "print(\"Any NaN in X_train_before ?\", np.isnan(X_train_before).any())\n",
    "\n",
    "print(\"Any NaN in y_train_after ?\", np.isnan(y_train_after).any())\n",
    "print(\"Any NaN in X_train_after ?\", np.isnan(X_train_after).any())\n",
    "# How many?\n",
    "print(\"NaN count (before):\", np.isnan(X_train_before).sum())\n",
    "print(\"NaN count (after):\", np.isnan(X_train_after).sum())"
   ]
  },
  {
   "cell_type": "code",
   "execution_count": 7,
   "id": "USMpFcAiLKOE",
   "metadata": {
    "id": "USMpFcAiLKOE"
   },
   "outputs": [],
   "source": [
    "BATCH = 64\n",
    "def make_ds(X, y, shuffle=True):\n",
    "    ds = tf.data.Dataset.from_tensor_slices((X, y))\n",
    "    if shuffle:\n",
    "        ds = ds.shuffle(len(y), seed=seed)\n",
    "    return ds.batch(BATCH).prefetch(tf.data.AUTOTUNE)"
   ]
  },
  {
   "cell_type": "code",
   "execution_count": 39,
   "id": "gZXuchmOLMf5",
   "metadata": {
    "id": "gZXuchmOLMf5"
   },
   "outputs": [],
   "source": [
    "ds_train_before = make_ds(X_train_before, y_train_before, shuffle=True)\n",
    "ds_val_before   = make_ds(X_val_before,   y_val_before,   shuffle=False)\n",
    "ds_test_before  = make_ds(X_test_before,  y_test_before,  shuffle=False)\n",
    "\n",
    "ds_train_after = make_ds(X_train_after, y_train_after, shuffle=True)\n",
    "ds_val_after   = make_ds(X_val_after,   y_val_after,   shuffle=False)\n",
    "ds_test_after  = make_ds(X_test_after,  y_test_after,  shuffle=False)"
   ]
  },
  {
   "cell_type": "markdown",
   "id": "9c4f35e2",
   "metadata": {},
   "source": [
    "# Pre-decompensation LSTM model\n",
    "\n",
    "Below here we train a LSTM model using data from before a patient's first decompensation."
   ]
  },
  {
   "cell_type": "code",
   "execution_count": 30,
   "id": "27DSFKlALWUJ",
   "metadata": {
    "colab": {
     "base_uri": "https://localhost:8080/",
     "height": 267
    },
    "id": "27DSFKlALWUJ",
    "outputId": "7a85fc99-c884-4c41-82e2-f0248ab6c99e"
   },
   "outputs": [
    {
     "name": "stdout",
     "output_type": "stream",
     "text": [
      "Model: \"sequential\"\n",
      "_________________________________________________________________\n",
      " Layer (type)                Output Shape              Param #   \n",
      "=================================================================\n",
      " masking (Masking)           (None, 6, 10)             0         \n",
      "                                                                 \n",
      " lstm (LSTM)                 (None, 64)                19200     \n",
      "                                                                 \n",
      " dense (Dense)               (None, 32)                2080      \n",
      "                                                                 \n",
      " dense_1 (Dense)             (None, 1)                 33        \n",
      "                                                                 \n",
      "=================================================================\n",
      "Total params: 21,313\n",
      "Trainable params: 21,313\n",
      "Non-trainable params: 0\n",
      "_________________________________________________________________\n"
     ]
    }
   ],
   "source": [
    "model_before = tf.keras.Sequential([\n",
    "    tf.keras.layers.Masking(mask_value=SENTINEL, input_shape=(L, F)),\n",
    "    tf.keras.layers.LSTM(64),\n",
    "    # A dense layer here is necessary, as each hidden state output, which is\n",
    "    # the output of an LSTM unit is only within the range of a tanh activation function,\n",
    "    # so further transformation is needed\n",
    "    tf.keras.layers.Dense(32, activation='relu'),\n",
    "    tf.keras.layers.Dense(1)                   # regression\n",
    "])\n",
    "\n",
    "model_before.compile(loss='mse', optimizer='adam', metrics=['mae', RootMeanSquaredError(name='rmse'), 'mse'])\n",
    "model_before.summary()"
   ]
  },
  {
   "cell_type": "code",
   "execution_count": 21,
   "id": "iCItqTtdO1sS",
   "metadata": {
    "id": "iCItqTtdO1sS"
   },
   "outputs": [],
   "source": [
    "# Create directory if it doesn't exist\n",
    "os.makedirs('models', exist_ok=True)"
   ]
  },
  {
   "cell_type": "code",
   "execution_count": 31,
   "id": "yfy1ukOPLYTR",
   "metadata": {
    "colab": {
     "base_uri": "https://localhost:8080/"
    },
    "id": "yfy1ukOPLYTR",
    "outputId": "7e65fdc0-b857-4785-c00f-661b0207ed1c",
    "scrolled": true
   },
   "outputs": [
    {
     "name": "stdout",
     "output_type": "stream",
     "text": [
      "Epoch 1/100\n",
      "2144/2155 [============================>.] - ETA: 0s - loss: 0.5085 - mae: 0.4615 - rmse: 0.7131 - mse: 0.5085\n",
      "Epoch 1: saving model to models\\preDecomp_multivar_epoch_01.h5\n",
      "2155/2155 [==============================] - 12s 4ms/step - loss: 0.5076 - mae: 0.4614 - rmse: 0.7124 - mse: 0.5076 - val_loss: 0.4780 - val_mae: 0.4617 - val_rmse: 0.6913 - val_mse: 0.4780\n",
      "Epoch 2/100\n",
      "2151/2155 [============================>.] - ETA: 0s - loss: 0.5032 - mae: 0.4585 - rmse: 0.7093 - mse: 0.5032\n",
      "Epoch 2: saving model to models\\preDecomp_multivar_epoch_02.h5\n",
      "2155/2155 [==============================] - 9s 4ms/step - loss: 0.5037 - mae: 0.4586 - rmse: 0.7097 - mse: 0.5037 - val_loss: 0.4778 - val_mae: 0.4575 - val_rmse: 0.6912 - val_mse: 0.4778\n",
      "Epoch 3/100\n",
      "2154/2155 [============================>.] - ETA: 0s - loss: 0.5040 - mae: 0.4588 - rmse: 0.7100 - mse: 0.5040\n",
      "Epoch 3: saving model to models\\preDecomp_multivar_epoch_03.h5\n",
      "2155/2155 [==============================] - 10s 4ms/step - loss: 0.5040 - mae: 0.4588 - rmse: 0.7099 - mse: 0.5040 - val_loss: 0.4775 - val_mae: 0.4582 - val_rmse: 0.6910 - val_mse: 0.4775\n",
      "Epoch 4/100\n",
      "2152/2155 [============================>.] - ETA: 0s - loss: 0.5031 - mae: 0.4578 - rmse: 0.7093 - mse: 0.5031\n",
      "Epoch 4: saving model to models\\preDecomp_multivar_epoch_04.h5\n",
      "2155/2155 [==============================] - 10s 5ms/step - loss: 0.5029 - mae: 0.4578 - rmse: 0.7091 - mse: 0.5029 - val_loss: 0.4769 - val_mae: 0.4548 - val_rmse: 0.6905 - val_mse: 0.4769\n",
      "Epoch 5/100\n",
      "2155/2155 [==============================] - ETA: 0s - loss: 0.5027 - mae: 0.4577 - rmse: 0.7090 - mse: 0.5027\n",
      "Epoch 5: saving model to models\\preDecomp_multivar_epoch_05.h5\n",
      "2155/2155 [==============================] - 11s 5ms/step - loss: 0.5027 - mae: 0.4577 - rmse: 0.7090 - mse: 0.5027 - val_loss: 0.4769 - val_mae: 0.4555 - val_rmse: 0.6906 - val_mse: 0.4769\n",
      "Epoch 6/100\n",
      "2148/2155 [============================>.] - ETA: 0s - loss: 0.5030 - mae: 0.4579 - rmse: 0.7092 - mse: 0.5030\n",
      "Epoch 6: saving model to models\\preDecomp_multivar_epoch_06.h5\n",
      "2155/2155 [==============================] - 12s 5ms/step - loss: 0.5027 - mae: 0.4579 - rmse: 0.7090 - mse: 0.5027 - val_loss: 0.4777 - val_mae: 0.4553 - val_rmse: 0.6912 - val_mse: 0.4777\n",
      "Epoch 7/100\n",
      "2154/2155 [============================>.] - ETA: 0s - loss: 0.5025 - mae: 0.4577 - rmse: 0.7089 - mse: 0.5025\n",
      "Epoch 7: saving model to models\\preDecomp_multivar_epoch_07.h5\n",
      "2155/2155 [==============================] - 12s 5ms/step - loss: 0.5029 - mae: 0.4577 - rmse: 0.7091 - mse: 0.5029 - val_loss: 0.4768 - val_mae: 0.4607 - val_rmse: 0.6905 - val_mse: 0.4768\n",
      "Epoch 8/100\n",
      "2151/2155 [============================>.] - ETA: 0s - loss: 0.5030 - mae: 0.4578 - rmse: 0.7092 - mse: 0.5030\n",
      "Epoch 8: saving model to models\\preDecomp_multivar_epoch_08.h5\n",
      "2155/2155 [==============================] - 12s 6ms/step - loss: 0.5027 - mae: 0.4577 - rmse: 0.7090 - mse: 0.5027 - val_loss: 0.4772 - val_mae: 0.4598 - val_rmse: 0.6908 - val_mse: 0.4772\n",
      "Epoch 9/100\n",
      "2153/2155 [============================>.] - ETA: 0s - loss: 0.5031 - mae: 0.4580 - rmse: 0.7093 - mse: 0.5031\n",
      "Epoch 9: saving model to models\\preDecomp_multivar_epoch_09.h5\n",
      "2155/2155 [==============================] - 12s 6ms/step - loss: 0.5029 - mae: 0.4580 - rmse: 0.7092 - mse: 0.5029 - val_loss: 0.4782 - val_mae: 0.4543 - val_rmse: 0.6915 - val_mse: 0.4782\n",
      "Epoch 10/100\n",
      "2154/2155 [============================>.] - ETA: 0s - loss: 0.5029 - mae: 0.4575 - rmse: 0.7091 - mse: 0.5029\n",
      "Epoch 10: saving model to models\\preDecomp_multivar_epoch_10.h5\n",
      "2155/2155 [==============================] - 13s 6ms/step - loss: 0.5028 - mae: 0.4575 - rmse: 0.7091 - mse: 0.5028 - val_loss: 0.4766 - val_mae: 0.4558 - val_rmse: 0.6904 - val_mse: 0.4766\n",
      "Epoch 11/100\n",
      "2151/2155 [============================>.] - ETA: 0s - loss: 0.5029 - mae: 0.4577 - rmse: 0.7091 - mse: 0.5029\n",
      "Epoch 11: saving model to models\\preDecomp_multivar_epoch_11.h5\n",
      "2155/2155 [==============================] - 13s 6ms/step - loss: 0.5025 - mae: 0.4576 - rmse: 0.7089 - mse: 0.5025 - val_loss: 0.4765 - val_mae: 0.4554 - val_rmse: 0.6903 - val_mse: 0.4765\n",
      "Epoch 12/100\n",
      "2147/2155 [============================>.] - ETA: 0s - loss: 0.5022 - mae: 0.4567 - rmse: 0.7087 - mse: 0.5022\n",
      "Epoch 12: saving model to models\\preDecomp_multivar_epoch_12.h5\n",
      "2155/2155 [==============================] - 13s 6ms/step - loss: 0.5018 - mae: 0.4567 - rmse: 0.7084 - mse: 0.5018 - val_loss: 0.4762 - val_mae: 0.4578 - val_rmse: 0.6901 - val_mse: 0.4762\n",
      "Epoch 13/100\n",
      "2151/2155 [============================>.] - ETA: 0s - loss: 0.5018 - mae: 0.4566 - rmse: 0.7084 - mse: 0.5018\n",
      "Epoch 13: saving model to models\\preDecomp_multivar_epoch_13.h5\n",
      "2155/2155 [==============================] - 13s 6ms/step - loss: 0.5016 - mae: 0.4567 - rmse: 0.7083 - mse: 0.5016 - val_loss: 0.4764 - val_mae: 0.4542 - val_rmse: 0.6902 - val_mse: 0.4764\n",
      "Epoch 14/100\n",
      "2148/2155 [============================>.] - ETA: 0s - loss: 0.5012 - mae: 0.4560 - rmse: 0.7079 - mse: 0.5012\n",
      "Epoch 14: saving model to models\\preDecomp_multivar_epoch_14.h5\n",
      "2155/2155 [==============================] - 13s 6ms/step - loss: 0.5013 - mae: 0.4561 - rmse: 0.7080 - mse: 0.5013 - val_loss: 0.4760 - val_mae: 0.4591 - val_rmse: 0.6900 - val_mse: 0.4760\n",
      "Epoch 15/100\n",
      "2151/2155 [============================>.] - ETA: 0s - loss: 0.5016 - mae: 0.4564 - rmse: 0.7083 - mse: 0.5016\n",
      "Epoch 15: saving model to models\\preDecomp_multivar_epoch_15.h5\n",
      "2155/2155 [==============================] - 13s 6ms/step - loss: 0.5016 - mae: 0.4564 - rmse: 0.7082 - mse: 0.5016 - val_loss: 0.4760 - val_mae: 0.4549 - val_rmse: 0.6899 - val_mse: 0.4760\n",
      "Epoch 16/100\n",
      "2151/2155 [============================>.] - ETA: 0s - loss: 0.5014 - mae: 0.4561 - rmse: 0.7081 - mse: 0.5014\n",
      "Epoch 16: saving model to models\\preDecomp_multivar_epoch_16.h5\n",
      "2155/2155 [==============================] - 13s 6ms/step - loss: 0.5013 - mae: 0.4561 - rmse: 0.7080 - mse: 0.5013 - val_loss: 0.4760 - val_mae: 0.4560 - val_rmse: 0.6899 - val_mse: 0.4760\n",
      "Epoch 17/100\n",
      "2148/2155 [============================>.] - ETA: 0s - loss: 0.5017 - mae: 0.4562 - rmse: 0.7083 - mse: 0.5017\n",
      "Epoch 17: saving model to models\\preDecomp_multivar_epoch_17.h5\n",
      "2155/2155 [==============================] - 14s 6ms/step - loss: 0.5013 - mae: 0.4562 - rmse: 0.7080 - mse: 0.5013 - val_loss: 0.4765 - val_mae: 0.4549 - val_rmse: 0.6903 - val_mse: 0.4765\n",
      "Epoch 18/100\n",
      "2146/2155 [============================>.] - ETA: 0s - loss: 0.5017 - mae: 0.4560 - rmse: 0.7083 - mse: 0.5017\n",
      "Epoch 18: saving model to models\\preDecomp_multivar_epoch_18.h5\n",
      "2155/2155 [==============================] - 14s 7ms/step - loss: 0.5012 - mae: 0.4560 - rmse: 0.7080 - mse: 0.5012 - val_loss: 0.4753 - val_mae: 0.4557 - val_rmse: 0.6894 - val_mse: 0.4753\n",
      "Epoch 19/100\n",
      "2152/2155 [============================>.] - ETA: 0s - loss: 0.5008 - mae: 0.4554 - rmse: 0.7076 - mse: 0.5008\n",
      "Epoch 19: saving model to models\\preDecomp_multivar_epoch_19.h5\n",
      "2155/2155 [==============================] - 14s 6ms/step - loss: 0.5007 - mae: 0.4555 - rmse: 0.7076 - mse: 0.5007 - val_loss: 0.4764 - val_mae: 0.4529 - val_rmse: 0.6902 - val_mse: 0.4764\n",
      "Epoch 20/100\n",
      "2153/2155 [============================>.] - ETA: 0s - loss: 0.5007 - mae: 0.4557 - rmse: 0.7076 - mse: 0.5007\n",
      "Epoch 20: saving model to models\\preDecomp_multivar_epoch_20.h5\n",
      "2155/2155 [==============================] - 15s 7ms/step - loss: 0.5006 - mae: 0.4557 - rmse: 0.7076 - mse: 0.5006 - val_loss: 0.4763 - val_mae: 0.4620 - val_rmse: 0.6901 - val_mse: 0.4763\n",
      "Epoch 21/100\n",
      "2151/2155 [============================>.] - ETA: 0s - loss: 0.5006 - mae: 0.4555 - rmse: 0.7076 - mse: 0.5006\n",
      "Epoch 21: saving model to models\\preDecomp_multivar_epoch_21.h5\n",
      "2155/2155 [==============================] - 14s 7ms/step - loss: 0.5007 - mae: 0.4556 - rmse: 0.7076 - mse: 0.5007 - val_loss: 0.4757 - val_mae: 0.4594 - val_rmse: 0.6897 - val_mse: 0.4757\n",
      "Epoch 22/100\n",
      "2151/2155 [============================>.] - ETA: 0s - loss: 0.5005 - mae: 0.4552 - rmse: 0.7074 - mse: 0.5005\n",
      "Epoch 22: saving model to models\\preDecomp_multivar_epoch_22.h5\n",
      "2155/2155 [==============================] - 13s 6ms/step - loss: 0.5004 - mae: 0.4553 - rmse: 0.7074 - mse: 0.5004 - val_loss: 0.4748 - val_mae: 0.4583 - val_rmse: 0.6891 - val_mse: 0.4748\n"
     ]
    },
    {
     "name": "stdout",
     "output_type": "stream",
     "text": [
      "Epoch 23/100\n",
      "2149/2155 [============================>.] - ETA: 0s - loss: 0.4994 - mae: 0.4546 - rmse: 0.7067 - mse: 0.4994\n",
      "Epoch 23: saving model to models\\preDecomp_multivar_epoch_23.h5\n",
      "2155/2155 [==============================] - 15s 7ms/step - loss: 0.4997 - mae: 0.4546 - rmse: 0.7069 - mse: 0.4997 - val_loss: 0.4748 - val_mae: 0.4529 - val_rmse: 0.6891 - val_mse: 0.4748\n",
      "Epoch 24/100\n",
      "2153/2155 [============================>.] - ETA: 0s - loss: 0.5003 - mae: 0.4550 - rmse: 0.7073 - mse: 0.5003\n",
      "Epoch 24: saving model to models\\preDecomp_multivar_epoch_24.h5\n",
      "2155/2155 [==============================] - 14s 7ms/step - loss: 0.5001 - mae: 0.4550 - rmse: 0.7072 - mse: 0.5001 - val_loss: 0.4760 - val_mae: 0.4530 - val_rmse: 0.6899 - val_mse: 0.4760\n",
      "Epoch 25/100\n",
      "2152/2155 [============================>.] - ETA: 0s - loss: 0.5006 - mae: 0.4551 - rmse: 0.7076 - mse: 0.5006\n",
      "Epoch 25: saving model to models\\preDecomp_multivar_epoch_25.h5\n",
      "2155/2155 [==============================] - 15s 7ms/step - loss: 0.5004 - mae: 0.4550 - rmse: 0.7074 - mse: 0.5004 - val_loss: 0.4748 - val_mae: 0.4544 - val_rmse: 0.6890 - val_mse: 0.4748\n",
      "Epoch 26/100\n",
      "2151/2155 [============================>.] - ETA: 0s - loss: 0.5003 - mae: 0.4549 - rmse: 0.7073 - mse: 0.5003\n",
      "Epoch 26: saving model to models\\preDecomp_multivar_epoch_26.h5\n",
      "2155/2155 [==============================] - 14s 7ms/step - loss: 0.5001 - mae: 0.4549 - rmse: 0.7072 - mse: 0.5001 - val_loss: 0.4748 - val_mae: 0.4534 - val_rmse: 0.6891 - val_mse: 0.4748\n",
      "Epoch 27/100\n",
      "2149/2155 [============================>.] - ETA: 0s - loss: 0.5006 - mae: 0.4549 - rmse: 0.7075 - mse: 0.5006\n",
      "Epoch 27: saving model to models\\preDecomp_multivar_epoch_27.h5\n",
      "2155/2155 [==============================] - 14s 6ms/step - loss: 0.5002 - mae: 0.4549 - rmse: 0.7073 - mse: 0.5002 - val_loss: 0.4745 - val_mae: 0.4532 - val_rmse: 0.6889 - val_mse: 0.4745\n",
      "Epoch 28/100\n",
      "2155/2155 [==============================] - ETA: 0s - loss: 0.5000 - mae: 0.4549 - rmse: 0.7071 - mse: 0.5000\n",
      "Epoch 28: saving model to models\\preDecomp_multivar_epoch_28.h5\n",
      "2155/2155 [==============================] - 15s 7ms/step - loss: 0.5000 - mae: 0.4549 - rmse: 0.7071 - mse: 0.5000 - val_loss: 0.4753 - val_mae: 0.4527 - val_rmse: 0.6894 - val_mse: 0.4753\n",
      "Epoch 29/100\n",
      "2149/2155 [============================>.] - ETA: 0s - loss: 0.5000 - mae: 0.4544 - rmse: 0.7071 - mse: 0.5000\n",
      "Epoch 29: saving model to models\\preDecomp_multivar_epoch_29.h5\n",
      "2155/2155 [==============================] - 15s 7ms/step - loss: 0.4996 - mae: 0.4544 - rmse: 0.7068 - mse: 0.4996 - val_loss: 0.4738 - val_mae: 0.4532 - val_rmse: 0.6884 - val_mse: 0.4738\n",
      "Epoch 30/100\n",
      "2154/2155 [============================>.] - ETA: 0s - loss: 0.4991 - mae: 0.4540 - rmse: 0.7064 - mse: 0.4991\n",
      "Epoch 30: saving model to models\\preDecomp_multivar_epoch_30.h5\n",
      "2155/2155 [==============================] - 14s 6ms/step - loss: 0.4990 - mae: 0.4540 - rmse: 0.7064 - mse: 0.4990 - val_loss: 0.4738 - val_mae: 0.4543 - val_rmse: 0.6883 - val_mse: 0.4738\n",
      "Epoch 31/100\n",
      "2146/2155 [============================>.] - ETA: 0s - loss: 0.4991 - mae: 0.4541 - rmse: 0.7064 - mse: 0.4991\n",
      "Epoch 31: saving model to models\\preDecomp_multivar_epoch_31.h5\n",
      "2155/2155 [==============================] - 13s 6ms/step - loss: 0.4991 - mae: 0.4541 - rmse: 0.7065 - mse: 0.4991 - val_loss: 0.4743 - val_mae: 0.4574 - val_rmse: 0.6887 - val_mse: 0.4743\n",
      "Epoch 32/100\n",
      "2148/2155 [============================>.] - ETA: 0s - loss: 0.4997 - mae: 0.4543 - rmse: 0.7069 - mse: 0.4997\n",
      "Epoch 32: saving model to models\\preDecomp_multivar_epoch_32.h5\n",
      "2155/2155 [==============================] - 13s 6ms/step - loss: 0.4994 - mae: 0.4543 - rmse: 0.7067 - mse: 0.4994 - val_loss: 0.4745 - val_mae: 0.4522 - val_rmse: 0.6889 - val_mse: 0.4745\n",
      "Epoch 33/100\n",
      "2154/2155 [============================>.] - ETA: 0s - loss: 0.4996 - mae: 0.4544 - rmse: 0.7068 - mse: 0.4996\n",
      "Epoch 33: saving model to models\\preDecomp_multivar_epoch_33.h5\n",
      "2155/2155 [==============================] - 14s 7ms/step - loss: 0.4995 - mae: 0.4544 - rmse: 0.7068 - mse: 0.4995 - val_loss: 0.4740 - val_mae: 0.4545 - val_rmse: 0.6885 - val_mse: 0.4740\n",
      "Epoch 34/100\n",
      "2152/2155 [============================>.] - ETA: 0s - loss: 0.4996 - mae: 0.4542 - rmse: 0.7068 - mse: 0.4996\n",
      "Epoch 34: saving model to models\\preDecomp_multivar_epoch_34.h5\n",
      "2155/2155 [==============================] - 14s 6ms/step - loss: 0.4994 - mae: 0.4543 - rmse: 0.7067 - mse: 0.4994 - val_loss: 0.4739 - val_mae: 0.4555 - val_rmse: 0.6884 - val_mse: 0.4739\n",
      "Epoch 35/100\n",
      "2147/2155 [============================>.] - ETA: 0s - loss: 0.4991 - mae: 0.4536 - rmse: 0.7065 - mse: 0.4991\n",
      "Epoch 35: saving model to models\\preDecomp_multivar_epoch_35.h5\n",
      "2155/2155 [==============================] - 14s 6ms/step - loss: 0.4987 - mae: 0.4537 - rmse: 0.7062 - mse: 0.4987 - val_loss: 0.4745 - val_mae: 0.4546 - val_rmse: 0.6888 - val_mse: 0.4745\n",
      "Epoch 36/100\n",
      "2151/2155 [============================>.] - ETA: 0s - loss: 0.4993 - mae: 0.4539 - rmse: 0.7066 - mse: 0.4993\n",
      "Epoch 36: saving model to models\\preDecomp_multivar_epoch_36.h5\n",
      "2155/2155 [==============================] - 13s 6ms/step - loss: 0.4991 - mae: 0.4539 - rmse: 0.7064 - mse: 0.4991 - val_loss: 0.4743 - val_mae: 0.4566 - val_rmse: 0.6887 - val_mse: 0.4743\n",
      "Epoch 37/100\n",
      "2150/2155 [============================>.] - ETA: 0s - loss: 0.4997 - mae: 0.4541 - rmse: 0.7069 - mse: 0.4997\n",
      "Epoch 37: saving model to models\\preDecomp_multivar_epoch_37.h5\n",
      "2155/2155 [==============================] - 14s 6ms/step - loss: 0.4992 - mae: 0.4541 - rmse: 0.7066 - mse: 0.4992 - val_loss: 0.4745 - val_mae: 0.4526 - val_rmse: 0.6889 - val_mse: 0.4745\n",
      "Epoch 38/100\n",
      "2154/2155 [============================>.] - ETA: 0s - loss: 0.4990 - mae: 0.4539 - rmse: 0.7064 - mse: 0.4990\n",
      "Epoch 38: saving model to models\\preDecomp_multivar_epoch_38.h5\n",
      "2155/2155 [==============================] - 14s 6ms/step - loss: 0.4991 - mae: 0.4539 - rmse: 0.7064 - mse: 0.4991 - val_loss: 0.4749 - val_mae: 0.4581 - val_rmse: 0.6891 - val_mse: 0.4749\n",
      "Epoch 39/100\n",
      "2155/2155 [==============================] - ETA: 0s - loss: 0.4990 - mae: 0.4540 - rmse: 0.7064 - mse: 0.4990\n",
      "Epoch 39: saving model to models\\preDecomp_multivar_epoch_39.h5\n",
      "2155/2155 [==============================] - 14s 6ms/step - loss: 0.4990 - mae: 0.4540 - rmse: 0.7064 - mse: 0.4990 - val_loss: 0.4743 - val_mae: 0.4562 - val_rmse: 0.6887 - val_mse: 0.4743\n",
      "Epoch 40/100\n",
      "2149/2155 [============================>.] - ETA: 0s - loss: 0.4998 - mae: 0.4545 - rmse: 0.7069 - mse: 0.4998\n",
      "Epoch 40: saving model to models\\preDecomp_multivar_epoch_40.h5\n",
      "2155/2155 [==============================] - 14s 7ms/step - loss: 0.4992 - mae: 0.4544 - rmse: 0.7066 - mse: 0.4992 - val_loss: 0.4753 - val_mae: 0.4562 - val_rmse: 0.6894 - val_mse: 0.4753\n",
      "Epoch 41/100\n",
      "2152/2155 [============================>.] - ETA: 0s - loss: 0.5007 - mae: 0.4555 - rmse: 0.7076 - mse: 0.5007\n",
      "Epoch 41: saving model to models\\preDecomp_multivar_epoch_41.h5\n",
      "2155/2155 [==============================] - 14s 6ms/step - loss: 0.5004 - mae: 0.4554 - rmse: 0.7074 - mse: 0.5004 - val_loss: 0.4763 - val_mae: 0.4538 - val_rmse: 0.6902 - val_mse: 0.4763\n",
      "Epoch 42/100\n",
      "2146/2155 [============================>.] - ETA: 0s - loss: 0.5016 - mae: 0.4559 - rmse: 0.7082 - mse: 0.5016\n",
      "Epoch 42: saving model to models\\preDecomp_multivar_epoch_42.h5\n",
      "2155/2155 [==============================] - 14s 7ms/step - loss: 0.5007 - mae: 0.4557 - rmse: 0.7076 - mse: 0.5007 - val_loss: 0.4755 - val_mae: 0.4545 - val_rmse: 0.6896 - val_mse: 0.4755\n",
      "Epoch 43/100\n",
      "2151/2155 [============================>.] - ETA: 0s - loss: 0.5009 - mae: 0.4557 - rmse: 0.7077 - mse: 0.5009\n",
      "Epoch 43: saving model to models\\preDecomp_multivar_epoch_43.h5\n",
      "2155/2155 [==============================] - 14s 6ms/step - loss: 0.5005 - mae: 0.4556 - rmse: 0.7075 - mse: 0.5005 - val_loss: 0.4750 - val_mae: 0.4557 - val_rmse: 0.6892 - val_mse: 0.4750\n",
      "Epoch 44/100\n",
      "2154/2155 [============================>.] - ETA: 0s - loss: 0.5002 - mae: 0.4554 - rmse: 0.7073 - mse: 0.5002\n",
      "Epoch 44: saving model to models\\preDecomp_multivar_epoch_44.h5\n",
      "2155/2155 [==============================] - 14s 6ms/step - loss: 0.5002 - mae: 0.4554 - rmse: 0.7073 - mse: 0.5002 - val_loss: 0.4762 - val_mae: 0.4580 - val_rmse: 0.6900 - val_mse: 0.4762\n"
     ]
    },
    {
     "name": "stdout",
     "output_type": "stream",
     "text": [
      "Epoch 45/100\n",
      "2151/2155 [============================>.] - ETA: 0s - loss: 0.5008 - mae: 0.4557 - rmse: 0.7077 - mse: 0.5008\n",
      "Epoch 45: saving model to models\\preDecomp_multivar_epoch_45.h5\n",
      "2155/2155 [==============================] - 14s 7ms/step - loss: 0.5007 - mae: 0.4557 - rmse: 0.7076 - mse: 0.5007 - val_loss: 0.4753 - val_mae: 0.4550 - val_rmse: 0.6894 - val_mse: 0.4753\n",
      "Epoch 46/100\n",
      "2154/2155 [============================>.] - ETA: 0s - loss: 0.5001 - mae: 0.4555 - rmse: 0.7072 - mse: 0.5001\n",
      "Epoch 46: saving model to models\\preDecomp_multivar_epoch_46.h5\n",
      "2155/2155 [==============================] - 14s 6ms/step - loss: 0.5003 - mae: 0.4556 - rmse: 0.7074 - mse: 0.5003 - val_loss: 0.4754 - val_mae: 0.4574 - val_rmse: 0.6895 - val_mse: 0.4754\n",
      "Epoch 47/100\n",
      "2150/2155 [============================>.] - ETA: 0s - loss: 0.5008 - mae: 0.4556 - rmse: 0.7077 - mse: 0.5008\n",
      "Epoch 47: saving model to models\\preDecomp_multivar_epoch_47.h5\n",
      "2155/2155 [==============================] - 15s 7ms/step - loss: 0.5006 - mae: 0.4557 - rmse: 0.7075 - mse: 0.5006 - val_loss: 0.4755 - val_mae: 0.4563 - val_rmse: 0.6895 - val_mse: 0.4755\n",
      "Epoch 48/100\n",
      "2155/2155 [==============================] - ETA: 0s - loss: 0.5002 - mae: 0.4554 - rmse: 0.7073 - mse: 0.5002\n",
      "Epoch 48: saving model to models\\preDecomp_multivar_epoch_48.h5\n",
      "2155/2155 [==============================] - 16s 7ms/step - loss: 0.5002 - mae: 0.4554 - rmse: 0.7073 - mse: 0.5002 - val_loss: 0.4755 - val_mae: 0.4566 - val_rmse: 0.6896 - val_mse: 0.4755\n",
      "Epoch 49/100\n",
      "2149/2155 [============================>.] - ETA: 0s - loss: 0.5006 - mae: 0.4552 - rmse: 0.7075 - mse: 0.5006\n",
      "Epoch 49: saving model to models\\preDecomp_multivar_epoch_49.h5\n",
      "2155/2155 [==============================] - 15s 7ms/step - loss: 0.4999 - mae: 0.4550 - rmse: 0.7070 - mse: 0.4999 - val_loss: 0.4750 - val_mae: 0.4561 - val_rmse: 0.6892 - val_mse: 0.4750\n",
      "Epoch 50/100\n",
      "2150/2155 [============================>.] - ETA: 0s - loss: 0.4998 - mae: 0.4545 - rmse: 0.7070 - mse: 0.4998\n",
      "Epoch 50: saving model to models\\preDecomp_multivar_epoch_50.h5\n",
      "2155/2155 [==============================] - 15s 7ms/step - loss: 0.4995 - mae: 0.4545 - rmse: 0.7067 - mse: 0.4995 - val_loss: 0.4751 - val_mae: 0.4573 - val_rmse: 0.6893 - val_mse: 0.4751\n",
      "Epoch 51/100\n",
      "2150/2155 [============================>.] - ETA: 0s - loss: 0.4995 - mae: 0.4547 - rmse: 0.7068 - mse: 0.4995\n",
      "Epoch 51: saving model to models\\preDecomp_multivar_epoch_51.h5\n",
      "2155/2155 [==============================] - 14s 6ms/step - loss: 0.4995 - mae: 0.4548 - rmse: 0.7068 - mse: 0.4995 - val_loss: 0.4749 - val_mae: 0.4552 - val_rmse: 0.6891 - val_mse: 0.4749\n",
      "Epoch 52/100\n",
      "2153/2155 [============================>.] - ETA: 0s - loss: 0.4997 - mae: 0.4547 - rmse: 0.7069 - mse: 0.4997\n",
      "Epoch 52: saving model to models\\preDecomp_multivar_epoch_52.h5\n",
      "2155/2155 [==============================] - 15s 7ms/step - loss: 0.4997 - mae: 0.4547 - rmse: 0.7069 - mse: 0.4997 - val_loss: 0.4767 - val_mae: 0.4607 - val_rmse: 0.6904 - val_mse: 0.4767\n",
      "Epoch 53/100\n",
      "2155/2155 [==============================] - ETA: 0s - loss: 0.5001 - mae: 0.4552 - rmse: 0.7072 - mse: 0.5001\n",
      "Epoch 53: saving model to models\\preDecomp_multivar_epoch_53.h5\n",
      "2155/2155 [==============================] - 15s 7ms/step - loss: 0.5001 - mae: 0.4552 - rmse: 0.7072 - mse: 0.5001 - val_loss: 0.4761 - val_mae: 0.4604 - val_rmse: 0.6900 - val_mse: 0.4761\n",
      "Epoch 54/100\n",
      "2147/2155 [============================>.] - ETA: 0s - loss: 0.4992 - mae: 0.4538 - rmse: 0.7066 - mse: 0.4992\n",
      "Epoch 54: saving model to models\\preDecomp_multivar_epoch_54.h5\n",
      "2155/2155 [==============================] - 14s 6ms/step - loss: 0.4986 - mae: 0.4536 - rmse: 0.7061 - mse: 0.4986 - val_loss: 0.4746 - val_mae: 0.4551 - val_rmse: 0.6889 - val_mse: 0.4746\n",
      "Epoch 55/100\n",
      "2151/2155 [============================>.] - ETA: 0s - loss: 0.4987 - mae: 0.4533 - rmse: 0.7062 - mse: 0.4987\n",
      "Epoch 55: saving model to models\\preDecomp_multivar_epoch_55.h5\n",
      "2155/2155 [==============================] - 14s 6ms/step - loss: 0.4985 - mae: 0.4533 - rmse: 0.7060 - mse: 0.4985 - val_loss: 0.4741 - val_mae: 0.4559 - val_rmse: 0.6885 - val_mse: 0.4741\n",
      "Epoch 56/100\n",
      "2152/2155 [============================>.] - ETA: 0s - loss: 0.4984 - mae: 0.4532 - rmse: 0.7060 - mse: 0.4984\n",
      "Epoch 56: saving model to models\\preDecomp_multivar_epoch_56.h5\n",
      "2155/2155 [==============================] - 14s 6ms/step - loss: 0.4984 - mae: 0.4532 - rmse: 0.7060 - mse: 0.4984 - val_loss: 0.4742 - val_mae: 0.4540 - val_rmse: 0.6886 - val_mse: 0.4742\n",
      "Epoch 57/100\n",
      "2150/2155 [============================>.] - ETA: 0s - loss: 0.4988 - mae: 0.4531 - rmse: 0.7063 - mse: 0.4988\n",
      "Epoch 57: saving model to models\\preDecomp_multivar_epoch_57.h5\n",
      "2155/2155 [==============================] - 13s 6ms/step - loss: 0.4985 - mae: 0.4531 - rmse: 0.7060 - mse: 0.4985 - val_loss: 0.4741 - val_mae: 0.4572 - val_rmse: 0.6886 - val_mse: 0.4741\n",
      "Epoch 58/100\n",
      "2151/2155 [============================>.] - ETA: 0s - loss: 0.4989 - mae: 0.4542 - rmse: 0.7063 - mse: 0.4989\n",
      "Epoch 58: saving model to models\\preDecomp_multivar_epoch_58.h5\n",
      "2155/2155 [==============================] - 14s 6ms/step - loss: 0.4986 - mae: 0.4542 - rmse: 0.7061 - mse: 0.4986 - val_loss: 0.4746 - val_mae: 0.4567 - val_rmse: 0.6889 - val_mse: 0.4746\n",
      "Epoch 59/100\n",
      "2150/2155 [============================>.] - ETA: 0s - loss: 0.4987 - mae: 0.4537 - rmse: 0.7062 - mse: 0.4987\n",
      "Epoch 59: saving model to models\\preDecomp_multivar_epoch_59.h5\n",
      "2155/2155 [==============================] - 14s 7ms/step - loss: 0.4986 - mae: 0.4538 - rmse: 0.7061 - mse: 0.4986 - val_loss: 0.4755 - val_mae: 0.4534 - val_rmse: 0.6896 - val_mse: 0.4755\n",
      "Epoch 60/100\n",
      "2148/2155 [============================>.] - ETA: 0s - loss: 0.4996 - mae: 0.4546 - rmse: 0.7068 - mse: 0.4996\n",
      "Epoch 60: saving model to models\\preDecomp_multivar_epoch_60.h5\n",
      "2155/2155 [==============================] - 14s 6ms/step - loss: 0.4994 - mae: 0.4546 - rmse: 0.7067 - mse: 0.4994 - val_loss: 0.4754 - val_mae: 0.4544 - val_rmse: 0.6895 - val_mse: 0.4754\n",
      "Epoch 61/100\n",
      "2155/2155 [==============================] - ETA: 0s - loss: 0.4991 - mae: 0.4543 - rmse: 0.7065 - mse: 0.4991\n",
      "Epoch 61: saving model to models\\preDecomp_multivar_epoch_61.h5\n",
      "2155/2155 [==============================] - 14s 6ms/step - loss: 0.4991 - mae: 0.4543 - rmse: 0.7065 - mse: 0.4991 - val_loss: 0.4754 - val_mae: 0.4560 - val_rmse: 0.6895 - val_mse: 0.4754\n",
      "Epoch 62/100\n",
      "2152/2155 [============================>.] - ETA: 0s - loss: 0.4998 - mae: 0.4547 - rmse: 0.7070 - mse: 0.4998\n",
      "Epoch 62: saving model to models\\preDecomp_multivar_epoch_62.h5\n",
      "2155/2155 [==============================] - 14s 6ms/step - loss: 0.4996 - mae: 0.4547 - rmse: 0.7068 - mse: 0.4996 - val_loss: 0.4755 - val_mae: 0.4543 - val_rmse: 0.6896 - val_mse: 0.4755\n",
      "Epoch 63/100\n",
      "2150/2155 [============================>.] - ETA: 0s - loss: 0.5002 - mae: 0.4550 - rmse: 0.7073 - mse: 0.5002\n",
      "Epoch 63: saving model to models\\preDecomp_multivar_epoch_63.h5\n",
      "2155/2155 [==============================] - 13s 6ms/step - loss: 0.4999 - mae: 0.4550 - rmse: 0.7070 - mse: 0.4999 - val_loss: 0.4759 - val_mae: 0.4554 - val_rmse: 0.6899 - val_mse: 0.4759\n",
      "Epoch 64/100\n",
      "2154/2155 [============================>.] - ETA: 0s - loss: 0.4999 - mae: 0.4550 - rmse: 0.7070 - mse: 0.4999\n",
      "Epoch 64: saving model to models\\preDecomp_multivar_epoch_64.h5\n",
      "2155/2155 [==============================] - 13s 6ms/step - loss: 0.4997 - mae: 0.4550 - rmse: 0.7069 - mse: 0.4997 - val_loss: 0.4762 - val_mae: 0.4595 - val_rmse: 0.6900 - val_mse: 0.4762\n",
      "Epoch 65/100\n",
      "2150/2155 [============================>.] - ETA: 0s - loss: 0.5003 - mae: 0.4553 - rmse: 0.7073 - mse: 0.5003\n",
      "Epoch 65: saving model to models\\preDecomp_multivar_epoch_65.h5\n",
      "2155/2155 [==============================] - 14s 6ms/step - loss: 0.5000 - mae: 0.4553 - rmse: 0.7071 - mse: 0.5000 - val_loss: 0.4755 - val_mae: 0.4536 - val_rmse: 0.6895 - val_mse: 0.4755\n",
      "Epoch 66/100\n",
      "2155/2155 [==============================] - ETA: 0s - loss: 0.4997 - mae: 0.4550 - rmse: 0.7069 - mse: 0.4997\n",
      "Epoch 66: saving model to models\\preDecomp_multivar_epoch_66.h5\n",
      "2155/2155 [==============================] - 14s 6ms/step - loss: 0.4997 - mae: 0.4550 - rmse: 0.7069 - mse: 0.4997 - val_loss: 0.4756 - val_mae: 0.4535 - val_rmse: 0.6897 - val_mse: 0.4756\n"
     ]
    },
    {
     "name": "stdout",
     "output_type": "stream",
     "text": [
      "Epoch 67/100\n",
      "2148/2155 [============================>.] - ETA: 0s - loss: 0.4985 - mae: 0.4549 - rmse: 0.7061 - mse: 0.4985\n",
      "Epoch 67: saving model to models\\preDecomp_multivar_epoch_67.h5\n",
      "2155/2155 [==============================] - 14s 6ms/step - loss: 0.4996 - mae: 0.4549 - rmse: 0.7068 - mse: 0.4996 - val_loss: 0.4751 - val_mae: 0.4580 - val_rmse: 0.6893 - val_mse: 0.4751\n",
      "Epoch 68/100\n",
      "2153/2155 [============================>.] - ETA: 0s - loss: 0.4997 - mae: 0.4550 - rmse: 0.7069 - mse: 0.4997\n",
      "Epoch 68: saving model to models\\preDecomp_multivar_epoch_68.h5\n",
      "2155/2155 [==============================] - 13s 6ms/step - loss: 0.4995 - mae: 0.4550 - rmse: 0.7068 - mse: 0.4995 - val_loss: 0.4747 - val_mae: 0.4564 - val_rmse: 0.6890 - val_mse: 0.4747\n",
      "Epoch 69/100\n",
      "2147/2155 [============================>.] - ETA: 0s - loss: 0.4995 - mae: 0.4548 - rmse: 0.7067 - mse: 0.4995\n",
      "Epoch 69: saving model to models\\preDecomp_multivar_epoch_69.h5\n",
      "2155/2155 [==============================] - 13s 6ms/step - loss: 0.4994 - mae: 0.4548 - rmse: 0.7067 - mse: 0.4994 - val_loss: 0.4753 - val_mae: 0.4545 - val_rmse: 0.6894 - val_mse: 0.4753\n",
      "Epoch 70/100\n",
      "2148/2155 [============================>.] - ETA: 0s - loss: 0.5005 - mae: 0.4552 - rmse: 0.7074 - mse: 0.5005\n",
      "Epoch 70: saving model to models\\preDecomp_multivar_epoch_70.h5\n",
      "2155/2155 [==============================] - 13s 6ms/step - loss: 0.5002 - mae: 0.4552 - rmse: 0.7073 - mse: 0.5002 - val_loss: 0.4757 - val_mae: 0.4574 - val_rmse: 0.6897 - val_mse: 0.4757\n",
      "Epoch 71/100\n",
      "2150/2155 [============================>.] - ETA: 0s - loss: 0.5001 - mae: 0.4553 - rmse: 0.7072 - mse: 0.5001\n",
      "Epoch 71: saving model to models\\preDecomp_multivar_epoch_71.h5\n",
      "2155/2155 [==============================] - 14s 7ms/step - loss: 0.5002 - mae: 0.4554 - rmse: 0.7072 - mse: 0.5002 - val_loss: 0.4767 - val_mae: 0.4598 - val_rmse: 0.6904 - val_mse: 0.4767\n",
      "Epoch 72/100\n",
      "2151/2155 [============================>.] - ETA: 0s - loss: 0.5000 - mae: 0.4551 - rmse: 0.7071 - mse: 0.5000\n",
      "Epoch 72: saving model to models\\preDecomp_multivar_epoch_72.h5\n",
      "2155/2155 [==============================] - 18s 8ms/step - loss: 0.4997 - mae: 0.4550 - rmse: 0.7069 - mse: 0.4997 - val_loss: 0.4749 - val_mae: 0.4557 - val_rmse: 0.6892 - val_mse: 0.4749\n",
      "Epoch 73/100\n",
      "2153/2155 [============================>.] - ETA: 0s - loss: 0.4993 - mae: 0.4544 - rmse: 0.7066 - mse: 0.4993\n",
      "Epoch 73: saving model to models\\preDecomp_multivar_epoch_73.h5\n",
      "2155/2155 [==============================] - 13s 6ms/step - loss: 0.4991 - mae: 0.4543 - rmse: 0.7065 - mse: 0.4991 - val_loss: 0.4750 - val_mae: 0.4558 - val_rmse: 0.6892 - val_mse: 0.4750\n",
      "Epoch 74/100\n",
      "2147/2155 [============================>.] - ETA: 0s - loss: 0.4997 - mae: 0.4545 - rmse: 0.7069 - mse: 0.4997\n",
      "Epoch 74: saving model to models\\preDecomp_multivar_epoch_74.h5\n",
      "2155/2155 [==============================] - 13s 6ms/step - loss: 0.4991 - mae: 0.4544 - rmse: 0.7065 - mse: 0.4991 - val_loss: 0.4750 - val_mae: 0.4552 - val_rmse: 0.6892 - val_mse: 0.4750\n",
      "Epoch 75/100\n",
      "2146/2155 [============================>.] - ETA: 0s - loss: 0.4974 - mae: 0.4539 - rmse: 0.7053 - mse: 0.4974\n",
      "Epoch 75: saving model to models\\preDecomp_multivar_epoch_75.h5\n",
      "2155/2155 [==============================] - 13s 6ms/step - loss: 0.4988 - mae: 0.4540 - rmse: 0.7062 - mse: 0.4988 - val_loss: 0.4747 - val_mae: 0.4544 - val_rmse: 0.6890 - val_mse: 0.4747\n",
      "Epoch 76/100\n",
      "2150/2155 [============================>.] - ETA: 0s - loss: 0.4989 - mae: 0.4540 - rmse: 0.7064 - mse: 0.4989\n",
      "Epoch 76: saving model to models\\preDecomp_multivar_epoch_76.h5\n",
      "2155/2155 [==============================] - 13s 6ms/step - loss: 0.4987 - mae: 0.4540 - rmse: 0.7062 - mse: 0.4987 - val_loss: 0.4744 - val_mae: 0.4527 - val_rmse: 0.6887 - val_mse: 0.4744\n",
      "Epoch 77/100\n",
      "2155/2155 [==============================] - ETA: 0s - loss: 0.4988 - mae: 0.4539 - rmse: 0.7062 - mse: 0.4988\n",
      "Epoch 77: saving model to models\\preDecomp_multivar_epoch_77.h5\n",
      "2155/2155 [==============================] - 13s 6ms/step - loss: 0.4988 - mae: 0.4539 - rmse: 0.7062 - mse: 0.4988 - val_loss: 0.4749 - val_mae: 0.4580 - val_rmse: 0.6891 - val_mse: 0.4749\n",
      "Epoch 78/100\n",
      "2151/2155 [============================>.] - ETA: 0s - loss: 0.4987 - mae: 0.4536 - rmse: 0.7062 - mse: 0.4987\n",
      "Epoch 78: saving model to models\\preDecomp_multivar_epoch_78.h5\n",
      "2155/2155 [==============================] - 13s 6ms/step - loss: 0.4986 - mae: 0.4537 - rmse: 0.7061 - mse: 0.4986 - val_loss: 0.4741 - val_mae: 0.4537 - val_rmse: 0.6885 - val_mse: 0.4741\n",
      "Epoch 79/100\n",
      "2150/2155 [============================>.] - ETA: 0s - loss: 0.4991 - mae: 0.4539 - rmse: 0.7065 - mse: 0.4991\n",
      "Epoch 79: saving model to models\\preDecomp_multivar_epoch_79.h5\n",
      "2155/2155 [==============================] - 13s 6ms/step - loss: 0.4987 - mae: 0.4538 - rmse: 0.7062 - mse: 0.4987 - val_loss: 0.4749 - val_mae: 0.4560 - val_rmse: 0.6891 - val_mse: 0.4749\n",
      "Epoch 80/100\n",
      "2147/2155 [============================>.] - ETA: 0s - loss: 0.5001 - mae: 0.4545 - rmse: 0.7071 - mse: 0.5001\n",
      "Epoch 80: saving model to models\\preDecomp_multivar_epoch_80.h5\n",
      "2155/2155 [==============================] - 14s 6ms/step - loss: 0.4994 - mae: 0.4544 - rmse: 0.7066 - mse: 0.4994 - val_loss: 0.4752 - val_mae: 0.4543 - val_rmse: 0.6894 - val_mse: 0.4752\n",
      "Epoch 81/100\n",
      "2149/2155 [============================>.] - ETA: 0s - loss: 0.4991 - mae: 0.4538 - rmse: 0.7064 - mse: 0.4991\n",
      "Epoch 81: saving model to models\\preDecomp_multivar_epoch_81.h5\n",
      "2155/2155 [==============================] - 14s 7ms/step - loss: 0.4989 - mae: 0.4539 - rmse: 0.7063 - mse: 0.4989 - val_loss: 0.4749 - val_mae: 0.4540 - val_rmse: 0.6891 - val_mse: 0.4749\n",
      "Epoch 82/100\n",
      "2151/2155 [============================>.] - ETA: 0s - loss: 0.4990 - mae: 0.4540 - rmse: 0.7064 - mse: 0.4990\n",
      "Epoch 82: saving model to models\\preDecomp_multivar_epoch_82.h5\n",
      "2155/2155 [==============================] - 14s 6ms/step - loss: 0.4986 - mae: 0.4539 - rmse: 0.7061 - mse: 0.4986 - val_loss: 0.4743 - val_mae: 0.4548 - val_rmse: 0.6887 - val_mse: 0.4743\n",
      "Epoch 83/100\n",
      "2150/2155 [============================>.] - ETA: 0s - loss: 0.4989 - mae: 0.4537 - rmse: 0.7063 - mse: 0.4989\n",
      "Epoch 83: saving model to models\\preDecomp_multivar_epoch_83.h5\n",
      "2155/2155 [==============================] - 13s 6ms/step - loss: 0.4986 - mae: 0.4537 - rmse: 0.7061 - mse: 0.4986 - val_loss: 0.4744 - val_mae: 0.4547 - val_rmse: 0.6888 - val_mse: 0.4744\n",
      "Epoch 84/100\n",
      "2147/2155 [============================>.] - ETA: 0s - loss: 0.4986 - mae: 0.4535 - rmse: 0.7061 - mse: 0.4986\n",
      "Epoch 84: saving model to models\\preDecomp_multivar_epoch_84.h5\n",
      "2155/2155 [==============================] - 13s 6ms/step - loss: 0.4981 - mae: 0.4535 - rmse: 0.7058 - mse: 0.4981 - val_loss: 0.4741 - val_mae: 0.4557 - val_rmse: 0.6886 - val_mse: 0.4741\n",
      "Epoch 85/100\n",
      "2153/2155 [============================>.] - ETA: 0s - loss: 0.4983 - mae: 0.4533 - rmse: 0.7059 - mse: 0.4983\n",
      "Epoch 85: saving model to models\\preDecomp_multivar_epoch_85.h5\n",
      "2155/2155 [==============================] - 14s 7ms/step - loss: 0.4982 - mae: 0.4533 - rmse: 0.7058 - mse: 0.4982 - val_loss: 0.4742 - val_mae: 0.4551 - val_rmse: 0.6886 - val_mse: 0.4742\n",
      "Epoch 86/100\n",
      "2150/2155 [============================>.] - ETA: 0s - loss: 0.4986 - mae: 0.4533 - rmse: 0.7061 - mse: 0.4986\n",
      "Epoch 86: saving model to models\\preDecomp_multivar_epoch_86.h5\n",
      "2155/2155 [==============================] - 15s 7ms/step - loss: 0.4982 - mae: 0.4533 - rmse: 0.7059 - mse: 0.4982 - val_loss: 0.4748 - val_mae: 0.4567 - val_rmse: 0.6891 - val_mse: 0.4748\n",
      "Epoch 87/100\n",
      "2151/2155 [============================>.] - ETA: 0s - loss: 0.4985 - mae: 0.4533 - rmse: 0.7061 - mse: 0.4985\n",
      "Epoch 87: saving model to models\\preDecomp_multivar_epoch_87.h5\n",
      "2155/2155 [==============================] - 14s 6ms/step - loss: 0.4981 - mae: 0.4532 - rmse: 0.7058 - mse: 0.4981 - val_loss: 0.4744 - val_mae: 0.4531 - val_rmse: 0.6888 - val_mse: 0.4744\n",
      "Epoch 88/100\n",
      "2150/2155 [============================>.] - ETA: 0s - loss: 0.4955 - mae: 0.4526 - rmse: 0.7039 - mse: 0.4955\n",
      "Epoch 88: saving model to models\\preDecomp_multivar_epoch_88.h5\n",
      "2155/2155 [==============================] - 14s 6ms/step - loss: 0.4976 - mae: 0.4527 - rmse: 0.7054 - mse: 0.4976 - val_loss: 0.4749 - val_mae: 0.4586 - val_rmse: 0.6891 - val_mse: 0.4749\n"
     ]
    },
    {
     "name": "stdout",
     "output_type": "stream",
     "text": [
      "Epoch 89/100\n",
      "2148/2155 [============================>.] - ETA: 0s - loss: 0.4983 - mae: 0.4532 - rmse: 0.7059 - mse: 0.4983\n",
      "Epoch 89: saving model to models\\preDecomp_multivar_epoch_89.h5\n",
      "2155/2155 [==============================] - 14s 6ms/step - loss: 0.4980 - mae: 0.4531 - rmse: 0.7057 - mse: 0.4980 - val_loss: 0.4749 - val_mae: 0.4578 - val_rmse: 0.6891 - val_mse: 0.4749\n",
      "Epoch 90/100\n",
      "2149/2155 [============================>.] - ETA: 0s - loss: 0.4977 - mae: 0.4533 - rmse: 0.7055 - mse: 0.4977\n",
      "Epoch 90: saving model to models\\preDecomp_multivar_epoch_90.h5\n",
      "2155/2155 [==============================] - 14s 7ms/step - loss: 0.4981 - mae: 0.4532 - rmse: 0.7057 - mse: 0.4981 - val_loss: 0.4746 - val_mae: 0.4544 - val_rmse: 0.6889 - val_mse: 0.4746\n",
      "Epoch 91/100\n",
      "2153/2155 [============================>.] - ETA: 0s - loss: 0.4980 - mae: 0.4531 - rmse: 0.7057 - mse: 0.4980\n",
      "Epoch 91: saving model to models\\preDecomp_multivar_epoch_91.h5\n",
      "2155/2155 [==============================] - 14s 7ms/step - loss: 0.4979 - mae: 0.4531 - rmse: 0.7056 - mse: 0.4979 - val_loss: 0.4753 - val_mae: 0.4562 - val_rmse: 0.6894 - val_mse: 0.4753\n",
      "Epoch 92/100\n",
      "2148/2155 [============================>.] - ETA: 0s - loss: 0.4948 - mae: 0.4539 - rmse: 0.7034 - mse: 0.4948\n",
      "Epoch 92: saving model to models\\preDecomp_multivar_epoch_92.h5\n",
      "2155/2155 [==============================] - 14s 6ms/step - loss: 0.4990 - mae: 0.4540 - rmse: 0.7064 - mse: 0.4990 - val_loss: 0.4743 - val_mae: 0.4555 - val_rmse: 0.6887 - val_mse: 0.4743\n",
      "Epoch 93/100\n",
      "2154/2155 [============================>.] - ETA: 0s - loss: 0.4984 - mae: 0.4539 - rmse: 0.7060 - mse: 0.4984\n",
      "Epoch 93: saving model to models\\preDecomp_multivar_epoch_93.h5\n",
      "2155/2155 [==============================] - 15s 7ms/step - loss: 0.4984 - mae: 0.4539 - rmse: 0.7060 - mse: 0.4984 - val_loss: 0.4746 - val_mae: 0.4530 - val_rmse: 0.6889 - val_mse: 0.4746\n",
      "Epoch 94/100\n",
      "2150/2155 [============================>.] - ETA: 0s - loss: 0.4988 - mae: 0.4538 - rmse: 0.7063 - mse: 0.4988\n",
      "Epoch 94: saving model to models\\preDecomp_multivar_epoch_94.h5\n",
      "2155/2155 [==============================] - 15s 7ms/step - loss: 0.4985 - mae: 0.4538 - rmse: 0.7060 - mse: 0.4985 - val_loss: 0.4741 - val_mae: 0.4520 - val_rmse: 0.6886 - val_mse: 0.4741\n",
      "Epoch 95/100\n",
      "2155/2155 [==============================] - ETA: 0s - loss: 0.4987 - mae: 0.4538 - rmse: 0.7062 - mse: 0.4987\n",
      "Epoch 95: saving model to models\\preDecomp_multivar_epoch_95.h5\n",
      "2155/2155 [==============================] - 14s 7ms/step - loss: 0.4987 - mae: 0.4538 - rmse: 0.7062 - mse: 0.4987 - val_loss: 0.4755 - val_mae: 0.4565 - val_rmse: 0.6896 - val_mse: 0.4755\n",
      "Epoch 96/100\n",
      "2150/2155 [============================>.] - ETA: 0s - loss: 0.4990 - mae: 0.4541 - rmse: 0.7064 - mse: 0.4990\n",
      "Epoch 96: saving model to models\\preDecomp_multivar_epoch_96.h5\n",
      "2155/2155 [==============================] - 14s 7ms/step - loss: 0.4987 - mae: 0.4541 - rmse: 0.7062 - mse: 0.4987 - val_loss: 0.4755 - val_mae: 0.4560 - val_rmse: 0.6896 - val_mse: 0.4755\n",
      "Epoch 97/100\n",
      "2150/2155 [============================>.] - ETA: 0s - loss: 0.4989 - mae: 0.4541 - rmse: 0.7063 - mse: 0.4989\n",
      "Epoch 97: saving model to models\\preDecomp_multivar_epoch_97.h5\n",
      "2155/2155 [==============================] - 14s 7ms/step - loss: 0.4988 - mae: 0.4541 - rmse: 0.7062 - mse: 0.4988 - val_loss: 0.4754 - val_mae: 0.4559 - val_rmse: 0.6895 - val_mse: 0.4754\n",
      "Epoch 98/100\n",
      "2150/2155 [============================>.] - ETA: 0s - loss: 0.4995 - mae: 0.4543 - rmse: 0.7067 - mse: 0.4995\n",
      "Epoch 98: saving model to models\\preDecomp_multivar_epoch_98.h5\n",
      "2155/2155 [==============================] - 15s 7ms/step - loss: 0.4991 - mae: 0.4542 - rmse: 0.7065 - mse: 0.4991 - val_loss: 0.4756 - val_mae: 0.4575 - val_rmse: 0.6896 - val_mse: 0.4756\n",
      "Epoch 99/100\n",
      "2148/2155 [============================>.] - ETA: 0s - loss: 0.4992 - mae: 0.4541 - rmse: 0.7065 - mse: 0.4992\n",
      "Epoch 99: saving model to models\\preDecomp_multivar_epoch_99.h5\n",
      "2155/2155 [==============================] - 15s 7ms/step - loss: 0.4989 - mae: 0.4542 - rmse: 0.7063 - mse: 0.4989 - val_loss: 0.4752 - val_mae: 0.4535 - val_rmse: 0.6893 - val_mse: 0.4752\n",
      "Epoch 100/100\n",
      "2153/2155 [============================>.] - ETA: 0s - loss: 0.4993 - mae: 0.4544 - rmse: 0.7066 - mse: 0.4993\n",
      "Epoch 100: saving model to models\\preDecomp_multivar_epoch_100.h5\n",
      "2155/2155 [==============================] - 15s 7ms/step - loss: 0.4992 - mae: 0.4544 - rmse: 0.7065 - mse: 0.4992 - val_loss: 0.4752 - val_mae: 0.4549 - val_rmse: 0.6894 - val_mse: 0.4752\n",
      "719/719 [==============================] - 2s 2ms/step - loss: 0.5900 - mae: 0.4591 - rmse: 0.7681 - mse: 0.5900\n",
      "Test RMSE = 0.77   |   MAE = 0.46\n"
     ]
    }
   ],
   "source": [
    "#  Create a checkpoint callback\n",
    "ckpt = tf.keras.callbacks.ModelCheckpoint(\n",
    "    filepath='models/preDecomp_multivar_epoch_{epoch:02d}.h5',\n",
    "    save_freq='epoch',                        # save after each epoch\n",
    "    save_weights_only=False,                  # save the entire model (architecture + weights + optimizer state)\n",
    "    verbose=1)\n",
    "\n",
    "history_before = model_before.fit(\n",
    "    ds_train_before,\n",
    "    epochs=100,\n",
    "    # Validation is used to determine if model is overfitting\n",
    "    validation_data=ds_val_before,\n",
    "    callbacks=[ckpt],\n",
    "    verbose=1\n",
    ")\n",
    "\n",
    "results = model_before.evaluate(ds_test_before, return_dict=True)\n",
    "print(f\"Test RMSE = {results['rmse']:.2f}   |   MAE = {results['mae']:.2f}\")"
   ]
  },
  {
   "cell_type": "code",
   "execution_count": 32,
   "id": "aPhIh3THUT5I",
   "metadata": {
    "colab": {
     "base_uri": "https://localhost:8080/"
    },
    "id": "aPhIh3THUT5I",
    "outputId": "ba185ed0-e338-492d-db9f-c78820c321c8"
   },
   "outputs": [
    {
     "name": "stdout",
     "output_type": "stream",
     "text": [
      "Test MSE  = 1520.90 (mg/dL)^2\n",
      "Test RMSE = 39.00 mg/dL\n",
      "Test MAE  = 23.31 mg/dL\n",
      "Test R^2 = 0.0096\n"
     ]
    }
   ],
   "source": [
    "y_pred_z = model_before.predict(ds_test_before, verbose=0).ravel()   # z-scores\n",
    "y_true_z = y_test_before\n",
    "\n",
    "# inverse-transform back to mg/dL\n",
    "y_pred_before = y_pred_z * std_glu_before + mu_glu_before\n",
    "y_true_before = y_true_z * std_glu_before + mu_glu_before\n",
    "\n",
    "# metrics in true units\n",
    "mse  = np.mean((y_true - y_pred) ** 2)    \n",
    "rmse = np.sqrt(mse)\n",
    "mae  = np.mean(np.abs(y_true - y_pred))\n",
    "r2 = r2_score(y_true, y_pred)\n",
    "\n",
    "print(f\"Test MSE  = {mse :.2f} (mg/dL)^2\")\n",
    "print(f\"Test RMSE = {rmse:.2f} mg/dL\")\n",
    "print(f\"Test MAE  = {mae :.2f} mg/dL\")\n",
    "print(f\"Test R^2  = {r2:.4f}\")"
   ]
  },
  {
   "cell_type": "markdown",
   "id": "886574b2",
   "metadata": {},
   "source": [
    "## Pre-Decompensation Classification Metrics\n",
    "\n",
    "Below we convert to classification metrics for the pre-decompensation model so we can compare to other models."
   ]
  },
  {
   "cell_type": "code",
   "execution_count": 44,
   "id": "f5035ff7",
   "metadata": {},
   "outputs": [],
   "source": [
    "def convert_categorical(y):\n",
    "    y_class = np.full((len(y)), \"unknown\", dtype='U10')\n",
    "    y_hypo_mask = y <= 70\n",
    "    y_hyper_mask = y >= 180\n",
    "    y_normal_mask = (y > 70) & (y < 180)\n",
    "    y_class[y_hypo_mask] = \"Hypo\"\n",
    "    y_class[y_hyper_mask] = \"Hyper\"\n",
    "    y_class[y_normal_mask] = \"Normal\"\n",
    "    return y_class"
   ]
  },
  {
   "cell_type": "code",
   "execution_count": 43,
   "id": "ef061b9d",
   "metadata": {},
   "outputs": [],
   "source": [
    "y_pred_z = model_before.predict(ds_test_before, verbose=0).ravel()   # z-scores\n",
    "y_true_z = y_test_before\n",
    "mu_glu_before, std_glu_before = SCALERS_BEFORE[1]          # index 1 is BG scale values\n",
    "\n",
    "# inverse-transform back to mg/dL\n",
    "y_pred = y_pred_z * std_glu_before + mu_glu_before\n",
    "y_true = y_true_z * std_glu_before + mu_glu_before"
   ]
  },
  {
   "cell_type": "code",
   "execution_count": 45,
   "id": "04f1948e",
   "metadata": {},
   "outputs": [],
   "source": [
    "y_pred_class = convert_categorical(y_pred)\n",
    "y_true_class = convert_categorical(y_true)"
   ]
  },
  {
   "cell_type": "code",
   "execution_count": 46,
   "id": "e14afd60",
   "metadata": {},
   "outputs": [],
   "source": [
    "le = LabelEncoder()\n",
    "y_true_encoded = le.fit_transform(y_true_class)  # e.g. 'Hypo'=0, 'Normal'=1, 'Hyper'=2\n",
    "y_pred_encoded = le.transform(y_pred_class)"
   ]
  },
  {
   "cell_type": "code",
   "execution_count": 47,
   "id": "6f161ccc",
   "metadata": {},
   "outputs": [
    {
     "name": "stdout",
     "output_type": "stream",
     "text": [
      "              precision    recall  f1-score   support\n",
      "\n",
      "       Hyper       0.14      0.00      0.00      2097\n",
      "        Hypo       0.00      0.00      0.00       557\n",
      "      Normal       0.94      1.00      0.97     43311\n",
      "\n",
      "    accuracy                           0.94     45965\n",
      "   macro avg       0.36      0.33      0.32     45965\n",
      "weighted avg       0.89      0.94      0.91     45965\n",
      "\n",
      "Confusion Matrix:\n",
      " [[    1     0  2096]\n",
      " [    0     0   557]\n",
      " [    6     0 43305]]\n"
     ]
    },
    {
     "name": "stderr",
     "output_type": "stream",
     "text": [
      "C:\\Users\\Mashal\\anaconda3\\lib\\site-packages\\sklearn\\metrics\\_classification.py:1318: UndefinedMetricWarning: Precision and F-score are ill-defined and being set to 0.0 in labels with no predicted samples. Use `zero_division` parameter to control this behavior.\n",
      "  _warn_prf(average, modifier, msg_start, len(result))\n",
      "C:\\Users\\Mashal\\anaconda3\\lib\\site-packages\\sklearn\\metrics\\_classification.py:1318: UndefinedMetricWarning: Precision and F-score are ill-defined and being set to 0.0 in labels with no predicted samples. Use `zero_division` parameter to control this behavior.\n",
      "  _warn_prf(average, modifier, msg_start, len(result))\n",
      "C:\\Users\\Mashal\\anaconda3\\lib\\site-packages\\sklearn\\metrics\\_classification.py:1318: UndefinedMetricWarning: Precision and F-score are ill-defined and being set to 0.0 in labels with no predicted samples. Use `zero_division` parameter to control this behavior.\n",
      "  _warn_prf(average, modifier, msg_start, len(result))\n"
     ]
    }
   ],
   "source": [
    "# Full classification metrics\n",
    "print(classification_report(y_true_encoded, y_pred_encoded, target_names=le.classes_))\n",
    "\n",
    "# Confusion matrix\n",
    "cm = confusion_matrix(y_true_encoded, y_pred_encoded)\n",
    "print(\"Confusion Matrix:\\n\", cm)"
   ]
  },
  {
   "cell_type": "code",
   "execution_count": 48,
   "id": "c5e11bf2",
   "metadata": {},
   "outputs": [
    {
     "name": "stdout",
     "output_type": "stream",
     "text": [
      "Macro-average AUC-ROC: 0.5001\n"
     ]
    }
   ],
   "source": [
    "# One-hot encode\n",
    "y_true_bin = label_binarize(y_true_encoded, classes=[0,1,2])\n",
    "y_pred_bin = label_binarize(y_pred_encoded, classes=[0,1,2])\n",
    "\n",
    "# Macro-average AUC\n",
    "auc_macro = roc_auc_score(y_true_bin, y_pred_bin, average='macro', multi_class='ovo')\n",
    "print(f\"Macro-average AUC-ROC: {auc_macro:.4f}\")"
   ]
  },
  {
   "cell_type": "markdown",
   "id": "457ac8e0",
   "metadata": {},
   "source": [
    "### Pre-decompensation model extra testing\n",
    "\n",
    "Below we test the pre-decompensation model on the full dataset. The testing variables that are loaded via pickle are created by the \"Multivariate Resampled LSTM Model.ipynb\" file in the GitHub."
   ]
  },
  {
   "cell_type": "code",
   "execution_count": 80,
   "id": "44d9c5f2",
   "metadata": {},
   "outputs": [],
   "source": [
    "test_path = 'Pickles/filtered_glu_test.pkl.gz'\n",
    "with gzip.open(test_path, 'rb') as f:\n",
    "    test_data = pickle.load(f)\n",
    "\n",
    "X_test = test_data['X_test']\n",
    "y_test = test_data['y_test']\n",
    "\n",
    "train_path = 'Pickles/filtered_glu_train.pkl.gz'\n",
    "with gzip.open(train_path, 'rb') as f:\n",
    "    train_data = pickle.load(f)\n",
    "    \n",
    "SCALERS  = train_data['scalers']"
   ]
  },
  {
   "cell_type": "code",
   "execution_count": 82,
   "id": "4ae2d31e",
   "metadata": {},
   "outputs": [],
   "source": [
    "ds_test  = make_ds(X_test,  y_test,  shuffle=False)"
   ]
  },
  {
   "cell_type": "code",
   "execution_count": 83,
   "id": "a8340a86",
   "metadata": {},
   "outputs": [
    {
     "name": "stdout",
     "output_type": "stream",
     "text": [
      "Test MSE  = 2210.36 (mg/dL)^2\n",
      "Test RMSE = 47.01 mg/dL\n",
      "Test MAE  = 31.08 mg/dL\n",
      "Test R^2  = 0.0094\n"
     ]
    }
   ],
   "source": [
    "y_pred_z = model_before.predict(ds_test, verbose=0).ravel()   # z-scores\n",
    "y_true_z = y_test\n",
    "\n",
    "# inverse-transform back to mg/dL\n",
    "y_pred_all = y_pred_z * std_glu_before + mu_glu_before\n",
    "y_true_all= y_true_z * std_glu_before + mu_glu_before\n",
    "\n",
    "# metrics in true units\n",
    "mse  = np.mean((y_true_all - y_pred_all) ** 2)    \n",
    "rmse = np.sqrt(mse)\n",
    "mae  = np.mean(np.abs(y_true_all - y_pred_all))\n",
    "r2 = r2_score(y_true_all, y_pred_all)\n",
    "\n",
    "print(f\"Test MSE  = {mse :.2f} (mg/dL)^2\")\n",
    "print(f\"Test RMSE = {rmse:.2f} mg/dL\")\n",
    "print(f\"Test MAE  = {mae :.2f} mg/dL\")\n",
    "print(f\"Test R^2  = {r2:.4f}\")"
   ]
  },
  {
   "cell_type": "markdown",
   "id": "aee1f5b3",
   "metadata": {},
   "source": [
    "We can see this model performs much better than the multivariate model in \"Multivariate Resampled LSTM Model.ipynb\"."
   ]
  },
  {
   "cell_type": "markdown",
   "id": "2986ee9a",
   "metadata": {},
   "source": [
    "#### Classification Metrics"
   ]
  },
  {
   "cell_type": "code",
   "execution_count": 91,
   "id": "c96a5981",
   "metadata": {},
   "outputs": [
    {
     "name": "stdout",
     "output_type": "stream",
     "text": [
      "              precision    recall  f1-score   support\n",
      "\n",
      "       Hyper       0.46      0.00      0.00      9470\n",
      "        Hypo       0.00      0.00      0.00      1299\n",
      "      Normal       0.87      1.00      0.93     73994\n",
      "\n",
      "    accuracy                           0.87     84763\n",
      "   macro avg       0.44      0.33      0.31     84763\n",
      "weighted avg       0.81      0.87      0.81     84763\n",
      "\n",
      "Confusion Matrix:\n",
      " [[    6     0  9464]\n",
      " [    0     0  1299]\n",
      " [    7     1 73986]]\n",
      "\n",
      "Macro-average AUC-ROC: 0.5002\n"
     ]
    }
   ],
   "source": [
    "y_pred_class = convert_categorical(y_pred_all)\n",
    "y_true_class = convert_categorical(y_true_all)\n",
    "\n",
    "le = LabelEncoder()\n",
    "y_true_encoded = le.fit_transform(y_true_class)  # e.g. 'Hypo'=0, 'Normal'=1, 'Hyper'=2\n",
    "y_pred_encoded = le.transform(y_pred_class)\n",
    "\n",
    "# Full classification metrics\n",
    "print(classification_report(y_true_encoded, y_pred_encoded, target_names=le.classes_))\n",
    "\n",
    "# Confusion matrix\n",
    "cm = confusion_matrix(y_true_encoded, y_pred_encoded)\n",
    "print(\"Confusion Matrix:\\n\", cm)\n",
    "\n",
    "# One-hot encode\n",
    "y_true_bin = label_binarize(y_true_encoded, classes=[0,1,2])\n",
    "y_pred_bin = label_binarize(y_pred_encoded, classes=[0,1,2])\n",
    "\n",
    "# Macro-average AUC\n",
    "auc_macro = roc_auc_score(y_true_bin, y_pred_bin, average='macro', multi_class='ovo')\n",
    "print(f\"\\nMacro-average AUC-ROC: {auc_macro:.4f}\")"
   ]
  },
  {
   "cell_type": "markdown",
   "id": "b37443d9",
   "metadata": {},
   "source": [
    "# Post-decompensation LSTM model\n",
    "\n",
    "Below here we train a LSTM model using data from after a patient's first decompensation."
   ]
  },
  {
   "cell_type": "code",
   "execution_count": 40,
   "id": "24a678aa",
   "metadata": {
    "colab": {
     "base_uri": "https://localhost:8080/",
     "height": 267
    },
    "id": "27DSFKlALWUJ",
    "outputId": "7a85fc99-c884-4c41-82e2-f0248ab6c99e"
   },
   "outputs": [
    {
     "name": "stdout",
     "output_type": "stream",
     "text": [
      "Model: \"sequential_1\"\n",
      "_________________________________________________________________\n",
      " Layer (type)                Output Shape              Param #   \n",
      "=================================================================\n",
      " masking_1 (Masking)         (None, 6, 10)             0         \n",
      "                                                                 \n",
      " lstm_1 (LSTM)               (None, 64)                19200     \n",
      "                                                                 \n",
      " dense_2 (Dense)             (None, 32)                2080      \n",
      "                                                                 \n",
      " dense_3 (Dense)             (None, 1)                 33        \n",
      "                                                                 \n",
      "=================================================================\n",
      "Total params: 21,313\n",
      "Trainable params: 21,313\n",
      "Non-trainable params: 0\n",
      "_________________________________________________________________\n"
     ]
    }
   ],
   "source": [
    "model_after = tf.keras.Sequential([\n",
    "    tf.keras.layers.Masking(mask_value=SENTINEL, input_shape=(L, F)),\n",
    "    tf.keras.layers.LSTM(64),\n",
    "    # A dense layer here is necessary, as each hidden state output, which is\n",
    "    # the output of an LSTM unit is only within the range of a tanh activation function,\n",
    "    # so further transformation is needed\n",
    "    tf.keras.layers.Dense(32, activation='relu'),\n",
    "    tf.keras.layers.Dense(1)                   # regression\n",
    "])\n",
    "\n",
    "model_after.compile(loss='mse', optimizer='adam', metrics=['mae', RootMeanSquaredError(name='rmse'), 'mse'])\n",
    "model_after.summary()"
   ]
  },
  {
   "cell_type": "code",
   "execution_count": 57,
   "id": "0ed77c59",
   "metadata": {
    "colab": {
     "base_uri": "https://localhost:8080/"
    },
    "id": "yfy1ukOPLYTR",
    "outputId": "7e65fdc0-b857-4785-c00f-661b0207ed1c",
    "scrolled": true
   },
   "outputs": [
    {
     "name": "stdout",
     "output_type": "stream",
     "text": [
      "Epoch 1/100\n",
      "4536/4539 [============================>.] - ETA: 0s - loss: 0.8670 - mae: 0.6629 - rmse: 0.9311 - mse: 0.8670\n",
      "Epoch 1: saving model to models\\postDecomp_multivar_epoch_01.h5\n",
      "4539/4539 [==============================] - 61s 13ms/step - loss: 0.8669 - mae: 0.6629 - rmse: 0.9311 - mse: 0.8669 - val_loss: 0.8925 - val_mae: 0.6687 - val_rmse: 0.9447 - val_mse: 0.8925\n",
      "Epoch 2/100\n",
      "4537/4539 [============================>.] - ETA: 0s - loss: 0.8586 - mae: 0.6589 - rmse: 0.9266 - mse: 0.8586\n",
      "Epoch 2: saving model to models\\postDecomp_multivar_epoch_02.h5\n",
      "4539/4539 [==============================] - 62s 14ms/step - loss: 0.8586 - mae: 0.6589 - rmse: 0.9266 - mse: 0.8586 - val_loss: 0.8953 - val_mae: 0.6736 - val_rmse: 0.9462 - val_mse: 0.8953\n",
      "Epoch 3/100\n",
      "4537/4539 [============================>.] - ETA: 0s - loss: 0.8615 - mae: 0.6607 - rmse: 0.9282 - mse: 0.8615\n",
      "Epoch 3: saving model to models\\postDecomp_multivar_epoch_03.h5\n",
      "4539/4539 [==============================] - 56s 12ms/step - loss: 0.8615 - mae: 0.6607 - rmse: 0.9282 - mse: 0.8615 - val_loss: 0.9036 - val_mae: 0.6762 - val_rmse: 0.9506 - val_mse: 0.9036\n",
      "Epoch 4/100\n",
      "4537/4539 [============================>.] - ETA: 0s - loss: 0.8562 - mae: 0.6579 - rmse: 0.9253 - mse: 0.8562\n",
      "Epoch 4: saving model to models\\postDecomp_multivar_epoch_04.h5\n",
      "4539/4539 [==============================] - 62s 14ms/step - loss: 0.8562 - mae: 0.6579 - rmse: 0.9253 - mse: 0.8562 - val_loss: 0.8893 - val_mae: 0.6556 - val_rmse: 0.9430 - val_mse: 0.8893\n",
      "Epoch 5/100\n",
      "4538/4539 [============================>.] - ETA: 0s - loss: 0.8531 - mae: 0.6564 - rmse: 0.9236 - mse: 0.8531\n",
      "Epoch 5: saving model to models\\postDecomp_multivar_epoch_05.h5\n",
      "4539/4539 [==============================] - 59s 13ms/step - loss: 0.8531 - mae: 0.6564 - rmse: 0.9236 - mse: 0.8531 - val_loss: 0.8888 - val_mae: 0.6700 - val_rmse: 0.9428 - val_mse: 0.8888\n",
      "Epoch 6/100\n",
      "4538/4539 [============================>.] - ETA: 0s - loss: 0.8545 - mae: 0.6573 - rmse: 0.9244 - mse: 0.8545\n",
      "Epoch 6: saving model to models\\postDecomp_multivar_epoch_06.h5\n",
      "4539/4539 [==============================] - 55s 12ms/step - loss: 0.8544 - mae: 0.6573 - rmse: 0.9244 - mse: 0.8544 - val_loss: 0.8902 - val_mae: 0.6591 - val_rmse: 0.9435 - val_mse: 0.8902\n",
      "Epoch 7/100\n",
      "4536/4539 [============================>.] - ETA: 0s - loss: 0.8571 - mae: 0.6581 - rmse: 0.9258 - mse: 0.8571\n",
      "Epoch 7: saving model to models\\postDecomp_multivar_epoch_07.h5\n",
      "4539/4539 [==============================] - 64s 14ms/step - loss: 0.8571 - mae: 0.6581 - rmse: 0.9258 - mse: 0.8571 - val_loss: 0.9023 - val_mae: 0.6655 - val_rmse: 0.9499 - val_mse: 0.9023\n",
      "Epoch 8/100\n",
      "4535/4539 [============================>.] - ETA: 0s - loss: 0.8641 - mae: 0.6621 - rmse: 0.9296 - mse: 0.8641\n",
      "Epoch 8: saving model to models\\postDecomp_multivar_epoch_08.h5\n",
      "4539/4539 [==============================] - 59s 13ms/step - loss: 0.8641 - mae: 0.6621 - rmse: 0.9296 - mse: 0.8641 - val_loss: 0.9008 - val_mae: 0.6761 - val_rmse: 0.9491 - val_mse: 0.9008\n",
      "Epoch 9/100\n",
      "4536/4539 [============================>.] - ETA: 0s - loss: 0.8544 - mae: 0.6568 - rmse: 0.9243 - mse: 0.8544\n",
      "Epoch 9: saving model to models\\postDecomp_multivar_epoch_09.h5\n",
      "4539/4539 [==============================] - 59s 13ms/step - loss: 0.8543 - mae: 0.6568 - rmse: 0.9243 - mse: 0.8543 - val_loss: 0.8892 - val_mae: 0.6607 - val_rmse: 0.9430 - val_mse: 0.8892\n",
      "Epoch 10/100\n",
      "4535/4539 [============================>.] - ETA: 0s - loss: 0.8523 - mae: 0.6559 - rmse: 0.9232 - mse: 0.8523\n",
      "Epoch 10: saving model to models\\postDecomp_multivar_epoch_10.h5\n",
      "4539/4539 [==============================] - 59s 13ms/step - loss: 0.8522 - mae: 0.6559 - rmse: 0.9231 - mse: 0.8522 - val_loss: 0.8901 - val_mae: 0.6673 - val_rmse: 0.9435 - val_mse: 0.8901\n",
      "Epoch 11/100\n",
      "4536/4539 [============================>.] - ETA: 0s - loss: 0.8532 - mae: 0.6564 - rmse: 0.9237 - mse: 0.8532\n",
      "Epoch 11: saving model to models\\postDecomp_multivar_epoch_11.h5\n",
      "4539/4539 [==============================] - 58s 13ms/step - loss: 0.8532 - mae: 0.6564 - rmse: 0.9237 - mse: 0.8532 - val_loss: 0.8928 - val_mae: 0.6639 - val_rmse: 0.9449 - val_mse: 0.8928\n",
      "Epoch 12/100\n",
      "4538/4539 [============================>.] - ETA: 0s - loss: 0.8518 - mae: 0.6561 - rmse: 0.9229 - mse: 0.8518\n",
      "Epoch 12: saving model to models\\postDecomp_multivar_epoch_12.h5\n",
      "4539/4539 [==============================] - 60s 13ms/step - loss: 0.8518 - mae: 0.6561 - rmse: 0.9229 - mse: 0.8518 - val_loss: 0.8909 - val_mae: 0.6666 - val_rmse: 0.9439 - val_mse: 0.8909\n",
      "Epoch 13/100\n",
      "4535/4539 [============================>.] - ETA: 0s - loss: 0.8479 - mae: 0.6537 - rmse: 0.9208 - mse: 0.8479\n",
      "Epoch 13: saving model to models\\postDecomp_multivar_epoch_13.h5\n",
      "4539/4539 [==============================] - 60s 13ms/step - loss: 0.8481 - mae: 0.6537 - rmse: 0.9209 - mse: 0.8481 - val_loss: 0.8835 - val_mae: 0.6646 - val_rmse: 0.9399 - val_mse: 0.8835\n",
      "Epoch 14/100\n",
      "4536/4539 [============================>.] - ETA: 0s - loss: 0.8461 - mae: 0.6524 - rmse: 0.9199 - mse: 0.8461\n",
      "Epoch 14: saving model to models\\postDecomp_multivar_epoch_14.h5\n",
      "4539/4539 [==============================] - 59s 13ms/step - loss: 0.8462 - mae: 0.6524 - rmse: 0.9199 - mse: 0.8462 - val_loss: 0.8835 - val_mae: 0.6651 - val_rmse: 0.9399 - val_mse: 0.8835\n",
      "Epoch 15/100\n",
      "4537/4539 [============================>.] - ETA: 0s - loss: 0.8470 - mae: 0.6531 - rmse: 0.9203 - mse: 0.8470\n",
      "Epoch 15: saving model to models\\postDecomp_multivar_epoch_15.h5\n",
      "4539/4539 [==============================] - 60s 13ms/step - loss: 0.8469 - mae: 0.6531 - rmse: 0.9203 - mse: 0.8469 - val_loss: 0.8833 - val_mae: 0.6666 - val_rmse: 0.9398 - val_mse: 0.8833\n",
      "Epoch 16/100\n",
      "4535/4539 [============================>.] - ETA: 0s - loss: 0.8457 - mae: 0.6521 - rmse: 0.9196 - mse: 0.8457\n",
      "Epoch 16: saving model to models\\postDecomp_multivar_epoch_16.h5\n",
      "4539/4539 [==============================] - 60s 13ms/step - loss: 0.8456 - mae: 0.6520 - rmse: 0.9196 - mse: 0.8456 - val_loss: 0.8818 - val_mae: 0.6594 - val_rmse: 0.9391 - val_mse: 0.8818\n",
      "Epoch 17/100\n",
      "4538/4539 [============================>.] - ETA: 0s - loss: 0.8446 - mae: 0.6515 - rmse: 0.9190 - mse: 0.8446\n",
      "Epoch 17: saving model to models\\postDecomp_multivar_epoch_17.h5\n",
      "4539/4539 [==============================] - 60s 13ms/step - loss: 0.8446 - mae: 0.6515 - rmse: 0.9190 - mse: 0.8446 - val_loss: 0.8890 - val_mae: 0.6493 - val_rmse: 0.9429 - val_mse: 0.8890\n",
      "Epoch 18/100\n",
      "4537/4539 [============================>.] - ETA: 0s - loss: 0.8439 - mae: 0.6514 - rmse: 0.9187 - mse: 0.8439\n",
      "Epoch 18: saving model to models\\postDecomp_multivar_epoch_18.h5\n",
      "4539/4539 [==============================] - 60s 13ms/step - loss: 0.8440 - mae: 0.6514 - rmse: 0.9187 - mse: 0.8440 - val_loss: 0.8817 - val_mae: 0.6659 - val_rmse: 0.9390 - val_mse: 0.8817\n",
      "Epoch 19/100\n",
      "4537/4539 [============================>.] - ETA: 0s - loss: 0.8447 - mae: 0.6517 - rmse: 0.9191 - mse: 0.8447\n",
      "Epoch 19: saving model to models\\postDecomp_multivar_epoch_19.h5\n",
      "4539/4539 [==============================] - 60s 13ms/step - loss: 0.8447 - mae: 0.6518 - rmse: 0.9191 - mse: 0.8447 - val_loss: 0.8840 - val_mae: 0.6655 - val_rmse: 0.9402 - val_mse: 0.8840\n",
      "Epoch 20/100\n",
      "4536/4539 [============================>.] - ETA: 0s - loss: 0.8482 - mae: 0.6541 - rmse: 0.9210 - mse: 0.8482\n",
      "Epoch 20: saving model to models\\postDecomp_multivar_epoch_20.h5\n",
      "4539/4539 [==============================] - 135s 30ms/step - loss: 0.8485 - mae: 0.6541 - rmse: 0.9212 - mse: 0.8485 - val_loss: 0.8898 - val_mae: 0.6669 - val_rmse: 0.9433 - val_mse: 0.8898\n",
      "Epoch 21/100\n",
      "4537/4539 [============================>.] - ETA: 0s - loss: 0.8523 - mae: 0.6560 - rmse: 0.9232 - mse: 0.8523\n",
      "Epoch 21: saving model to models\\postDecomp_multivar_epoch_21.h5\n",
      "4539/4539 [==============================] - 67s 15ms/step - loss: 0.8523 - mae: 0.6560 - rmse: 0.9232 - mse: 0.8523 - val_loss: 0.8908 - val_mae: 0.6633 - val_rmse: 0.9438 - val_mse: 0.8908\n",
      "Epoch 22/100\n",
      "4537/4539 [============================>.] - ETA: 0s - loss: 0.8513 - mae: 0.6558 - rmse: 0.9226 - mse: 0.8513\n",
      "Epoch 22: saving model to models\\postDecomp_multivar_epoch_22.h5\n",
      "4539/4539 [==============================] - 61s 13ms/step - loss: 0.8513 - mae: 0.6558 - rmse: 0.9227 - mse: 0.8513 - val_loss: 0.8875 - val_mae: 0.6644 - val_rmse: 0.9421 - val_mse: 0.8875\n"
     ]
    },
    {
     "name": "stdout",
     "output_type": "stream",
     "text": [
      "Epoch 23/100\n",
      "4535/4539 [============================>.] - ETA: 0s - loss: 0.8483 - mae: 0.6546 - rmse: 0.9210 - mse: 0.8483\n",
      "Epoch 23: saving model to models\\postDecomp_multivar_epoch_23.h5\n",
      "4539/4539 [==============================] - 60s 13ms/step - loss: 0.8483 - mae: 0.6545 - rmse: 0.9210 - mse: 0.8483 - val_loss: 0.8878 - val_mae: 0.6654 - val_rmse: 0.9422 - val_mse: 0.8878\n",
      "Epoch 24/100\n",
      "4535/4539 [============================>.] - ETA: 0s - loss: 0.8480 - mae: 0.6542 - rmse: 0.9209 - mse: 0.8480\n",
      "Epoch 24: saving model to models\\postDecomp_multivar_epoch_24.h5\n",
      "4539/4539 [==============================] - 61s 13ms/step - loss: 0.8482 - mae: 0.6543 - rmse: 0.9210 - mse: 0.8482 - val_loss: 0.8869 - val_mae: 0.6613 - val_rmse: 0.9418 - val_mse: 0.8869\n",
      "Epoch 25/100\n",
      "4537/4539 [============================>.] - ETA: 0s - loss: 0.8485 - mae: 0.6543 - rmse: 0.9212 - mse: 0.8485\n",
      "Epoch 25: saving model to models\\postDecomp_multivar_epoch_25.h5\n",
      "4539/4539 [==============================] - 61s 13ms/step - loss: 0.8485 - mae: 0.6543 - rmse: 0.9211 - mse: 0.8485 - val_loss: 0.8886 - val_mae: 0.6582 - val_rmse: 0.9426 - val_mse: 0.8886\n",
      "Epoch 26/100\n",
      "4537/4539 [============================>.] - ETA: 0s - loss: 0.8482 - mae: 0.6541 - rmse: 0.9210 - mse: 0.8482\n",
      "Epoch 26: saving model to models\\postDecomp_multivar_epoch_26.h5\n",
      "4539/4539 [==============================] - 62s 14ms/step - loss: 0.8480 - mae: 0.6541 - rmse: 0.9209 - mse: 0.8480 - val_loss: 0.8855 - val_mae: 0.6635 - val_rmse: 0.9410 - val_mse: 0.8855\n",
      "Epoch 27/100\n",
      "4536/4539 [============================>.] - ETA: 0s - loss: 0.8479 - mae: 0.6541 - rmse: 0.9208 - mse: 0.8479\n",
      "Epoch 27: saving model to models\\postDecomp_multivar_epoch_27.h5\n",
      "4539/4539 [==============================] - 62s 14ms/step - loss: 0.8478 - mae: 0.6541 - rmse: 0.9208 - mse: 0.8478 - val_loss: 0.8881 - val_mae: 0.6615 - val_rmse: 0.9424 - val_mse: 0.8881\n",
      "Epoch 28/100\n",
      "4535/4539 [============================>.] - ETA: 0s - loss: 0.8480 - mae: 0.6542 - rmse: 0.9209 - mse: 0.8480\n",
      "Epoch 28: saving model to models\\postDecomp_multivar_epoch_28.h5\n",
      "4539/4539 [==============================] - 63s 14ms/step - loss: 0.8481 - mae: 0.6542 - rmse: 0.9209 - mse: 0.8481 - val_loss: 0.8897 - val_mae: 0.6585 - val_rmse: 0.9433 - val_mse: 0.8897\n",
      "Epoch 29/100\n",
      "4536/4539 [============================>.] - ETA: 0s - loss: 0.8493 - mae: 0.6552 - rmse: 0.9216 - mse: 0.8493\n",
      "Epoch 29: saving model to models\\postDecomp_multivar_epoch_29.h5\n",
      "4539/4539 [==============================] - 63s 14ms/step - loss: 0.8494 - mae: 0.6552 - rmse: 0.9216 - mse: 0.8494 - val_loss: 0.8883 - val_mae: 0.6671 - val_rmse: 0.9425 - val_mse: 0.8883\n",
      "Epoch 30/100\n",
      "4537/4539 [============================>.] - ETA: 0s - loss: 0.8476 - mae: 0.6536 - rmse: 0.9207 - mse: 0.8476\n",
      "Epoch 30: saving model to models\\postDecomp_multivar_epoch_30.h5\n",
      "4539/4539 [==============================] - 63s 14ms/step - loss: 0.8477 - mae: 0.6536 - rmse: 0.9207 - mse: 0.8477 - val_loss: 0.8913 - val_mae: 0.6563 - val_rmse: 0.9441 - val_mse: 0.8913\n",
      "Epoch 31/100\n",
      "4535/4539 [============================>.] - ETA: 0s - loss: 0.8460 - mae: 0.6534 - rmse: 0.9198 - mse: 0.8460\n",
      "Epoch 31: saving model to models\\postDecomp_multivar_epoch_31.h5\n",
      "4539/4539 [==============================] - 64s 14ms/step - loss: 0.8474 - mae: 0.6535 - rmse: 0.9205 - mse: 0.8474 - val_loss: 0.8884 - val_mae: 0.6594 - val_rmse: 0.9425 - val_mse: 0.8884\n",
      "Epoch 32/100\n",
      "4536/4539 [============================>.] - ETA: 0s - loss: 0.8471 - mae: 0.6531 - rmse: 0.9204 - mse: 0.8471\n",
      "Epoch 32: saving model to models\\postDecomp_multivar_epoch_32.h5\n",
      "4539/4539 [==============================] - 64s 14ms/step - loss: 0.8471 - mae: 0.6531 - rmse: 0.9204 - mse: 0.8471 - val_loss: 0.8868 - val_mae: 0.6580 - val_rmse: 0.9417 - val_mse: 0.8868\n",
      "Epoch 33/100\n",
      "4538/4539 [============================>.] - ETA: 0s - loss: 0.8460 - mae: 0.6527 - rmse: 0.9198 - mse: 0.8460\n",
      "Epoch 33: saving model to models\\postDecomp_multivar_epoch_33.h5\n",
      "4539/4539 [==============================] - 64s 14ms/step - loss: 0.8460 - mae: 0.6527 - rmse: 0.9198 - mse: 0.8460 - val_loss: 0.8845 - val_mae: 0.6630 - val_rmse: 0.9405 - val_mse: 0.8845\n",
      "Epoch 34/100\n",
      "4538/4539 [============================>.] - ETA: 0s - loss: 0.8455 - mae: 0.6523 - rmse: 0.9195 - mse: 0.8455\n",
      "Epoch 34: saving model to models\\postDecomp_multivar_epoch_34.h5\n",
      "4539/4539 [==============================] - 64s 14ms/step - loss: 0.8455 - mae: 0.6523 - rmse: 0.9195 - mse: 0.8455 - val_loss: 0.8893 - val_mae: 0.6544 - val_rmse: 0.9430 - val_mse: 0.8893\n",
      "Epoch 35/100\n",
      "4536/4539 [============================>.] - ETA: 0s - loss: 0.8470 - mae: 0.6530 - rmse: 0.9203 - mse: 0.8470\n",
      "Epoch 35: saving model to models\\postDecomp_multivar_epoch_35.h5\n",
      "4539/4539 [==============================] - 64s 14ms/step - loss: 0.8470 - mae: 0.6530 - rmse: 0.9203 - mse: 0.8470 - val_loss: 0.8871 - val_mae: 0.6580 - val_rmse: 0.9419 - val_mse: 0.8871\n",
      "Epoch 36/100\n",
      "4537/4539 [============================>.] - ETA: 0s - loss: 0.8467 - mae: 0.6526 - rmse: 0.9202 - mse: 0.8467\n",
      "Epoch 36: saving model to models\\postDecomp_multivar_epoch_36.h5\n",
      "4539/4539 [==============================] - 64s 14ms/step - loss: 0.8467 - mae: 0.6526 - rmse: 0.9201 - mse: 0.8467 - val_loss: 0.8877 - val_mae: 0.6636 - val_rmse: 0.9422 - val_mse: 0.8877\n",
      "Epoch 37/100\n",
      "4536/4539 [============================>.] - ETA: 0s - loss: 0.8472 - mae: 0.6532 - rmse: 0.9204 - mse: 0.8472\n",
      "Epoch 37: saving model to models\\postDecomp_multivar_epoch_37.h5\n",
      "4539/4539 [==============================] - 64s 14ms/step - loss: 0.8471 - mae: 0.6532 - rmse: 0.9204 - mse: 0.8471 - val_loss: 0.8861 - val_mae: 0.6617 - val_rmse: 0.9413 - val_mse: 0.8861\n",
      "Epoch 38/100\n",
      "4535/4539 [============================>.] - ETA: 0s - loss: 0.8458 - mae: 0.6525 - rmse: 0.9197 - mse: 0.8458\n",
      "Epoch 38: saving model to models\\postDecomp_multivar_epoch_38.h5\n",
      "4539/4539 [==============================] - 64s 14ms/step - loss: 0.8459 - mae: 0.6525 - rmse: 0.9197 - mse: 0.8459 - val_loss: 0.8864 - val_mae: 0.6654 - val_rmse: 0.9415 - val_mse: 0.8864\n",
      "Epoch 39/100\n",
      "4536/4539 [============================>.] - ETA: 0s - loss: 0.8462 - mae: 0.6528 - rmse: 0.9199 - mse: 0.8462\n",
      "Epoch 39: saving model to models\\postDecomp_multivar_epoch_39.h5\n",
      "4539/4539 [==============================] - 64s 14ms/step - loss: 0.8463 - mae: 0.6528 - rmse: 0.9200 - mse: 0.8463 - val_loss: 0.8871 - val_mae: 0.6567 - val_rmse: 0.9419 - val_mse: 0.8871\n",
      "Epoch 40/100\n",
      "4536/4539 [============================>.] - ETA: 0s - loss: 0.8459 - mae: 0.6524 - rmse: 0.9197 - mse: 0.8459\n",
      "Epoch 40: saving model to models\\postDecomp_multivar_epoch_40.h5\n",
      "4539/4539 [==============================] - 64s 14ms/step - loss: 0.8458 - mae: 0.6523 - rmse: 0.9197 - mse: 0.8458 - val_loss: 0.8874 - val_mae: 0.6547 - val_rmse: 0.9420 - val_mse: 0.8874\n",
      "Epoch 41/100\n",
      "4536/4539 [============================>.] - ETA: 0s - loss: 0.8447 - mae: 0.6521 - rmse: 0.9191 - mse: 0.8447\n",
      "Epoch 41: saving model to models\\postDecomp_multivar_epoch_41.h5\n",
      "4539/4539 [==============================] - 64s 14ms/step - loss: 0.8447 - mae: 0.6521 - rmse: 0.9191 - mse: 0.8447 - val_loss: 0.8826 - val_mae: 0.6609 - val_rmse: 0.9395 - val_mse: 0.8826\n",
      "Epoch 42/100\n",
      "4538/4539 [============================>.] - ETA: 0s - loss: 0.8437 - mae: 0.6514 - rmse: 0.9185 - mse: 0.8437\n",
      "Epoch 42: saving model to models\\postDecomp_multivar_epoch_42.h5\n",
      "4539/4539 [==============================] - 64s 14ms/step - loss: 0.8437 - mae: 0.6514 - rmse: 0.9185 - mse: 0.8437 - val_loss: 0.8861 - val_mae: 0.6538 - val_rmse: 0.9413 - val_mse: 0.8861\n",
      "Epoch 43/100\n",
      "4535/4539 [============================>.] - ETA: 0s - loss: 0.8431 - mae: 0.6513 - rmse: 0.9182 - mse: 0.8431\n",
      "Epoch 43: saving model to models\\postDecomp_multivar_epoch_43.h5\n",
      "4539/4539 [==============================] - 64s 14ms/step - loss: 0.8431 - mae: 0.6514 - rmse: 0.9182 - mse: 0.8431 - val_loss: 0.8832 - val_mae: 0.6594 - val_rmse: 0.9398 - val_mse: 0.8832\n",
      "Epoch 44/100\n",
      "4537/4539 [============================>.] - ETA: 0s - loss: 0.8437 - mae: 0.6517 - rmse: 0.9186 - mse: 0.8437\n",
      "Epoch 44: saving model to models\\postDecomp_multivar_epoch_44.h5\n",
      "4539/4539 [==============================] - 64s 14ms/step - loss: 0.8437 - mae: 0.6517 - rmse: 0.9185 - mse: 0.8437 - val_loss: 0.8843 - val_mae: 0.6622 - val_rmse: 0.9404 - val_mse: 0.8843\n"
     ]
    },
    {
     "name": "stdout",
     "output_type": "stream",
     "text": [
      "Epoch 45/100\n",
      "4536/4539 [============================>.] - ETA: 0s - loss: 0.8446 - mae: 0.6519 - rmse: 0.9190 - mse: 0.8446\n",
      "Epoch 45: saving model to models\\postDecomp_multivar_epoch_45.h5\n",
      "4539/4539 [==============================] - 64s 14ms/step - loss: 0.8446 - mae: 0.6519 - rmse: 0.9190 - mse: 0.8446 - val_loss: 0.8840 - val_mae: 0.6580 - val_rmse: 0.9402 - val_mse: 0.8840\n",
      "Epoch 46/100\n",
      "4535/4539 [============================>.] - ETA: 0s - loss: 0.8436 - mae: 0.6515 - rmse: 0.9185 - mse: 0.8436\n",
      "Epoch 46: saving model to models\\postDecomp_multivar_epoch_46.h5\n",
      "4539/4539 [==============================] - 64s 14ms/step - loss: 0.8436 - mae: 0.6515 - rmse: 0.9185 - mse: 0.8436 - val_loss: 0.8830 - val_mae: 0.6572 - val_rmse: 0.9397 - val_mse: 0.8830\n",
      "Epoch 47/100\n",
      "4535/4539 [============================>.] - ETA: 0s - loss: 0.8428 - mae: 0.6508 - rmse: 0.9181 - mse: 0.8428\n",
      "Epoch 47: saving model to models\\postDecomp_multivar_epoch_47.h5\n",
      "4539/4539 [==============================] - 64s 14ms/step - loss: 0.8428 - mae: 0.6508 - rmse: 0.9180 - mse: 0.8428 - val_loss: 0.8838 - val_mae: 0.6709 - val_rmse: 0.9401 - val_mse: 0.8838\n",
      "Epoch 48/100\n",
      "4538/4539 [============================>.] - ETA: 0s - loss: 0.8440 - mae: 0.6518 - rmse: 0.9187 - mse: 0.8440\n",
      "Epoch 48: saving model to models\\postDecomp_multivar_epoch_48.h5\n",
      "4539/4539 [==============================] - 64s 14ms/step - loss: 0.8440 - mae: 0.6518 - rmse: 0.9187 - mse: 0.8440 - val_loss: 0.8885 - val_mae: 0.6635 - val_rmse: 0.9426 - val_mse: 0.8885\n",
      "Epoch 49/100\n",
      "4537/4539 [============================>.] - ETA: 0s - loss: 0.8445 - mae: 0.6519 - rmse: 0.9190 - mse: 0.8445\n",
      "Epoch 49: saving model to models\\postDecomp_multivar_epoch_49.h5\n",
      "4539/4539 [==============================] - 64s 14ms/step - loss: 0.8445 - mae: 0.6519 - rmse: 0.9190 - mse: 0.8445 - val_loss: 0.8864 - val_mae: 0.6582 - val_rmse: 0.9415 - val_mse: 0.8864\n",
      "Epoch 50/100\n",
      "4535/4539 [============================>.] - ETA: 0s - loss: 0.8437 - mae: 0.6517 - rmse: 0.9186 - mse: 0.8437\n",
      "Epoch 50: saving model to models\\postDecomp_multivar_epoch_50.h5\n",
      "4539/4539 [==============================] - 64s 14ms/step - loss: 0.8437 - mae: 0.6517 - rmse: 0.9185 - mse: 0.8437 - val_loss: 0.8842 - val_mae: 0.6655 - val_rmse: 0.9403 - val_mse: 0.8842\n",
      "Epoch 51/100\n",
      "4535/4539 [============================>.] - ETA: 0s - loss: 0.8429 - mae: 0.6513 - rmse: 0.9181 - mse: 0.8429\n",
      "Epoch 51: saving model to models\\postDecomp_multivar_epoch_51.h5\n",
      "4539/4539 [==============================] - 64s 14ms/step - loss: 0.8430 - mae: 0.6513 - rmse: 0.9181 - mse: 0.8430 - val_loss: 0.8839 - val_mae: 0.6618 - val_rmse: 0.9402 - val_mse: 0.8839\n",
      "Epoch 52/100\n",
      "4535/4539 [============================>.] - ETA: 0s - loss: 0.8430 - mae: 0.6513 - rmse: 0.9182 - mse: 0.8430\n",
      "Epoch 52: saving model to models\\postDecomp_multivar_epoch_52.h5\n",
      "4539/4539 [==============================] - 64s 14ms/step - loss: 0.8430 - mae: 0.6513 - rmse: 0.9181 - mse: 0.8430 - val_loss: 0.8852 - val_mae: 0.6654 - val_rmse: 0.9409 - val_mse: 0.8852\n",
      "Epoch 53/100\n",
      "4538/4539 [============================>.] - ETA: 0s - loss: 0.8429 - mae: 0.6513 - rmse: 0.9181 - mse: 0.8429\n",
      "Epoch 53: saving model to models\\postDecomp_multivar_epoch_53.h5\n",
      "4539/4539 [==============================] - 64s 14ms/step - loss: 0.8429 - mae: 0.6513 - rmse: 0.9181 - mse: 0.8429 - val_loss: 0.8844 - val_mae: 0.6662 - val_rmse: 0.9404 - val_mse: 0.8844\n",
      "Epoch 54/100\n",
      "4535/4539 [============================>.] - ETA: 0s - loss: 0.8421 - mae: 0.6511 - rmse: 0.9177 - mse: 0.8421\n",
      "Epoch 54: saving model to models\\postDecomp_multivar_epoch_54.h5\n",
      "4539/4539 [==============================] - 64s 14ms/step - loss: 0.8423 - mae: 0.6512 - rmse: 0.9177 - mse: 0.8423 - val_loss: 0.8845 - val_mae: 0.6641 - val_rmse: 0.9405 - val_mse: 0.8845\n",
      "Epoch 55/100\n",
      "4535/4539 [============================>.] - ETA: 0s - loss: 0.8429 - mae: 0.6513 - rmse: 0.9181 - mse: 0.8429\n",
      "Epoch 55: saving model to models\\postDecomp_multivar_epoch_55.h5\n",
      "4539/4539 [==============================] - 64s 14ms/step - loss: 0.8432 - mae: 0.6514 - rmse: 0.9182 - mse: 0.8432 - val_loss: 0.8837 - val_mae: 0.6606 - val_rmse: 0.9400 - val_mse: 0.8837\n",
      "Epoch 56/100\n",
      "4536/4539 [============================>.] - ETA: 0s - loss: 0.8432 - mae: 0.6514 - rmse: 0.9183 - mse: 0.8432\n",
      "Epoch 56: saving model to models\\postDecomp_multivar_epoch_56.h5\n",
      "4539/4539 [==============================] - 64s 14ms/step - loss: 0.8434 - mae: 0.6515 - rmse: 0.9183 - mse: 0.8434 - val_loss: 0.8851 - val_mae: 0.6658 - val_rmse: 0.9408 - val_mse: 0.8851\n",
      "Epoch 57/100\n",
      "4535/4539 [============================>.] - ETA: 0s - loss: 0.8420 - mae: 0.6508 - rmse: 0.9176 - mse: 0.8420\n",
      "Epoch 57: saving model to models\\postDecomp_multivar_epoch_57.h5\n",
      "4539/4539 [==============================] - 64s 14ms/step - loss: 0.8419 - mae: 0.6508 - rmse: 0.9176 - mse: 0.8419 - val_loss: 0.8818 - val_mae: 0.6589 - val_rmse: 0.9391 - val_mse: 0.8818\n",
      "Epoch 58/100\n",
      "4538/4539 [============================>.] - ETA: 0s - loss: 0.8414 - mae: 0.6504 - rmse: 0.9173 - mse: 0.8414\n",
      "Epoch 58: saving model to models\\postDecomp_multivar_epoch_58.h5\n",
      "4539/4539 [==============================] - 64s 14ms/step - loss: 0.8414 - mae: 0.6504 - rmse: 0.9173 - mse: 0.8414 - val_loss: 0.8824 - val_mae: 0.6617 - val_rmse: 0.9394 - val_mse: 0.8824\n",
      "Epoch 59/100\n",
      "4538/4539 [============================>.] - ETA: 0s - loss: 0.8422 - mae: 0.6508 - rmse: 0.9177 - mse: 0.8422\n",
      "Epoch 59: saving model to models\\postDecomp_multivar_epoch_59.h5\n",
      "4539/4539 [==============================] - 64s 14ms/step - loss: 0.8422 - mae: 0.6509 - rmse: 0.9177 - mse: 0.8422 - val_loss: 0.8840 - val_mae: 0.6571 - val_rmse: 0.9402 - val_mse: 0.8840\n",
      "Epoch 60/100\n",
      "4536/4539 [============================>.] - ETA: 0s - loss: 0.8429 - mae: 0.6512 - rmse: 0.9181 - mse: 0.8429\n",
      "Epoch 60: saving model to models\\postDecomp_multivar_epoch_60.h5\n",
      "4539/4539 [==============================] - 64s 14ms/step - loss: 0.8429 - mae: 0.6512 - rmse: 0.9181 - mse: 0.8429 - val_loss: 0.8824 - val_mae: 0.6603 - val_rmse: 0.9394 - val_mse: 0.8824\n",
      "Epoch 61/100\n",
      "4535/4539 [============================>.] - ETA: 0s - loss: 0.8413 - mae: 0.6505 - rmse: 0.9172 - mse: 0.8413\n",
      "Epoch 61: saving model to models\\postDecomp_multivar_epoch_61.h5\n",
      "4539/4539 [==============================] - 64s 14ms/step - loss: 0.8414 - mae: 0.6506 - rmse: 0.9173 - mse: 0.8414 - val_loss: 0.8860 - val_mae: 0.6746 - val_rmse: 0.9413 - val_mse: 0.8860\n",
      "Epoch 62/100\n",
      "4536/4539 [============================>.] - ETA: 0s - loss: 0.8416 - mae: 0.6504 - rmse: 0.9174 - mse: 0.8416\n",
      "Epoch 62: saving model to models\\postDecomp_multivar_epoch_62.h5\n",
      "4539/4539 [==============================] - 64s 14ms/step - loss: 0.8415 - mae: 0.6504 - rmse: 0.9173 - mse: 0.8415 - val_loss: 0.8840 - val_mae: 0.6509 - val_rmse: 0.9402 - val_mse: 0.8840\n",
      "Epoch 63/100\n",
      "4537/4539 [============================>.] - ETA: 0s - loss: 0.8407 - mae: 0.6500 - rmse: 0.9169 - mse: 0.8407\n",
      "Epoch 63: saving model to models\\postDecomp_multivar_epoch_63.h5\n",
      "4539/4539 [==============================] - 64s 14ms/step - loss: 0.8407 - mae: 0.6500 - rmse: 0.9169 - mse: 0.8407 - val_loss: 0.8825 - val_mae: 0.6524 - val_rmse: 0.9394 - val_mse: 0.8825\n",
      "Epoch 64/100\n",
      "4536/4539 [============================>.] - ETA: 0s - loss: 0.8416 - mae: 0.6505 - rmse: 0.9174 - mse: 0.8416\n",
      "Epoch 64: saving model to models\\postDecomp_multivar_epoch_64.h5\n",
      "4539/4539 [==============================] - 64s 14ms/step - loss: 0.8416 - mae: 0.6505 - rmse: 0.9174 - mse: 0.8416 - val_loss: 0.8812 - val_mae: 0.6605 - val_rmse: 0.9387 - val_mse: 0.8812\n",
      "Epoch 65/100\n",
      "4535/4539 [============================>.] - ETA: 0s - loss: 0.8418 - mae: 0.6507 - rmse: 0.9175 - mse: 0.8418\n",
      "Epoch 65: saving model to models\\postDecomp_multivar_epoch_65.h5\n",
      "4539/4539 [==============================] - 64s 14ms/step - loss: 0.8418 - mae: 0.6507 - rmse: 0.9175 - mse: 0.8418 - val_loss: 0.8822 - val_mae: 0.6625 - val_rmse: 0.9393 - val_mse: 0.8822\n",
      "Epoch 66/100\n",
      "4535/4539 [============================>.] - ETA: 0s - loss: 0.8415 - mae: 0.6508 - rmse: 0.9173 - mse: 0.8415\n",
      "Epoch 66: saving model to models\\postDecomp_multivar_epoch_66.h5\n",
      "4539/4539 [==============================] - 64s 14ms/step - loss: 0.8414 - mae: 0.6507 - rmse: 0.9173 - mse: 0.8414 - val_loss: 0.8801 - val_mae: 0.6576 - val_rmse: 0.9381 - val_mse: 0.8801\n"
     ]
    },
    {
     "name": "stdout",
     "output_type": "stream",
     "text": [
      "Epoch 67/100\n",
      "4537/4539 [============================>.] - ETA: 0s - loss: 0.8417 - mae: 0.6505 - rmse: 0.9175 - mse: 0.8417\n",
      "Epoch 67: saving model to models\\postDecomp_multivar_epoch_67.h5\n",
      "4539/4539 [==============================] - 64s 14ms/step - loss: 0.8417 - mae: 0.6505 - rmse: 0.9174 - mse: 0.8417 - val_loss: 0.8837 - val_mae: 0.6645 - val_rmse: 0.9400 - val_mse: 0.8837\n",
      "Epoch 68/100\n",
      "4536/4539 [============================>.] - ETA: 0s - loss: 0.8426 - mae: 0.6509 - rmse: 0.9179 - mse: 0.8426\n",
      "Epoch 68: saving model to models\\postDecomp_multivar_epoch_68.h5\n",
      "4539/4539 [==============================] - 64s 14ms/step - loss: 0.8424 - mae: 0.6509 - rmse: 0.9178 - mse: 0.8424 - val_loss: 0.8850 - val_mae: 0.6595 - val_rmse: 0.9408 - val_mse: 0.8850\n",
      "Epoch 69/100\n",
      "4535/4539 [============================>.] - ETA: 0s - loss: 0.8421 - mae: 0.6508 - rmse: 0.9176 - mse: 0.8421\n",
      "Epoch 69: saving model to models\\postDecomp_multivar_epoch_69.h5\n",
      "4539/4539 [==============================] - 64s 14ms/step - loss: 0.8424 - mae: 0.6509 - rmse: 0.9178 - mse: 0.8424 - val_loss: 0.8840 - val_mae: 0.6700 - val_rmse: 0.9402 - val_mse: 0.8840\n",
      "Epoch 70/100\n",
      "4539/4539 [==============================] - ETA: 0s - loss: 0.8423 - mae: 0.6509 - rmse: 0.9178 - mse: 0.8423\n",
      "Epoch 70: saving model to models\\postDecomp_multivar_epoch_70.h5\n",
      "4539/4539 [==============================] - 64s 14ms/step - loss: 0.8423 - mae: 0.6509 - rmse: 0.9178 - mse: 0.8423 - val_loss: 0.8823 - val_mae: 0.6677 - val_rmse: 0.9393 - val_mse: 0.8823\n",
      "Epoch 71/100\n",
      "4537/4539 [============================>.] - ETA: 0s - loss: 0.8410 - mae: 0.6503 - rmse: 0.9171 - mse: 0.8410\n",
      "Epoch 71: saving model to models\\postDecomp_multivar_epoch_71.h5\n",
      "4539/4539 [==============================] - 64s 14ms/step - loss: 0.8409 - mae: 0.6502 - rmse: 0.9170 - mse: 0.8409 - val_loss: 0.8816 - val_mae: 0.6557 - val_rmse: 0.9390 - val_mse: 0.8816\n",
      "Epoch 72/100\n",
      "4535/4539 [============================>.] - ETA: 0s - loss: 0.8409 - mae: 0.6502 - rmse: 0.9170 - mse: 0.8409\n",
      "Epoch 72: saving model to models\\postDecomp_multivar_epoch_72.h5\n",
      "4539/4539 [==============================] - 64s 14ms/step - loss: 0.8408 - mae: 0.6502 - rmse: 0.9169 - mse: 0.8408 - val_loss: 0.8839 - val_mae: 0.6574 - val_rmse: 0.9402 - val_mse: 0.8839\n",
      "Epoch 73/100\n",
      "4536/4539 [============================>.] - ETA: 0s - loss: 0.8421 - mae: 0.6509 - rmse: 0.9177 - mse: 0.8421\n",
      "Epoch 73: saving model to models\\postDecomp_multivar_epoch_73.h5\n",
      "4539/4539 [==============================] - 64s 14ms/step - loss: 0.8422 - mae: 0.6509 - rmse: 0.9177 - mse: 0.8422 - val_loss: 0.8828 - val_mae: 0.6618 - val_rmse: 0.9396 - val_mse: 0.8828\n",
      "Epoch 74/100\n",
      "4538/4539 [============================>.] - ETA: 0s - loss: 0.8429 - mae: 0.6514 - rmse: 0.9181 - mse: 0.8429\n",
      "Epoch 74: saving model to models\\postDecomp_multivar_epoch_74.h5\n",
      "4539/4539 [==============================] - 64s 14ms/step - loss: 0.8429 - mae: 0.6514 - rmse: 0.9181 - mse: 0.8429 - val_loss: 0.8856 - val_mae: 0.6533 - val_rmse: 0.9411 - val_mse: 0.8856\n",
      "Epoch 75/100\n",
      "4535/4539 [============================>.] - ETA: 0s - loss: 0.8428 - mae: 0.6510 - rmse: 0.9180 - mse: 0.8428\n",
      "Epoch 75: saving model to models\\postDecomp_multivar_epoch_75.h5\n",
      "4539/4539 [==============================] - 64s 14ms/step - loss: 0.8429 - mae: 0.6510 - rmse: 0.9181 - mse: 0.8429 - val_loss: 0.8827 - val_mae: 0.6609 - val_rmse: 0.9395 - val_mse: 0.8827\n",
      "Epoch 76/100\n",
      "4538/4539 [============================>.] - ETA: 0s - loss: 0.8428 - mae: 0.6512 - rmse: 0.9181 - mse: 0.8428\n",
      "Epoch 76: saving model to models\\postDecomp_multivar_epoch_76.h5\n",
      "4539/4539 [==============================] - 64s 14ms/step - loss: 0.8428 - mae: 0.6512 - rmse: 0.9181 - mse: 0.8428 - val_loss: 0.8821 - val_mae: 0.6559 - val_rmse: 0.9392 - val_mse: 0.8821\n",
      "Epoch 77/100\n",
      "4536/4539 [============================>.] - ETA: 0s - loss: 0.8413 - mae: 0.6505 - rmse: 0.9172 - mse: 0.8413\n",
      "Epoch 77: saving model to models\\postDecomp_multivar_epoch_77.h5\n",
      "4539/4539 [==============================] - 64s 14ms/step - loss: 0.8413 - mae: 0.6505 - rmse: 0.9172 - mse: 0.8413 - val_loss: 0.8823 - val_mae: 0.6535 - val_rmse: 0.9393 - val_mse: 0.8823\n",
      "Epoch 78/100\n",
      "4538/4539 [============================>.] - ETA: 0s - loss: 0.8434 - mae: 0.6517 - rmse: 0.9184 - mse: 0.8434\n",
      "Epoch 78: saving model to models\\postDecomp_multivar_epoch_78.h5\n",
      "4539/4539 [==============================] - 64s 14ms/step - loss: 0.8434 - mae: 0.6517 - rmse: 0.9184 - mse: 0.8434 - val_loss: 0.8836 - val_mae: 0.6603 - val_rmse: 0.9400 - val_mse: 0.8836\n",
      "Epoch 79/100\n",
      "4538/4539 [============================>.] - ETA: 0s - loss: 0.8475 - mae: 0.6538 - rmse: 0.9206 - mse: 0.8475\n",
      "Epoch 79: saving model to models\\postDecomp_multivar_epoch_79.h5\n",
      "4539/4539 [==============================] - 64s 14ms/step - loss: 0.8475 - mae: 0.6538 - rmse: 0.9206 - mse: 0.8475 - val_loss: 0.8908 - val_mae: 0.6672 - val_rmse: 0.9438 - val_mse: 0.8908\n",
      "Epoch 80/100\n",
      "4535/4539 [============================>.] - ETA: 0s - loss: 0.8519 - mae: 0.6565 - rmse: 0.9230 - mse: 0.8519\n",
      "Epoch 80: saving model to models\\postDecomp_multivar_epoch_80.h5\n",
      "4539/4539 [==============================] - 64s 14ms/step - loss: 0.8518 - mae: 0.6565 - rmse: 0.9229 - mse: 0.8518 - val_loss: 0.8944 - val_mae: 0.6622 - val_rmse: 0.9457 - val_mse: 0.8944\n",
      "Epoch 81/100\n",
      "4536/4539 [============================>.] - ETA: 0s - loss: 0.8516 - mae: 0.6562 - rmse: 0.9228 - mse: 0.8516\n",
      "Epoch 81: saving model to models\\postDecomp_multivar_epoch_81.h5\n",
      "4539/4539 [==============================] - 64s 14ms/step - loss: 0.8515 - mae: 0.6562 - rmse: 0.9227 - mse: 0.8515 - val_loss: 0.8939 - val_mae: 0.6620 - val_rmse: 0.9454 - val_mse: 0.8939\n",
      "Epoch 82/100\n",
      "4537/4539 [============================>.] - ETA: 0s - loss: 0.8494 - mae: 0.6552 - rmse: 0.9216 - mse: 0.8494\n",
      "Epoch 82: saving model to models\\postDecomp_multivar_epoch_82.h5\n",
      "4539/4539 [==============================] - 64s 14ms/step - loss: 0.8493 - mae: 0.6552 - rmse: 0.9216 - mse: 0.8493 - val_loss: 0.8900 - val_mae: 0.6663 - val_rmse: 0.9434 - val_mse: 0.8900\n",
      "Epoch 83/100\n",
      "4535/4539 [============================>.] - ETA: 0s - loss: 0.8492 - mae: 0.6549 - rmse: 0.9215 - mse: 0.8492\n",
      "Epoch 83: saving model to models\\postDecomp_multivar_epoch_83.h5\n",
      "4539/4539 [==============================] - 64s 14ms/step - loss: 0.8491 - mae: 0.6548 - rmse: 0.9215 - mse: 0.8491 - val_loss: 0.8900 - val_mae: 0.6607 - val_rmse: 0.9434 - val_mse: 0.8900\n",
      "Epoch 84/100\n",
      "4535/4539 [============================>.] - ETA: 0s - loss: 0.8498 - mae: 0.6552 - rmse: 0.9219 - mse: 0.8498\n",
      "Epoch 84: saving model to models\\postDecomp_multivar_epoch_84.h5\n",
      "4539/4539 [==============================] - 64s 14ms/step - loss: 0.8498 - mae: 0.6552 - rmse: 0.9219 - mse: 0.8498 - val_loss: 0.8928 - val_mae: 0.6599 - val_rmse: 0.9449 - val_mse: 0.8928\n",
      "Epoch 85/100\n",
      "4535/4539 [============================>.] - ETA: 0s - loss: 0.8489 - mae: 0.6545 - rmse: 0.9214 - mse: 0.8489\n",
      "Epoch 85: saving model to models\\postDecomp_multivar_epoch_85.h5\n",
      "4539/4539 [==============================] - 64s 14ms/step - loss: 0.8489 - mae: 0.6545 - rmse: 0.9214 - mse: 0.8489 - val_loss: 0.8893 - val_mae: 0.6702 - val_rmse: 0.9430 - val_mse: 0.8893\n",
      "Epoch 86/100\n",
      "4536/4539 [============================>.] - ETA: 0s - loss: 0.8450 - mae: 0.6521 - rmse: 0.9192 - mse: 0.8450\n",
      "Epoch 86: saving model to models\\postDecomp_multivar_epoch_86.h5\n",
      "4539/4539 [==============================] - 64s 14ms/step - loss: 0.8450 - mae: 0.6521 - rmse: 0.9192 - mse: 0.8450 - val_loss: 0.8820 - val_mae: 0.6570 - val_rmse: 0.9392 - val_mse: 0.8820\n",
      "Epoch 87/100\n",
      "4538/4539 [============================>.] - ETA: 0s - loss: 0.8410 - mae: 0.6502 - rmse: 0.9171 - mse: 0.8410\n",
      "Epoch 87: saving model to models\\postDecomp_multivar_epoch_87.h5\n",
      "4539/4539 [==============================] - 64s 14ms/step - loss: 0.8410 - mae: 0.6502 - rmse: 0.9170 - mse: 0.8410 - val_loss: 0.8810 - val_mae: 0.6574 - val_rmse: 0.9386 - val_mse: 0.8810\n",
      "Epoch 88/100\n",
      "4537/4539 [============================>.] - ETA: 0s - loss: 0.8433 - mae: 0.6518 - rmse: 0.9183 - mse: 0.8433\n",
      "Epoch 88: saving model to models\\postDecomp_multivar_epoch_88.h5\n",
      "4539/4539 [==============================] - 64s 14ms/step - loss: 0.8433 - mae: 0.6518 - rmse: 0.9183 - mse: 0.8433 - val_loss: 0.8879 - val_mae: 0.6595 - val_rmse: 0.9423 - val_mse: 0.8879\n"
     ]
    },
    {
     "name": "stdout",
     "output_type": "stream",
     "text": [
      "Epoch 89/100\n",
      "4537/4539 [============================>.] - ETA: 0s - loss: 0.8441 - mae: 0.6522 - rmse: 0.9187 - mse: 0.8441\n",
      "Epoch 89: saving model to models\\postDecomp_multivar_epoch_89.h5\n",
      "4539/4539 [==============================] - 64s 14ms/step - loss: 0.8441 - mae: 0.6522 - rmse: 0.9188 - mse: 0.8441 - val_loss: 0.8856 - val_mae: 0.6569 - val_rmse: 0.9411 - val_mse: 0.8856\n",
      "Epoch 90/100\n",
      "4537/4539 [============================>.] - ETA: 0s - loss: 0.8444 - mae: 0.6522 - rmse: 0.9189 - mse: 0.8444\n",
      "Epoch 90: saving model to models\\postDecomp_multivar_epoch_90.h5\n",
      "4539/4539 [==============================] - 64s 14ms/step - loss: 0.8444 - mae: 0.6522 - rmse: 0.9189 - mse: 0.8444 - val_loss: 0.8852 - val_mae: 0.6639 - val_rmse: 0.9408 - val_mse: 0.8852\n",
      "Epoch 91/100\n",
      "4537/4539 [============================>.] - ETA: 0s - loss: 0.8448 - mae: 0.6522 - rmse: 0.9191 - mse: 0.8448\n",
      "Epoch 91: saving model to models\\postDecomp_multivar_epoch_91.h5\n",
      "4539/4539 [==============================] - 64s 14ms/step - loss: 0.8449 - mae: 0.6522 - rmse: 0.9192 - mse: 0.8449 - val_loss: 0.8917 - val_mae: 0.6541 - val_rmse: 0.9443 - val_mse: 0.8917\n",
      "Epoch 92/100\n",
      "4535/4539 [============================>.] - ETA: 0s - loss: 0.8483 - mae: 0.6545 - rmse: 0.9211 - mse: 0.8483\n",
      "Epoch 92: saving model to models\\postDecomp_multivar_epoch_92.h5\n",
      "4539/4539 [==============================] - 64s 14ms/step - loss: 0.8482 - mae: 0.6545 - rmse: 0.9210 - mse: 0.8482 - val_loss: 0.8883 - val_mae: 0.6629 - val_rmse: 0.9425 - val_mse: 0.8883\n",
      "Epoch 93/100\n",
      "4538/4539 [============================>.] - ETA: 0s - loss: 0.8478 - mae: 0.6539 - rmse: 0.9208 - mse: 0.8478\n",
      "Epoch 93: saving model to models\\postDecomp_multivar_epoch_93.h5\n",
      "4539/4539 [==============================] - 64s 14ms/step - loss: 0.8478 - mae: 0.6539 - rmse: 0.9208 - mse: 0.8478 - val_loss: 0.8908 - val_mae: 0.6655 - val_rmse: 0.9438 - val_mse: 0.8908\n",
      "Epoch 94/100\n",
      "4536/4539 [============================>.] - ETA: 0s - loss: 0.8480 - mae: 0.6541 - rmse: 0.9209 - mse: 0.8480\n",
      "Epoch 94: saving model to models\\postDecomp_multivar_epoch_94.h5\n",
      "4539/4539 [==============================] - 64s 14ms/step - loss: 0.8479 - mae: 0.6541 - rmse: 0.9208 - mse: 0.8479 - val_loss: 0.8890 - val_mae: 0.6639 - val_rmse: 0.9429 - val_mse: 0.8890\n",
      "Epoch 95/100\n",
      "4536/4539 [============================>.] - ETA: 0s - loss: 0.8473 - mae: 0.6536 - rmse: 0.9205 - mse: 0.8473\n",
      "Epoch 95: saving model to models\\postDecomp_multivar_epoch_95.h5\n",
      "4539/4539 [==============================] - 64s 14ms/step - loss: 0.8474 - mae: 0.6536 - rmse: 0.9205 - mse: 0.8474 - val_loss: 0.8882 - val_mae: 0.6625 - val_rmse: 0.9425 - val_mse: 0.8882\n",
      "Epoch 96/100\n",
      "4536/4539 [============================>.] - ETA: 0s - loss: 0.8449 - mae: 0.6523 - rmse: 0.9192 - mse: 0.8449\n",
      "Epoch 96: saving model to models\\postDecomp_multivar_epoch_96.h5\n",
      "4539/4539 [==============================] - 64s 14ms/step - loss: 0.8449 - mae: 0.6523 - rmse: 0.9192 - mse: 0.8449 - val_loss: 0.8857 - val_mae: 0.6646 - val_rmse: 0.9411 - val_mse: 0.8857\n",
      "Epoch 97/100\n",
      "4538/4539 [============================>.] - ETA: 0s - loss: 0.8426 - mae: 0.6511 - rmse: 0.9179 - mse: 0.8426\n",
      "Epoch 97: saving model to models\\postDecomp_multivar_epoch_97.h5\n",
      "4539/4539 [==============================] - 64s 14ms/step - loss: 0.8426 - mae: 0.6511 - rmse: 0.9179 - mse: 0.8426 - val_loss: 0.8849 - val_mae: 0.6639 - val_rmse: 0.9407 - val_mse: 0.8849\n",
      "Epoch 98/100\n",
      "4536/4539 [============================>.] - ETA: 0s - loss: 0.8416 - mae: 0.6509 - rmse: 0.9174 - mse: 0.8416\n",
      "Epoch 98: saving model to models\\postDecomp_multivar_epoch_98.h5\n",
      "4539/4539 [==============================] - 64s 14ms/step - loss: 0.8414 - mae: 0.6509 - rmse: 0.9173 - mse: 0.8414 - val_loss: 0.8840 - val_mae: 0.6649 - val_rmse: 0.9402 - val_mse: 0.8840\n",
      "Epoch 99/100\n",
      "4535/4539 [============================>.] - ETA: 0s - loss: 0.8426 - mae: 0.6511 - rmse: 0.9180 - mse: 0.8426\n",
      "Epoch 99: saving model to models\\postDecomp_multivar_epoch_99.h5\n",
      "4539/4539 [==============================] - 64s 14ms/step - loss: 0.8425 - mae: 0.6510 - rmse: 0.9179 - mse: 0.8425 - val_loss: 0.8852 - val_mae: 0.6606 - val_rmse: 0.9409 - val_mse: 0.8852\n",
      "Epoch 100/100\n",
      "4537/4539 [============================>.] - ETA: 0s - loss: 0.8434 - mae: 0.6515 - rmse: 0.9184 - mse: 0.8434\n",
      "Epoch 100: saving model to models\\postDecomp_multivar_epoch_100.h5\n",
      "4539/4539 [==============================] - 64s 14ms/step - loss: 0.8433 - mae: 0.6515 - rmse: 0.9183 - mse: 0.8433 - val_loss: 0.8894 - val_mae: 0.6570 - val_rmse: 0.9431 - val_mse: 0.8894\n",
      "1514/1514 [==============================] - 6s 4ms/step - loss: 0.8713 - mae: 0.6556 - rmse: 0.9335 - mse: 0.8713\n",
      "Test RMSE = 0.93   |   MAE = 0.66\n"
     ]
    }
   ],
   "source": [
    "#  Create a checkpoint callback\n",
    "ckpt = tf.keras.callbacks.ModelCheckpoint(\n",
    "    filepath='models/postDecomp_multivar_epoch_{epoch:02d}.h5',\n",
    "    save_freq='epoch',                        # save after each epoch\n",
    "    save_weights_only=False,                  # save the entire model (architecture + weights + optimizer state)\n",
    "    verbose=1)\n",
    "\n",
    "history_after = model_after.fit(\n",
    "    ds_train_after,\n",
    "    epochs=100,\n",
    "    # Validation is used to determine if model is overfitting\n",
    "    validation_data=ds_val_after,\n",
    "    callbacks=[ckpt],\n",
    "    verbose=1\n",
    ")\n",
    "\n",
    "results = model_after.evaluate(ds_test_after, return_dict=True)\n",
    "print(f\"Test RMSE = {results['rmse']:.2f}   |   MAE = {results['mae']:.2f}\")"
   ]
  },
  {
   "cell_type": "code",
   "execution_count": 58,
   "id": "2dba84e1",
   "metadata": {
    "colab": {
     "base_uri": "https://localhost:8080/"
    },
    "id": "aPhIh3THUT5I",
    "outputId": "ba185ed0-e338-492d-db9f-c78820c321c8"
   },
   "outputs": [
    {
     "name": "stdout",
     "output_type": "stream",
     "text": [
      "Test MSE  = 4022.36 (mg/dL)^2\n",
      "Test RMSE = 63.42 mg/dL\n",
      "Test MAE  = 44.11 mg/dL\n",
      "Test R^2  = -0.1221\n"
     ]
    }
   ],
   "source": [
    "y_pred_z = model_after.predict(ds_test_after, verbose=0).ravel()   # z-scores\n",
    "y_true_z = y_test_after\n",
    "\n",
    "# inverse-transform back to mg/dL\n",
    "y_pred_after = y_pred_z * std_glu_after + mu_glu_after\n",
    "y_true_after = y_true_z * std_glu_after + mu_glu_after\n",
    "\n",
    "# metrics in true units\n",
    "mse  = np.mean((y_true - y_pred) ** 2)    \n",
    "rmse = np.sqrt(mse)\n",
    "mae  = np.mean(np.abs(y_true - y_pred))\n",
    "r2 = r2_score(y_true, y_pred)\n",
    "\n",
    "print(f\"Test MSE  = {mse :.2f} (mg/dL)^2\")\n",
    "print(f\"Test RMSE = {rmse:.2f} mg/dL\")\n",
    "print(f\"Test MAE  = {mae :.2f} mg/dL\")\n",
    "print(f\"Test R^2  = {r2:.4f}\")"
   ]
  },
  {
   "cell_type": "markdown",
   "id": "bcefc397",
   "metadata": {},
   "source": [
    "# Post-Decompensation Classification Metrics\n",
    "\n",
    "Below we convert to classification metrics for the post-decompensation model so we can compare to other models."
   ]
  },
  {
   "cell_type": "code",
   "execution_count": 84,
   "id": "6e973a75",
   "metadata": {},
   "outputs": [],
   "source": [
    "y_pred_after_z = model_after.predict(ds_test_after, verbose=0).ravel()   # z-scores\n",
    "y_true_after_z = y_test_after\n",
    "mu_glu_after, std_glu_after = SCALERS_AFTER[1]          # index 1 is BG scale values\n",
    "\n",
    "# inverse-transform back to mg/dL\n",
    "y_pred_after = y_pred_after_z * std_glu_after + mu_glu_after\n",
    "y_true_after = y_true_after_z * std_glu_after + mu_glu_after"
   ]
  },
  {
   "cell_type": "code",
   "execution_count": 85,
   "id": "92ceb56d",
   "metadata": {},
   "outputs": [],
   "source": [
    "y_pred_class = convert_categorical(y_pred_after)\n",
    "y_true_class = convert_categorical(y_true_after)"
   ]
  },
  {
   "cell_type": "code",
   "execution_count": 86,
   "id": "d8b9d2ad",
   "metadata": {},
   "outputs": [],
   "source": [
    "le = LabelEncoder()\n",
    "y_true_encoded = le.fit_transform(y_true_class)  # e.g. 'Hypo'=0, 'Normal'=1, 'Hyper'=2\n",
    "y_pred_encoded = le.transform(y_pred_class)"
   ]
  },
  {
   "cell_type": "code",
   "execution_count": 87,
   "id": "a9d81d2f",
   "metadata": {},
   "outputs": [
    {
     "name": "stdout",
     "output_type": "stream",
     "text": [
      "              precision    recall  f1-score   support\n",
      "\n",
      "       Hyper       0.43      0.01      0.01     19608\n",
      "        Hypo       1.00      0.00      0.00      1064\n",
      "      Normal       0.79      1.00      0.88     76191\n",
      "\n",
      "    accuracy                           0.79     96863\n",
      "   macro avg       0.74      0.33      0.30     96863\n",
      "weighted avg       0.72      0.79      0.69     96863\n",
      "\n",
      "Confusion Matrix:\n",
      " [[  108     0 19500]\n",
      " [    2     1  1061]\n",
      " [  139     0 76052]]\n"
     ]
    }
   ],
   "source": [
    "# Full classification metrics\n",
    "print(classification_report(y_true_encoded, y_pred_encoded, target_names=le.classes_))\n",
    "\n",
    "# Confusion matrix\n",
    "cm = confusion_matrix(y_true_encoded, y_pred_encoded)\n",
    "print(\"Confusion Matrix:\\n\", cm)"
   ]
  },
  {
   "cell_type": "code",
   "execution_count": 88,
   "id": "f528a4ae",
   "metadata": {},
   "outputs": [
    {
     "name": "stdout",
     "output_type": "stream",
     "text": [
      "Macro-average AUC-ROC: 0.5014\n"
     ]
    }
   ],
   "source": [
    "# One-hot encode\n",
    "y_true_bin = label_binarize(y_true_encoded, classes=[0,1,2])\n",
    "y_pred_bin = label_binarize(y_pred_encoded, classes=[0,1,2])\n",
    "\n",
    "# Macro-average AUC\n",
    "auc_macro = roc_auc_score(y_true_bin, y_pred_bin, average='macro', multi_class='ovo')\n",
    "print(f\"Macro-average AUC-ROC: {auc_macro:.4f}\")"
   ]
  },
  {
   "cell_type": "markdown",
   "id": "b7bab0ba",
   "metadata": {},
   "source": [
    "## Testing pre-decompensation and post-decompensation models as one system\n",
    "\n",
    "Below we test both pre-decompensation and post-decompensation models as if they were a conjoined system. So if a patient had a dysglycemic event previously, the post-decompensation model would be used. If no previous dysglycemic event occurred (in an ICU stay), then a pre-decompensation model would be used."
   ]
  },
  {
   "cell_type": "code",
   "execution_count": 64,
   "id": "c04a1810",
   "metadata": {},
   "outputs": [],
   "source": [
    "# Pre-decompensation test results\n",
    "y_pred_before_z = model_before.predict(ds_test_before, verbose=0).ravel()   # z-scores\n",
    "y_true_before_z = y_test_before\n",
    "mu_glu_before, std_glu_before = SCALERS_BEFORE[1]          # index 1 is BG scale values\n",
    "\n",
    "# inverse-transform back to mg/dL\n",
    "y_pred_before = y_pred_before_z * std_glu_before + mu_glu_before\n",
    "y_true_before = y_true_before_z * std_glu_before + mu_glu_before\n",
    "\n",
    "# Post-decompensation test results\n",
    "y_pred_after_z = model_after.predict(ds_test_after, verbose=0).ravel()   # z-scores\n",
    "y_true_after_z = y_test_after\n",
    "mu_glu_after, std_glu_after = SCALERS_AFTER[1]          # index 1 is BG scale values\n",
    "\n",
    "# inverse-transform back to mg/dL\n",
    "y_pred_after = y_pred_after_z * std_glu_after + mu_glu_after\n",
    "y_true_after = y_true_after_z * std_glu_after + mu_glu_after"
   ]
  },
  {
   "cell_type": "markdown",
   "id": "950a17fe",
   "metadata": {},
   "source": [
    "Below we combine the results so we can run testing metrics on them."
   ]
  },
  {
   "cell_type": "code",
   "execution_count": 65,
   "id": "22a7a660",
   "metadata": {},
   "outputs": [],
   "source": [
    "y_pred = np.hstack([y_pred_before, y_pred_after])\n",
    "y_true = np.hstack([y_true_before, y_true_after])"
   ]
  },
  {
   "cell_type": "code",
   "execution_count": 66,
   "id": "482d6bb4",
   "metadata": {
    "scrolled": true
   },
   "outputs": [
    {
     "name": "stdout",
     "output_type": "stream",
     "text": [
      "Test MSE  = 3104.24 (mg/dL)^2\n",
      "Test RMSE = 55.72 mg/dL\n",
      "Test MAE  = 37.19 mg/dL\n",
      "Test R^2  = 0.0292\n"
     ]
    }
   ],
   "source": [
    "mse  = np.mean((y_true - y_pred) ** 2)    \n",
    "rmse = np.sqrt(mse)\n",
    "mae  = np.mean(np.abs(y_true - y_pred))\n",
    "r2 = r2_score(y_true, y_pred)\n",
    "\n",
    "print(f\"Test MSE  = {mse :.2f} (mg/dL)^2\")\n",
    "print(f\"Test RMSE = {rmse:.2f} mg/dL\")\n",
    "print(f\"Test MAE  = {mae :.2f} mg/dL\")\n",
    "print(f\"Test R^2  = {r2:.4f}\")"
   ]
  },
  {
   "cell_type": "markdown",
   "id": "5de694c8",
   "metadata": {},
   "source": [
    "#### Classification Metrics for combined model"
   ]
  },
  {
   "cell_type": "code",
   "execution_count": 90,
   "id": "8abf9ae6",
   "metadata": {},
   "outputs": [
    {
     "name": "stdout",
     "output_type": "stream",
     "text": [
      "              precision    recall  f1-score   support\n",
      "\n",
      "       Hyper       0.43      0.00      0.01     24747\n",
      "        Hypo       1.00      0.00      0.00      1424\n",
      "      Normal       0.82      1.00      0.90    116657\n",
      "\n",
      "    accuracy                           0.82    142828\n",
      "   macro avg       0.75      0.33      0.30    142828\n",
      "weighted avg       0.75      0.82      0.74    142828\n",
      "\n",
      "Confusion Matrix:\n",
      " [[   110      0  24637]\n",
      " [     2      1   1421]\n",
      " [   144      0 116513]]\n",
      "\n",
      "Macro-average AUC-ROC: 0.5012\n"
     ]
    }
   ],
   "source": [
    "y_pred_class = convert_categorical(y_pred)\n",
    "y_true_class = convert_categorical(y_true)\n",
    "\n",
    "le = LabelEncoder()\n",
    "y_true_encoded = le.fit_transform(y_true_class)  # e.g. 'Hypo'=0, 'Normal'=1, 'Hyper'=2\n",
    "y_pred_encoded = le.transform(y_pred_class)\n",
    "\n",
    "# Full classification metrics\n",
    "print(classification_report(y_true_encoded, y_pred_encoded, target_names=le.classes_))\n",
    "\n",
    "# Confusion matrix\n",
    "cm = confusion_matrix(y_true_encoded, y_pred_encoded)\n",
    "print(\"Confusion Matrix:\\n\", cm)\n",
    "\n",
    "# One-hot encode\n",
    "y_true_bin = label_binarize(y_true_encoded, classes=[0,1,2])\n",
    "y_pred_bin = label_binarize(y_pred_encoded, classes=[0,1,2])\n",
    "\n",
    "# Macro-average AUC\n",
    "auc_macro = roc_auc_score(y_true_bin, y_pred_bin, average='macro', multi_class='ovo')\n",
    "print(f\"\\nMacro-average AUC-ROC: {auc_macro:.4f}\")"
   ]
  },
  {
   "cell_type": "markdown",
   "id": "39d07d11-f6ed-4597-9b1a-5278f7f5ca23",
   "metadata": {},
   "source": [
    "# Hyperparameter tuning"
   ]
  },
  {
   "cell_type": "markdown",
   "id": "6855f9a3",
   "metadata": {},
   "source": [
    "Below we experiment with some hyperparameter tuning for the LSTM model."
   ]
  },
  {
   "cell_type": "code",
   "execution_count": 8,
   "id": "5c32071b-3e96-406a-8b5a-d4a580b893a9",
   "metadata": {},
   "outputs": [],
   "source": [
    "train_path = 'Pickles/split_before_glu_train.pkl.gz'\n",
    "with gzip.open(train_path, 'rb') as f:\n",
    "    train_data = pickle.load(f)\n",
    "\n",
    "X_train_gs = train_data['X_train']\n",
    "y_train_gs = train_data['y_train']\n",
    "SCALERS_GS  = train_data['scalers']"
   ]
  },
  {
   "cell_type": "code",
   "execution_count": 9,
   "id": "64c49d3b",
   "metadata": {},
   "outputs": [],
   "source": [
    "mu_glu_gs, std_glu_gs = SCALERS_GS[GLU_IDX]          "
   ]
  },
  {
   "cell_type": "code",
   "execution_count": 10,
   "id": "944cccde-11f5-47b6-94fc-dc942fbe8b82",
   "metadata": {},
   "outputs": [],
   "source": [
    "def build_model(lstm_units=64, dense_units=32, learning_rate=0.001):\n",
    "    model = tf.keras.Sequential([\n",
    "        tf.keras.layers.Masking(mask_value=SENTINEL, input_shape=(L, F)),\n",
    "        tf.keras.layers.LSTM(lstm_units),\n",
    "        tf.keras.layers.Dense(dense_units, activation='relu'),\n",
    "        tf.keras.layers.Dense(1)\n",
    "    ])\n",
    "    optimizer = tf.keras.optimizers.Adam(learning_rate=learning_rate)\n",
    "    model.compile(loss='mse', optimizer=optimizer, metrics=['mae', RootMeanSquaredError(name='rmse'), 'mse'])\n",
    "    return model"
   ]
  },
  {
   "cell_type": "code",
   "execution_count": 10,
   "id": "b3f0d750-39e1-4165-aa38-66d8dc755014",
   "metadata": {},
   "outputs": [
    {
     "name": "stderr",
     "output_type": "stream",
     "text": [
      "C:\\Users\\Mashal\\AppData\\Local\\Temp\\ipykernel_27412\\725283007.py:1: DeprecationWarning: KerasRegressor is deprecated, use Sci-Keras (https://github.com/adriangb/scikeras) instead. See https://www.adriangb.com/scikeras/stable/migration.html for help migrating.\n",
      "  reg = KerasRegressor(build_fn=build_model, epochs=10, batch_size=32, verbose=0)\n"
     ]
    }
   ],
   "source": [
    "reg = KerasRegressor(build_fn=build_model, epochs=10, batch_size=32, verbose=0)\n",
    "\n",
    "param_grid = {\n",
    "    'lstm_units': [32, 64],\n",
    "    'dense_units': [16, 32],\n",
    "    'learning_rate': [0.001, 0.0001, 0.0005],\n",
    "}"
   ]
  },
  {
   "cell_type": "code",
   "execution_count": 11,
   "id": "976a5f80-9113-4a82-b6c7-8b8f6e4cc7e0",
   "metadata": {},
   "outputs": [],
   "source": [
    "grid = GridSearchCV(estimator=reg, param_grid=param_grid, scoring='neg_mean_squared_error', cv=3)\n",
    "grid_result = grid.fit(X_train_gs, y_train_gs)"
   ]
  },
  {
   "cell_type": "code",
   "execution_count": 12,
   "id": "19b089d1",
   "metadata": {},
   "outputs": [
    {
     "name": "stdout",
     "output_type": "stream",
     "text": [
      "Best Params: {'dense_units': 32, 'learning_rate': 0.001, 'lstm_units': 64}\n",
      "Best RMSE (sqrt of neg-MSE): 35.992317032825504\n"
     ]
    }
   ],
   "source": [
    "print(\"Best Params:\", grid_result.best_params_)\n",
    "print(\"Best RMSE (sqrt of neg-MSE):\", (-grid_result.best_score_) ** 0.5 * std_glu_gs)"
   ]
  },
  {
   "cell_type": "code",
   "execution_count": 11,
   "id": "582956cc",
   "metadata": {},
   "outputs": [],
   "source": [
    "param_grid = {\n",
    "    'lstm_units': [128, 256],\n",
    "    'dense_units': [32, 64, 128],\n",
    "    'learning_rate': [0.001],\n",
    "}"
   ]
  },
  {
   "cell_type": "code",
   "execution_count": 12,
   "id": "c731531f",
   "metadata": {},
   "outputs": [],
   "source": [
    "grid2 = GridSearchCV(estimator=reg, param_grid=param_grid, scoring='neg_mean_squared_error', cv=3)\n",
    "grid_result2 = grid2.fit(X_train_gs, y_train_gs)"
   ]
  },
  {
   "cell_type": "code",
   "execution_count": 13,
   "id": "08fa6e15",
   "metadata": {},
   "outputs": [
    {
     "name": "stdout",
     "output_type": "stream",
     "text": [
      "Best Params: {'dense_units': 32, 'learning_rate': 0.001, 'lstm_units': 256}\n",
      "Best RMSE (sqrt of neg-MSE): 35.97127904800289\n"
     ]
    }
   ],
   "source": [
    "print(\"Best Params:\", grid_result2.best_params_)\n",
    "print(\"Best RMSE (sqrt of neg-MSE):\", (-grid_result2.best_score_) ** 0.5 * std_glu_gs)"
   ]
  },
  {
   "cell_type": "markdown",
   "id": "4d39b0ce-d392-422d-acdd-e845e12ba953",
   "metadata": {},
   "source": [
    "### Below we test the best gridsearch model on the full dataset"
   ]
  },
  {
   "cell_type": "code",
   "execution_count": 11,
   "id": "caf2c13b-d448-4985-8554-6f7d46276a78",
   "metadata": {},
   "outputs": [],
   "source": [
    "model_gs = build_model(256, 32, 0.001)"
   ]
  },
  {
   "cell_type": "code",
   "execution_count": 12,
   "id": "bbcb67fb-01ae-43ef-8ec2-bf16ddb2dcfb",
   "metadata": {},
   "outputs": [],
   "source": [
    "test_path = 'Pickles/filtered_glu_test.pkl.gz'\n",
    "with gzip.open(test_path, 'rb') as f:\n",
    "    train_data = pickle.load(f)\n",
    "\n",
    "X_test_gs = train_data['X_test']\n",
    "y_test_gs = train_data['y_test']"
   ]
  },
  {
   "cell_type": "code",
   "execution_count": 13,
   "id": "561503b6-29cf-418f-9c51-25d233d575f8",
   "metadata": {},
   "outputs": [],
   "source": [
    "ds_test_gs  = make_ds(X_test_gs,  y_test_gs,  shuffle=False)\n",
    "ds_train_gs  = make_ds(X_train_gs,  y_train_gs,  shuffle=False)"
   ]
  },
  {
   "cell_type": "code",
   "execution_count": 16,
   "id": "532f26f1-2291-4b07-b9f8-3a4fcace04f8",
   "metadata": {},
   "outputs": [
    {
     "name": "stdout",
     "output_type": "stream",
     "text": [
      "Epoch 1/10\n",
      "2153/2155 [============================>.] - ETA: 0s - loss: 0.5062 - mae: 0.4597 - rmse: 0.7115 - mse: 0.5062     \n",
      "Epoch 1: saving model to models\\preDecomp_gs_epoch_01.h5\n",
      "2155/2155 [==============================] - 30s 13ms/step - loss: 0.5062 - mae: 0.4598 - rmse: 0.7115 - mse: 0.5062\n",
      "Epoch 2/10\n",
      "2153/2155 [============================>.] - ETA: 0s - loss: 0.5033 - mae: 0.4579 - rmse: 0.7095 - mse: 0.5033 \n",
      "Epoch 2: saving model to models\\preDecomp_gs_epoch_02.h5\n",
      "2155/2155 [==============================] - 29s 13ms/step - loss: 0.5033 - mae: 0.4579 - rmse: 0.7095 - mse: 0.5033\n",
      "Epoch 3/10\n",
      "2153/2155 [============================>.] - ETA: 0s - loss: 0.5030 - mae: 0.4573 - rmse: 0.7092 - mse: 0.5030 \n",
      "Epoch 3: saving model to models\\preDecomp_gs_epoch_03.h5\n",
      "2155/2155 [==============================] - 29s 13ms/step - loss: 0.5030 - mae: 0.4573 - rmse: 0.7092 - mse: 0.5030\n",
      "Epoch 4/10\n",
      "2153/2155 [============================>.] - ETA: 0s - loss: 0.5020 - mae: 0.4564 - rmse: 0.7085 - mse: 0.5020 \n",
      "Epoch 4: saving model to models\\preDecomp_gs_epoch_04.h5\n",
      "2155/2155 [==============================] - 30s 14ms/step - loss: 0.5020 - mae: 0.4564 - rmse: 0.7085 - mse: 0.5020\n",
      "Epoch 5/10\n",
      "2154/2155 [============================>.] - ETA: 0s - loss: 0.5023 - mae: 0.4569 - rmse: 0.7088 - mse: 0.5023 \n",
      "Epoch 5: saving model to models\\preDecomp_gs_epoch_05.h5\n",
      "2155/2155 [==============================] - 30s 14ms/step - loss: 0.5024 - mae: 0.4570 - rmse: 0.7088 - mse: 0.5024\n",
      "Epoch 6/10\n",
      "2153/2155 [============================>.] - ETA: 0s - loss: 0.5024 - mae: 0.4566 - rmse: 0.7088 - mse: 0.5024 \n",
      "Epoch 6: saving model to models\\preDecomp_gs_epoch_06.h5\n",
      "2155/2155 [==============================] - 29s 14ms/step - loss: 0.5024 - mae: 0.4566 - rmse: 0.7088 - mse: 0.5024\n",
      "Epoch 7/10\n",
      "2154/2155 [============================>.] - ETA: 0s - loss: 0.5019 - mae: 0.4567 - rmse: 0.7085 - mse: 0.5019 \n",
      "Epoch 7: saving model to models\\preDecomp_gs_epoch_07.h5\n",
      "2155/2155 [==============================] - 29s 13ms/step - loss: 0.5020 - mae: 0.4567 - rmse: 0.7085 - mse: 0.5020\n",
      "Epoch 8/10\n",
      "2152/2155 [============================>.] - ETA: 0s - loss: 0.5023 - mae: 0.4568 - rmse: 0.7087 - mse: 0.5023 \n",
      "Epoch 8: saving model to models\\preDecomp_gs_epoch_08.h5\n",
      "2155/2155 [==============================] - 31s 15ms/step - loss: 0.5023 - mae: 0.4569 - rmse: 0.7087 - mse: 0.5023\n",
      "Epoch 9/10\n",
      "2155/2155 [==============================] - ETA: 0s - loss: 0.5024 - mae: 0.4569 - rmse: 0.7088 - mse: 0.5024 \n",
      "Epoch 9: saving model to models\\preDecomp_gs_epoch_09.h5\n",
      "2155/2155 [==============================] - 31s 14ms/step - loss: 0.5024 - mae: 0.4569 - rmse: 0.7088 - mse: 0.5024\n",
      "Epoch 10/10\n",
      "2153/2155 [============================>.] - ETA: 0s - loss: 0.5029 - mae: 0.4572 - rmse: 0.7091 - mse: 0.5029 \n",
      "Epoch 10: saving model to models\\preDecomp_gs_epoch_10.h5\n",
      "2155/2155 [==============================] - 32s 15ms/step - loss: 0.5029 - mae: 0.4572 - rmse: 0.7091 - mse: 0.5029\n",
      "1325/1325 [==============================] - 8s 5ms/step - loss: 0.8725 - mae: 0.6081 - rmse: 0.9341 - mse: 0.8725\n",
      "Test RMSE = 0.93   |   MAE = 0.61\n"
     ]
    }
   ],
   "source": [
    "#  Create a checkpoint callback\n",
    "ckpt = tf.keras.callbacks.ModelCheckpoint(\n",
    "    filepath='models/preDecomp_gs_epoch_{epoch:02d}.h5',\n",
    "    save_freq='epoch',                        # save after each epoch\n",
    "    save_weights_only=False,                  # save the entire model (architecture + weights + optimizer state)\n",
    "    verbose=1)\n",
    "\n",
    "history_after = model_gs.fit(\n",
    "    ds_train_gs,\n",
    "    epochs=10,\n",
    "    callbacks=[ckpt],\n",
    "    verbose=1\n",
    ")\n",
    "\n",
    "results = model_gs.evaluate(ds_test_gs, return_dict=True)\n",
    "print(f\"Test RMSE = {results['rmse']:.2f}   |   MAE = {results['mae']:.2f}\")"
   ]
  },
  {
   "cell_type": "code",
   "execution_count": 17,
   "id": "74dcd214-ab00-4d24-8b86-410e7406612c",
   "metadata": {},
   "outputs": [
    {
     "name": "stdout",
     "output_type": "stream",
     "text": [
      "Test MSE  = 2249.20 (mg/dL)^2\n",
      "Test RMSE = 47.43 mg/dL\n",
      "Test MAE  = 30.88 mg/dL\n",
      "Test R^2  = -0.0080\n"
     ]
    }
   ],
   "source": [
    "y_pred_z = model_gs.predict(ds_test_gs, verbose=0).ravel()   # z-scores\n",
    "y_true_z = y_test_gs\n",
    "\n",
    "mu_glu_gs, std_glu_gs = SCALERS_GS[1]          # index 1 is BG scale values\n",
    "\n",
    "# inverse-transform back to mg/dL\n",
    "y_pred_gs = y_pred_z * std_glu_gs + mu_glu_gs\n",
    "y_true_gs = y_true_z * std_glu_gs + mu_glu_gs\n",
    "\n",
    "# metrics in true units\n",
    "mse  = np.mean((y_true_gs - y_pred_gs) ** 2)    \n",
    "rmse = np.sqrt(mse)\n",
    "mae  = np.mean(np.abs(y_true_gs - y_pred_gs))\n",
    "r2 = r2_score(y_true_gs, y_pred_gs)\n",
    "\n",
    "print(f\"Test MSE  = {mse :.2f} (mg/dL)^2\")\n",
    "print(f\"Test RMSE = {rmse:.2f} mg/dL\")\n",
    "print(f\"Test MAE  = {mae :.2f} mg/dL\")\n",
    "print(f\"Test R^2  = {r2:.4f}\")"
   ]
  }
 ],
 "metadata": {
  "accelerator": "TPU",
  "colab": {
   "gpuType": "V28",
   "provenance": []
  },
  "kernelspec": {
   "display_name": "Python 3 (ipykernel)",
   "language": "python",
   "name": "python3"
  },
  "language_info": {
   "codemirror_mode": {
    "name": "ipython",
    "version": 3
   },
   "file_extension": ".py",
   "mimetype": "text/x-python",
   "name": "python",
   "nbconvert_exporter": "python",
   "pygments_lexer": "ipython3",
   "version": "3.9.13"
  }
 },
 "nbformat": 4,
 "nbformat_minor": 5
}
